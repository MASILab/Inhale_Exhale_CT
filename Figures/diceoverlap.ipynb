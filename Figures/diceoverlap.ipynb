{
 "cells": [
  {
   "cell_type": "code",
   "execution_count": 1,
   "metadata": {},
   "outputs": [],
   "source": [
    "import os \n",
    "import numpy as np \n",
    "import nibabel as nib \n",
    "import matplotlib.pyplot as plt\n",
    "from tqdm import tqdm\n",
    "import seaborn as sns \n",
    "import pandas as pd"
   ]
  },
  {
   "cell_type": "markdown",
   "metadata": {},
   "source": [
    "## Dice overlap for emphysema scores "
   ]
  },
  {
   "cell_type": "code",
   "execution_count": 10,
   "metadata": {},
   "outputs": [
    {
     "data": {
      "text/plain": [
       "(['COPDGene_A43240_BONE.nii.gz',\n",
       "  'COPDGene_A61757_BONE_control.nii.gz',\n",
       "  'COPDGene_B05639_BONE.nii.gz',\n",
       "  'COPDGene_B14644_BONE.nii.gz',\n",
       "  'COPDGene_B15777_BONE_control.nii.gz',\n",
       "  'COPDGene_B17236_BONE_control.nii.gz',\n",
       "  'COPDGene_B17317_BONE_control.nii.gz',\n",
       "  'COPDGene_B72303_BONE_control.nii.gz',\n",
       "  'COPDGene_B86334_BONE.nii.gz',\n",
       "  'COPDGene_C05262_BONE_control.nii.gz',\n",
       "  'COPDGene_C19536_BONE_control.nii.gz',\n",
       "  'COPDGene_C40785_BONE_control.nii.gz',\n",
       "  'COPDGene_C53764_BONE_control.nii.gz',\n",
       "  'COPDGene_C64141_BONE_control.nii.gz',\n",
       "  'COPDGene_C64303_BONE_control.nii.gz',\n",
       "  'COPDGene_C64585_BONE.nii.gz',\n",
       "  'COPDGene_C73437_BONE_control.nii.gz',\n",
       "  'COPDGene_D32260_BONE_control.nii.gz',\n",
       "  'COPDGene_D36309_BONE.nii.gz',\n",
       "  'COPDGene_D41724_BONE_control.nii.gz',\n",
       "  'COPDGene_D48362_BONE.nii.gz',\n",
       "  'COPDGene_D70993_BONE.nii.gz',\n",
       "  'COPDGene_D80990_BONE_control.nii.gz',\n",
       "  'COPDGene_D90444_BONE.nii.gz',\n",
       "  'COPDGene_E59904_BONE.nii.gz',\n",
       "  'COPDGene_E69868_BONE.nii.gz',\n",
       "  'COPDGene_E73754_BONE_control.nii.gz',\n",
       "  'COPDGene_F02607_BONE.nii.gz',\n",
       "  'COPDGene_F32094_BONE.nii.gz',\n",
       "  'COPDGene_F56917_BONE_control.nii.gz',\n",
       "  'COPDGene_F79779_BONE_control.nii.gz',\n",
       "  'COPDGene_F84738_BONE.nii.gz',\n",
       "  'COPDGene_G34805_BONE.nii.gz',\n",
       "  'COPDGene_G40486_BONE.nii.gz',\n",
       "  'COPDGene_G85131_BONE_control.nii.gz',\n",
       "  'COPDGene_H01704_BONE.nii.gz',\n",
       "  'COPDGene_H18165_BONE.nii.gz',\n",
       "  'COPDGene_H42954_BONE.nii.gz',\n",
       "  'COPDGene_J54714_BONE_control.nii.gz',\n",
       "  'COPDGene_J66836_BONE.nii.gz',\n",
       "  'COPDGene_K11313_BONE.nii.gz',\n",
       "  'COPDGene_K29459_BONE.nii.gz',\n",
       "  'COPDGene_L32186_BONE.nii.gz',\n",
       "  'COPDGene_L75615_BONE.nii.gz',\n",
       "  'COPDGene_L84620_BONE.nii.gz',\n",
       "  'COPDGene_M77834_BONE.nii.gz',\n",
       "  'COPDGene_M84594_BONE.nii.gz',\n",
       "  'COPDGene_M98424_BONE.nii.gz',\n",
       "  'COPDGene_N18734_BONE.nii.gz',\n",
       "  'COPDGene_N93621_BONE.nii.gz'],\n",
       " ['masked_COPDGene_A43240_STANDARD_Warped.nii.gz',\n",
       "  'masked_COPDGene_A61757_STANDARD_control_Warped.nii.gz',\n",
       "  'masked_COPDGene_B05639_STANDARD_Warped.nii.gz',\n",
       "  'masked_COPDGene_B14644_STANDARD_Warped.nii.gz',\n",
       "  'masked_COPDGene_B15777_STANDARD_control_Warped.nii.gz',\n",
       "  'masked_COPDGene_B17236_STANDARD_control_Warped.nii.gz',\n",
       "  'masked_COPDGene_B17317_STANDARD_control_Warped.nii.gz',\n",
       "  'masked_COPDGene_B72303_STANDARD_control_Warped.nii.gz',\n",
       "  'masked_COPDGene_B86334_STANDARD_Warped.nii.gz',\n",
       "  'masked_COPDGene_C05262_STANDARD_control_Warped.nii.gz',\n",
       "  'masked_COPDGene_C19536_STANDARD_control_Warped.nii.gz',\n",
       "  'masked_COPDGene_C40785_STANDARD_control_Warped.nii.gz',\n",
       "  'masked_COPDGene_C53764_STANDARD_control_Warped.nii.gz',\n",
       "  'masked_COPDGene_C64141_STANDARD_control_Warped.nii.gz',\n",
       "  'masked_COPDGene_C64303_STANDARD_control_Warped.nii.gz',\n",
       "  'masked_COPDGene_C64585_STANDARD_Warped.nii.gz',\n",
       "  'masked_COPDGene_C73437_STANDARD_control_Warped.nii.gz',\n",
       "  'masked_COPDGene_D32260_STANDARD_control_Warped.nii.gz',\n",
       "  'masked_COPDGene_D36309_STANDARD_Warped.nii.gz',\n",
       "  'masked_COPDGene_D41724_STANDARD_control_Warped.nii.gz',\n",
       "  'masked_COPDGene_D48362_STANDARD_Warped.nii.gz',\n",
       "  'masked_COPDGene_D70993_STANDARD_Warped.nii.gz',\n",
       "  'masked_COPDGene_D80990_STANDARD_control_Warped.nii.gz',\n",
       "  'masked_COPDGene_D90444_STANDARD_Warped.nii.gz',\n",
       "  'masked_COPDGene_E59904_STANDARD_Warped.nii.gz',\n",
       "  'masked_COPDGene_E69868_STANDARD_Warped.nii.gz',\n",
       "  'masked_COPDGene_E73754_STANDARD_control_Warped.nii.gz',\n",
       "  'masked_COPDGene_F02607_STANDARD_Warped.nii.gz',\n",
       "  'masked_COPDGene_F32094_STANDARD_Warped.nii.gz',\n",
       "  'masked_COPDGene_F56917_STANDARD_control_Warped.nii.gz',\n",
       "  'masked_COPDGene_F79779_STANDARD_control_Warped.nii.gz',\n",
       "  'masked_COPDGene_F84738_STANDARD_Warped.nii.gz',\n",
       "  'masked_COPDGene_G34805_STANDARD_Warped.nii.gz',\n",
       "  'masked_COPDGene_G40486_STANDARD_Warped.nii.gz',\n",
       "  'masked_COPDGene_G85131_STANDARD_control_Warped.nii.gz',\n",
       "  'masked_COPDGene_H01704_STANDARD_Warped.nii.gz',\n",
       "  'masked_COPDGene_H18165_STANDARD_Warped.nii.gz',\n",
       "  'masked_COPDGene_H42954_STANDARD_Warped.nii.gz',\n",
       "  'masked_COPDGene_J54714_STANDARD_control_Warped.nii.gz',\n",
       "  'masked_COPDGene_J66836_STANDARD_Warped.nii.gz',\n",
       "  'masked_COPDGene_K11313_STANDARD_Warped.nii.gz',\n",
       "  'masked_COPDGene_K29459_STANDARD_Warped.nii.gz',\n",
       "  'masked_COPDGene_L32186_STANDARD_Warped.nii.gz',\n",
       "  'masked_COPDGene_L75615_STANDARD_Warped.nii.gz',\n",
       "  'masked_COPDGene_L84620_STANDARD_Warped.nii.gz',\n",
       "  'masked_COPDGene_M77834_STANDARD_Warped.nii.gz',\n",
       "  'masked_COPDGene_M84594_STANDARD_Warped.nii.gz',\n",
       "  'masked_COPDGene_M98424_STANDARD_Warped.nii.gz',\n",
       "  'masked_COPDGene_N18734_STANDARD_Warped.nii.gz',\n",
       "  'masked_COPDGene_N93621_STANDARD_Warped.nii.gz'])"
      ]
     },
     "execution_count": 10,
     "metadata": {},
     "output_type": "execute_result"
    }
   ],
   "source": [
    "emph_bone = \"/nfs/masi/krishar1/SPIE_2025_InhaleExhaleCT/data_split/val_test/insp_BONE_emphysema/emphysema\"\n",
    "emph_non_harm_exptoinsp = \"/nfs/masi/krishar1/SPIE_2025_InhaleExhaleCT/data_split/registration_ANTS_command_line/ANTS_outputs_exp_toinsp_nonharmonized_emphysema/warped_emphysema_masks\"\n",
    "\n",
    "emph_bone_files = sorted(os.listdir(emph_bone))\n",
    "emph_non_harm_exptoinsp_files = sorted(os.listdir(emph_non_harm_exptoinsp))\n",
    "\n",
    "emph_bone_files, emph_non_harm_exptoinsp_files"
   ]
  },
  {
   "cell_type": "code",
   "execution_count": 6,
   "metadata": {},
   "outputs": [
    {
     "name": "stderr",
     "output_type": "stream",
     "text": [
      "100%|██████████| 50/50 [03:09<00:00,  3.71s/it]\n"
     ]
    }
   ],
   "source": [
    "emph_bone = \"/nfs/masi/krishar1/SPIE_2025_InhaleExhaleCT/data_split/val_test/insp_BONE_emphysema/emphysema\"\n",
    "emph_non_harm_exptoinsp = \"/nfs/masi/krishar1/SPIE_2025_InhaleExhaleCT/data_split/registration_ANTS_command_line/ANTS_outputs_exp_toinsp_nonharmonized_emphysema/warped_emphysema_masks\"\n",
    "\n",
    "emph_bone_files = sorted(os.listdir(emph_bone))\n",
    "emph_non_harm_exptoinsp_files = sorted(os.listdir(emph_non_harm_exptoinsp))\n",
    "\n",
    "#compute dice overlap between regsitered and bone and registered and standard\n",
    "dice_overlap_bone_unharmonized = []\n",
    "\n",
    "def dice_overlap(seg1, seg2):\n",
    "    intersect = np.sum(seg1*seg2)\n",
    "    fsum = np.sum(seg1)\n",
    "    ssum = np.sum(seg2)\n",
    "    dice = (2 * intersect) / (fsum + ssum)\n",
    "    dice = np.mean(dice)\n",
    "    dice = np.round(dice,3)\n",
    "    return dice\n",
    "\n",
    "for i in tqdm(range(len(emph_bone_files))):\n",
    "    bone = nib.load(os.path.join(emph_bone, emph_bone_files[i])).get_fdata()\n",
    "    non_harm_exptoinsp = nib.load(os.path.join(emph_non_harm_exptoinsp, emph_non_harm_exptoinsp_files[i])).get_fdata()\n",
    "\n",
    "    bone_dice = dice_overlap(bone, non_harm_exptoinsp)\n",
    "\n",
    "    dice_overlap_bone_unharmonized.append(bone_dice)"
   ]
  },
  {
   "cell_type": "code",
   "execution_count": 7,
   "metadata": {},
   "outputs": [
    {
     "name": "stderr",
     "output_type": "stream",
     "text": [
      "100%|██████████| 50/50 [03:08<00:00,  3.67s/it]\n"
     ]
    }
   ],
   "source": [
    "emph_bone = \"/nfs/masi/krishar1/SPIE_2025_InhaleExhaleCT/experiments/insp_exp_run1_results_cycleGAN/harmonized_emphysema_epoch5/emphysema\"\n",
    "emph_harm_exptoinsp = \"/nfs/masi/krishar1/SPIE_2025_InhaleExhaleCT/data_split/registration_ANTS_command_line/ANTS_outputs_exptoinsp_harmonized_emphysema/warped_emphysema_masks\"\n",
    "\n",
    "emph_bone_files = sorted(os.listdir(emph_bone))\n",
    "emph_harm_exptoinsp_files = sorted(os.listdir(emph_harm_exptoinsp))\n",
    "\n",
    "#compute dice overlap between regsitered and bone and registered and standard\n",
    "dice_overlap_bone = []\n",
    "\n",
    "def dice_overlap(seg1, seg2):\n",
    "    intersect = np.sum(seg1*seg2)\n",
    "    fsum = np.sum(seg1)\n",
    "    ssum = np.sum(seg2)\n",
    "    dice = (2 * intersect) / (fsum + ssum)\n",
    "    dice = np.mean(dice)\n",
    "    dice = np.round(dice,3)\n",
    "    return dice\n",
    "\n",
    "for i in tqdm(range(len(emph_bone_files))):\n",
    "    bone = nib.load(os.path.join(emph_bone, emph_bone_files[i])).get_fdata()\n",
    "    harm_exptoinsp = nib.load(os.path.join(emph_harm_exptoinsp, emph_harm_exptoinsp_files[i])).get_fdata()\n",
    "\n",
    "    bone_dice = dice_overlap(bone, harm_exptoinsp)\n",
    "\n",
    "    dice_overlap_bone.append(bone_dice)"
   ]
  },
  {
   "cell_type": "code",
   "execution_count": 8,
   "metadata": {},
   "outputs": [
    {
     "data": {
      "image/png": "[encoded data removed]",
      "text/plain": [
       "<Figure size 1000x800 with 1 Axes>"
      ]
     },
     "metadata": {},
     "output_type": "display_data"
    }
   ],
   "source": [
    "#Something is really wonky here! \n",
    "\n",
    "data = {\n",
    "    'Dice_overlap_Bone_non_harmonized': dice_overlap_bone_unharmonized,\n",
    "    'Dice_overlap_Bone_harmonized': dice_overlap_bone\n",
    "}\n",
    "\n",
    "df = pd.DataFrame(data)\n",
    "\n",
    "plt.figure(figsize=(10, 8))\n",
    "sns.boxplot(data=df)\n",
    "plt.ylabel(\"Dice overlap\", fontsize=14)\n",
    "plt.ylim(0, 0.5)\n",
    "plt.title(\"Dice overlap between fixed and registered enmphysema mask\", fontsize=16)\n",
    "# plt.savefig(\"/nfs/masi/krishar1/SPIE_2025_InhaleExhaleCT/SPIE_paper_figures/quantitative/dice_overlap.tiff\", dpi=300)\n",
    "plt.show()"
   ]
  },
  {
   "cell_type": "code",
   "execution_count": null,
   "metadata": {},
   "outputs": [
    {
     "name": "stdout",
     "output_type": "stream",
     "text": [
      "Mean dice overlap between registered and bone: 0.102\n",
      "Mean dice overlap between registered and standard: 0.116\n",
      "Standard deviation of dice overlap between registered and bone: 0.109\n",
      "Standard deviation of dice overlap between registered and standard: 0.123\n"
     ]
    }
   ],
   "source": [
    "# Compute range of standard deviation of dice overlap between registered and bone and registered and standard\n",
    "mean_bone = np.mean(dice_overlap_bone)\n",
    "mean_bone_unharmonized = np.mean(dice_overlap_bone_unharmonized)\n",
    "std_dev_bone = np.std(dice_overlap_bone)\n",
    "std_dev_bone_unharmonized = np.std(dice_overlap_bone_unharmonized)\n",
    "print(f\"Mean dice overlap between registered and bone: {mean_bone:.3f}\")\n",
    "print(f\"Mean dice overlap between registered and standard: {mean_bone_unharmonized:.3f}\")\n",
    "print(f\"Standard deviation of dice overlap between registered and bone: {std_dev_bone:.3f}\")\n",
    "print(f\"Standard deviation of dice overlap between registered and standard: {std_dev_bone_unharmonized:.3f}\")"
   ]
  },
  {
   "cell_type": "code",
   "execution_count": null,
   "metadata": {},
   "outputs": [],
   "source": []
  },
  {
   "cell_type": "code",
   "execution_count": null,
   "metadata": {},
   "outputs": [],
   "source": [
    "import scipy.stats as stats\n",
    "\n",
    "#Paired t test \n",
    "pval, tstat = stats.ttest_rel(dice_overlap_bone, dice_overlap_bone_unharmonized)\n",
    "print(pval, stat)\n",
    "\n",
    "pval_wi, tstat_wi = stats.wilcoxon(dice_overlap_bone, dice_overlap_bone_unharmonized)\n",
    "print(pval_wi, tstat_wi)"
   ]
  },
  {
   "cell_type": "markdown",
   "metadata": {},
   "source": [
    "## Dice overlap between lung masks "
   ]
  },
  {
   "cell_type": "code",
   "execution_count": 2,
   "metadata": {},
   "outputs": [
    {
     "data": {
      "text/plain": [
       "(['COPDGene_A43240_BONE.nii.gz',\n",
       "  'COPDGene_A61757_BONE_control.nii.gz',\n",
       "  'COPDGene_B05639_BONE.nii.gz',\n",
       "  'COPDGene_B14644_BONE.nii.gz',\n",
       "  'COPDGene_B15777_BONE_control.nii.gz',\n",
       "  'COPDGene_B17236_BONE_control.nii.gz',\n",
       "  'COPDGene_B17317_BONE_control.nii.gz',\n",
       "  'COPDGene_B72303_BONE_control.nii.gz',\n",
       "  'COPDGene_B86334_BONE.nii.gz',\n",
       "  'COPDGene_C05262_BONE_control.nii.gz',\n",
       "  'COPDGene_C19536_BONE_control.nii.gz',\n",
       "  'COPDGene_C40785_BONE_control.nii.gz',\n",
       "  'COPDGene_C53764_BONE_control.nii.gz',\n",
       "  'COPDGene_C64141_BONE_control.nii.gz',\n",
       "  'COPDGene_C64303_BONE_control.nii.gz',\n",
       "  'COPDGene_C64585_BONE.nii.gz',\n",
       "  'COPDGene_C73437_BONE_control.nii.gz',\n",
       "  'COPDGene_D32260_BONE_control.nii.gz',\n",
       "  'COPDGene_D36309_BONE.nii.gz',\n",
       "  'COPDGene_D41724_BONE_control.nii.gz',\n",
       "  'COPDGene_D48362_BONE.nii.gz',\n",
       "  'COPDGene_D70993_BONE.nii.gz',\n",
       "  'COPDGene_D80990_BONE_control.nii.gz',\n",
       "  'COPDGene_D90444_BONE.nii.gz',\n",
       "  'COPDGene_E59904_BONE.nii.gz',\n",
       "  'COPDGene_E69868_BONE.nii.gz',\n",
       "  'COPDGene_E73754_BONE_control.nii.gz',\n",
       "  'COPDGene_F02607_BONE.nii.gz',\n",
       "  'COPDGene_F32094_BONE.nii.gz',\n",
       "  'COPDGene_F56917_BONE_control.nii.gz',\n",
       "  'COPDGene_F79779_BONE_control.nii.gz',\n",
       "  'COPDGene_F84738_BONE.nii.gz',\n",
       "  'COPDGene_G34805_BONE.nii.gz',\n",
       "  'COPDGene_G40486_BONE.nii.gz',\n",
       "  'COPDGene_G85131_BONE_control.nii.gz',\n",
       "  'COPDGene_H01704_BONE.nii.gz',\n",
       "  'COPDGene_H18165_BONE.nii.gz',\n",
       "  'COPDGene_H42954_BONE.nii.gz',\n",
       "  'COPDGene_J54714_BONE_control.nii.gz',\n",
       "  'COPDGene_J66836_BONE.nii.gz',\n",
       "  'COPDGene_K11313_BONE.nii.gz',\n",
       "  'COPDGene_K29459_BONE.nii.gz',\n",
       "  'COPDGene_L32186_BONE.nii.gz',\n",
       "  'COPDGene_L75615_BONE.nii.gz',\n",
       "  'COPDGene_L84620_BONE.nii.gz',\n",
       "  'COPDGene_M77834_BONE.nii.gz',\n",
       "  'COPDGene_M84594_BONE.nii.gz',\n",
       "  'COPDGene_M98424_BONE.nii.gz',\n",
       "  'COPDGene_N18734_BONE.nii.gz',\n",
       "  'COPDGene_N93621_BONE.nii.gz'],\n",
       " ['masked_COPDGene_A43240_STANDARD_Warped.nii.gz',\n",
       "  'masked_COPDGene_A61757_STANDARD_control_Warped.nii.gz',\n",
       "  'masked_COPDGene_B05639_STANDARD_Warped.nii.gz',\n",
       "  'masked_COPDGene_B14644_STANDARD_Warped.nii.gz',\n",
       "  'masked_COPDGene_B15777_STANDARD_control_Warped.nii.gz',\n",
       "  'masked_COPDGene_B17236_STANDARD_control_Warped.nii.gz',\n",
       "  'masked_COPDGene_B17317_STANDARD_control_Warped.nii.gz',\n",
       "  'masked_COPDGene_B72303_STANDARD_control_Warped.nii.gz',\n",
       "  'masked_COPDGene_B86334_STANDARD_Warped.nii.gz',\n",
       "  'masked_COPDGene_C05262_STANDARD_control_Warped.nii.gz',\n",
       "  'masked_COPDGene_C19536_STANDARD_control_Warped.nii.gz',\n",
       "  'masked_COPDGene_C40785_STANDARD_control_Warped.nii.gz',\n",
       "  'masked_COPDGene_C53764_STANDARD_control_Warped.nii.gz',\n",
       "  'masked_COPDGene_C64141_STANDARD_control_Warped.nii.gz',\n",
       "  'masked_COPDGene_C64303_STANDARD_control_Warped.nii.gz',\n",
       "  'masked_COPDGene_C64585_STANDARD_Warped.nii.gz',\n",
       "  'masked_COPDGene_C73437_STANDARD_control_Warped.nii.gz',\n",
       "  'masked_COPDGene_D32260_STANDARD_control_Warped.nii.gz',\n",
       "  'masked_COPDGene_D36309_STANDARD_Warped.nii.gz',\n",
       "  'masked_COPDGene_D41724_STANDARD_control_Warped.nii.gz',\n",
       "  'masked_COPDGene_D48362_STANDARD_Warped.nii.gz',\n",
       "  'masked_COPDGene_D70993_STANDARD_Warped.nii.gz',\n",
       "  'masked_COPDGene_D80990_STANDARD_control_Warped.nii.gz',\n",
       "  'masked_COPDGene_D90444_STANDARD_Warped.nii.gz',\n",
       "  'masked_COPDGene_E59904_STANDARD_Warped.nii.gz',\n",
       "  'masked_COPDGene_E69868_STANDARD_Warped.nii.gz',\n",
       "  'masked_COPDGene_E73754_STANDARD_control_Warped.nii.gz',\n",
       "  'masked_COPDGene_F02607_STANDARD_Warped.nii.gz',\n",
       "  'masked_COPDGene_F32094_STANDARD_Warped.nii.gz',\n",
       "  'masked_COPDGene_F56917_STANDARD_control_Warped.nii.gz',\n",
       "  'masked_COPDGene_F79779_STANDARD_control_Warped.nii.gz',\n",
       "  'masked_COPDGene_F84738_STANDARD_Warped.nii.gz',\n",
       "  'masked_COPDGene_G34805_STANDARD_Warped.nii.gz',\n",
       "  'masked_COPDGene_G40486_STANDARD_Warped.nii.gz',\n",
       "  'masked_COPDGene_G85131_STANDARD_control_Warped.nii.gz',\n",
       "  'masked_COPDGene_H01704_STANDARD_Warped.nii.gz',\n",
       "  'masked_COPDGene_H18165_STANDARD_Warped.nii.gz',\n",
       "  'masked_COPDGene_H42954_STANDARD_Warped.nii.gz',\n",
       "  'masked_COPDGene_J54714_STANDARD_control_Warped.nii.gz',\n",
       "  'masked_COPDGene_J66836_STANDARD_Warped.nii.gz',\n",
       "  'masked_COPDGene_K11313_STANDARD_Warped.nii.gz',\n",
       "  'masked_COPDGene_K29459_STANDARD_Warped.nii.gz',\n",
       "  'masked_COPDGene_L32186_STANDARD_Warped.nii.gz',\n",
       "  'masked_COPDGene_L75615_STANDARD_Warped.nii.gz',\n",
       "  'masked_COPDGene_L84620_STANDARD_Warped.nii.gz',\n",
       "  'masked_COPDGene_M77834_STANDARD_Warped.nii.gz',\n",
       "  'masked_COPDGene_M84594_STANDARD_Warped.nii.gz',\n",
       "  'masked_COPDGene_M98424_STANDARD_Warped.nii.gz',\n",
       "  'masked_COPDGene_N18734_STANDARD_Warped.nii.gz',\n",
       "  'masked_COPDGene_N93621_STANDARD_Warped.nii.gz'])"
      ]
     },
     "execution_count": 2,
     "metadata": {},
     "output_type": "execute_result"
    }
   ],
   "source": [
    "emph_bone_harm = \"/nfs/masi/krishar1/SPIE_2025_InhaleExhaleCT/experiments/insp_exp_run1_results_cycleGAN/harmonized_emphysema_epoch5/emphysema\"\n",
    "emph_rigid_reg = \"/nfs/masi/krishar1/SPIE_2025_InhaleExhaleCT/data_split/registration_ANTS_command_line/harm_rigid_registered_emphysema_masks_warped\"\n",
    "\n",
    "emph_bone_harm_files = sorted(os.listdir(emph_bone_harm))\n",
    "emph_rigid_reg_files = sorted(os.listdir(emph_rigid_reg))\n",
    "\n",
    "emph_bone_harm_files, emph_rigid_reg_files"
   ]
  },
  {
   "cell_type": "code",
   "execution_count": 4,
   "metadata": {},
   "outputs": [
    {
     "name": "stderr",
     "output_type": "stream",
     "text": [
      "100%|██████████| 50/50 [03:15<00:00,  3.59s/it]\n"
     ]
    },
    {
     "data": {
      "image/png": "[encoded data removed]",
      "text/plain": [
       "<Figure size 640x480 with 1 Axes>"
      ]
     },
     "metadata": {},
     "output_type": "display_data"
    }
   ],
   "source": [
    "dice_overlap_rigid_reg = []\n",
    "\n",
    "def dice_overlap(seg1, seg2):\n",
    "    intersect = np.sum(seg1*seg2)\n",
    "    fsum = np.sum(seg1)\n",
    "    ssum = np.sum(seg2)\n",
    "    dice = (2 * intersect) / (fsum + ssum)\n",
    "    dice = np.mean(dice)\n",
    "    dice = np.round(dice,3)\n",
    "    return dice\n",
    "\n",
    "for i in tqdm(range(len(emph_bone_harm_files))):\n",
    "    bone = nib.load(os.path.join(emph_bone_harm, emph_bone_harm_files[i])).get_fdata()\n",
    "    rigid_reg = nib.load(os.path.join(emph_rigid_reg, emph_rigid_reg_files[i])).get_fdata()\n",
    "\n",
    "    bone_dice = dice_overlap(bone, rigid_reg)\n",
    "\n",
    "    dice_overlap_rigid_reg.append(bone_dice)\n",
    "\n",
    "#Plot dice overlap for dice_overlap_rigid_reg\n",
    "\n",
    "plt.boxplot(dice_overlap_rigid_reg)\n",
    "plt.ylabel(\"Dice overlap\", fontsize=14)\n",
    "plt.ylim(0, 1)\n",
    "plt.title(\"Dice overlap for rigid registration on emphysema masks\", fontsize=16)\n",
    "plt.show()\n"
   ]
  },
  {
   "cell_type": "code",
   "execution_count": 5,
   "metadata": {},
   "outputs": [
    {
     "data": {
      "text/plain": [
       "(['COPDGene_A43240_BONE.nii.gz',\n",
       "  'COPDGene_A61757_BONE_control.nii.gz',\n",
       "  'COPDGene_B05639_BONE.nii.gz',\n",
       "  'COPDGene_B14644_BONE.nii.gz',\n",
       "  'COPDGene_B15777_BONE_control.nii.gz',\n",
       "  'COPDGene_B17236_BONE_control.nii.gz',\n",
       "  'COPDGene_B17317_BONE_control.nii.gz',\n",
       "  'COPDGene_B72303_BONE_control.nii.gz',\n",
       "  'COPDGene_B86334_BONE.nii.gz',\n",
       "  'COPDGene_C05262_BONE_control.nii.gz',\n",
       "  'COPDGene_C19536_BONE_control.nii.gz',\n",
       "  'COPDGene_C40785_BONE_control.nii.gz',\n",
       "  'COPDGene_C53764_BONE_control.nii.gz',\n",
       "  'COPDGene_C64141_BONE_control.nii.gz',\n",
       "  'COPDGene_C64303_BONE_control.nii.gz',\n",
       "  'COPDGene_C64585_BONE.nii.gz',\n",
       "  'COPDGene_C73437_BONE_control.nii.gz',\n",
       "  'COPDGene_D32260_BONE_control.nii.gz',\n",
       "  'COPDGene_D36309_BONE.nii.gz',\n",
       "  'COPDGene_D41724_BONE_control.nii.gz',\n",
       "  'COPDGene_D48362_BONE.nii.gz',\n",
       "  'COPDGene_D70993_BONE.nii.gz',\n",
       "  'COPDGene_D80990_BONE_control.nii.gz',\n",
       "  'COPDGene_D90444_BONE.nii.gz',\n",
       "  'COPDGene_E59904_BONE.nii.gz',\n",
       "  'COPDGene_E69868_BONE.nii.gz',\n",
       "  'COPDGene_E73754_BONE_control.nii.gz',\n",
       "  'COPDGene_F02607_BONE.nii.gz',\n",
       "  'COPDGene_F32094_BONE.nii.gz',\n",
       "  'COPDGene_F56917_BONE_control.nii.gz',\n",
       "  'COPDGene_F79779_BONE_control.nii.gz',\n",
       "  'COPDGene_F84738_BONE.nii.gz',\n",
       "  'COPDGene_G34805_BONE.nii.gz',\n",
       "  'COPDGene_G40486_BONE.nii.gz',\n",
       "  'COPDGene_G85131_BONE_control.nii.gz',\n",
       "  'COPDGene_H01704_BONE.nii.gz',\n",
       "  'COPDGene_H18165_BONE.nii.gz',\n",
       "  'COPDGene_H42954_BONE.nii.gz',\n",
       "  'COPDGene_J54714_BONE_control.nii.gz',\n",
       "  'COPDGene_J66836_BONE.nii.gz',\n",
       "  'COPDGene_K11313_BONE.nii.gz',\n",
       "  'COPDGene_K29459_BONE.nii.gz',\n",
       "  'COPDGene_L32186_BONE.nii.gz',\n",
       "  'COPDGene_L75615_BONE.nii.gz',\n",
       "  'COPDGene_L84620_BONE.nii.gz',\n",
       "  'COPDGene_M77834_BONE.nii.gz',\n",
       "  'COPDGene_M84594_BONE.nii.gz',\n",
       "  'COPDGene_M98424_BONE.nii.gz',\n",
       "  'COPDGene_N18734_BONE.nii.gz',\n",
       "  'COPDGene_N93621_BONE.nii.gz'],\n",
       " ['masked_COPDGene_A43240_STANDARD_Warped.nii.gz',\n",
       "  'masked_COPDGene_A61757_STANDARD_control_Warped.nii.gz',\n",
       "  'masked_COPDGene_B05639_STANDARD_Warped.nii.gz',\n",
       "  'masked_COPDGene_B14644_STANDARD_Warped.nii.gz',\n",
       "  'masked_COPDGene_B15777_STANDARD_control_Warped.nii.gz',\n",
       "  'masked_COPDGene_B17236_STANDARD_control_Warped.nii.gz',\n",
       "  'masked_COPDGene_B17317_STANDARD_control_Warped.nii.gz',\n",
       "  'masked_COPDGene_B72303_STANDARD_control_Warped.nii.gz',\n",
       "  'masked_COPDGene_B86334_STANDARD_Warped.nii.gz',\n",
       "  'masked_COPDGene_C05262_STANDARD_control_Warped.nii.gz',\n",
       "  'masked_COPDGene_C19536_STANDARD_control_Warped.nii.gz',\n",
       "  'masked_COPDGene_C40785_STANDARD_control_Warped.nii.gz',\n",
       "  'masked_COPDGene_C53764_STANDARD_control_Warped.nii.gz',\n",
       "  'masked_COPDGene_C64141_STANDARD_control_Warped.nii.gz',\n",
       "  'masked_COPDGene_C64303_STANDARD_control_Warped.nii.gz',\n",
       "  'masked_COPDGene_C64585_STANDARD_Warped.nii.gz',\n",
       "  'masked_COPDGene_C73437_STANDARD_control_Warped.nii.gz',\n",
       "  'masked_COPDGene_D32260_STANDARD_control_Warped.nii.gz',\n",
       "  'masked_COPDGene_D36309_STANDARD_Warped.nii.gz',\n",
       "  'masked_COPDGene_D41724_STANDARD_control_Warped.nii.gz',\n",
       "  'masked_COPDGene_D48362_STANDARD_Warped.nii.gz',\n",
       "  'masked_COPDGene_D70993_STANDARD_Warped.nii.gz',\n",
       "  'masked_COPDGene_D80990_STANDARD_control_Warped.nii.gz',\n",
       "  'masked_COPDGene_D90444_STANDARD_Warped.nii.gz',\n",
       "  'masked_COPDGene_E59904_STANDARD_Warped.nii.gz',\n",
       "  'masked_COPDGene_E69868_STANDARD_Warped.nii.gz',\n",
       "  'masked_COPDGene_E73754_STANDARD_control_Warped.nii.gz',\n",
       "  'masked_COPDGene_F02607_STANDARD_Warped.nii.gz',\n",
       "  'masked_COPDGene_F32094_STANDARD_Warped.nii.gz',\n",
       "  'masked_COPDGene_F56917_STANDARD_control_Warped.nii.gz',\n",
       "  'masked_COPDGene_F79779_STANDARD_control_Warped.nii.gz',\n",
       "  'masked_COPDGene_F84738_STANDARD_Warped.nii.gz',\n",
       "  'masked_COPDGene_G34805_STANDARD_Warped.nii.gz',\n",
       "  'masked_COPDGene_G40486_STANDARD_Warped.nii.gz',\n",
       "  'masked_COPDGene_G85131_STANDARD_control_Warped.nii.gz',\n",
       "  'masked_COPDGene_H01704_STANDARD_Warped.nii.gz',\n",
       "  'masked_COPDGene_H18165_STANDARD_Warped.nii.gz',\n",
       "  'masked_COPDGene_H42954_STANDARD_Warped.nii.gz',\n",
       "  'masked_COPDGene_J54714_STANDARD_control_Warped.nii.gz',\n",
       "  'masked_COPDGene_J66836_STANDARD_Warped.nii.gz',\n",
       "  'masked_COPDGene_K11313_STANDARD_Warped.nii.gz',\n",
       "  'masked_COPDGene_K29459_STANDARD_Warped.nii.gz',\n",
       "  'masked_COPDGene_L32186_STANDARD_Warped.nii.gz',\n",
       "  'masked_COPDGene_L75615_STANDARD_Warped.nii.gz',\n",
       "  'masked_COPDGene_L84620_STANDARD_Warped.nii.gz',\n",
       "  'masked_COPDGene_M77834_STANDARD_Warped.nii.gz',\n",
       "  'masked_COPDGene_M84594_STANDARD_Warped.nii.gz',\n",
       "  'masked_COPDGene_M98424_STANDARD_Warped.nii.gz',\n",
       "  'masked_COPDGene_N18734_STANDARD_Warped.nii.gz',\n",
       "  'masked_COPDGene_N93621_STANDARD_Warped.nii.gz'])"
      ]
     },
     "execution_count": 5,
     "metadata": {},
     "output_type": "execute_result"
    }
   ],
   "source": [
    "emph_bone_harm = \"/nfs/masi/krishar1/SPIE_2025_InhaleExhaleCT/experiments/insp_exp_run1_results_cycleGAN/harmonized_emphysema_epoch5/emphysema\"\n",
    "emph_deform_reg = \"/nfs/masi/krishar1/SPIE_2025_InhaleExhaleCT/data_split/registration_ANTS_command_line/ANTS_outputs_exptoinsp_harmonized_emphysema/warped_emphysema_masks\"\n",
    "\n",
    "emph_bone_harm_files = sorted(os.listdir(emph_bone_harm))\n",
    "emph_deform_reg_files = sorted(os.listdir(emph_deform_reg))\n",
    "\n",
    "emph_bone_harm_files, emph_deform_reg_files"
   ]
  },
  {
   "cell_type": "code",
   "execution_count": 6,
   "metadata": {},
   "outputs": [
    {
     "name": "stderr",
     "output_type": "stream",
     "text": [
      "100%|██████████| 50/50 [02:56<00:00,  3.57s/it]\n"
     ]
    },
    {
     "data": {
      "image/png": "[encoded data removed]",
      "text/plain": [
       "<Figure size 640x480 with 1 Axes>"
      ]
     },
     "metadata": {},
     "output_type": "display_data"
    }
   ],
   "source": [
    "dice_overlap_deform_reg = []\n",
    "\n",
    "def dice_overlap(seg1, seg2):\n",
    "    intersect = np.sum(seg1*seg2)\n",
    "    fsum = np.sum(seg1)\n",
    "    ssum = np.sum(seg2)\n",
    "    dice = (2 * intersect) / (fsum + ssum)\n",
    "    dice = np.mean(dice)\n",
    "    dice = np.round(dice,3)\n",
    "    return dice\n",
    "\n",
    "for i in tqdm(range(len(emph_bone_harm_files))):\n",
    "    bone = nib.load(os.path.join(emph_bone_harm, emph_bone_harm_files[i])).get_fdata()\n",
    "    deform_reg = nib.load(os.path.join(emph_deform_reg, emph_deform_reg_files[i])).get_fdata()\n",
    "\n",
    "    bone_dice = dice_overlap(bone, deform_reg)\n",
    "\n",
    "    dice_overlap_deform_reg.append(bone_dice)\n",
    "\n",
    "#Plot dice overlap for dice_overlap_rigid_reg\n",
    "\n",
    "plt.boxplot(dice_overlap_deform_reg)\n",
    "plt.ylabel(\"Dice overlap\", fontsize=14)\n",
    "plt.ylim(0, 1)\n",
    "plt.title(\"Dice overlap for rigid registration on emphysema masks\", fontsize=16)\n",
    "plt.show()\n"
   ]
  },
  {
   "cell_type": "code",
   "execution_count": null,
   "metadata": {},
   "outputs": [],
   "source": [
    "data = {\n",
    "    'dice_rigid': dice_overlap_rigid_reg,\n",
    "    'dice_deform': dice_overlap_deform_reg\n",
    "}\n",
    "\n"
   ]
  }
 ],
 "metadata": {
  "kernelspec": {
   "display_name": "lung2",
   "language": "python",
   "name": "python3"
  },
  "language_info": {
   "codemirror_mode": {
    "name": "ipython",
    "version": 3
   },
   "file_extension": ".py",
   "mimetype": "text/x-python",
   "name": "python",
   "nbconvert_exporter": "python",
   "pygments_lexer": "ipython3",
   "version": "3.7.16"
  }
 },
 "nbformat": 4,
 "nbformat_minor": 2
}
