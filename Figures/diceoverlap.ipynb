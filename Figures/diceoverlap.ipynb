{
 "cells": [
  {
   "cell_type": "code",
   "execution_count": 2,
   "metadata": {},
   "outputs": [],
   "source": [
    "import os \n",
    "import numpy as np \n",
    "import nibabel as nib \n",
    "import matplotlib.pyplot as plt\n",
    "from tqdm import tqdm\n",
    "import seaborn as sns \n",
    "import pandas as pd"
   ]
  },
  {
   "cell_type": "markdown",
   "metadata": {},
   "source": [
    "## Dice overlap for rigid registered images and deformable images: Cases"
   ]
  },
  {
   "cell_type": "code",
   "execution_count": 2,
   "metadata": {},
   "outputs": [
    {
     "data": {
      "text/plain": [
       "['COPDGene_A43240_BONE.nii.gz',\n",
       " 'COPDGene_B05639_BONE.nii.gz',\n",
       " 'COPDGene_B14644_BONE.nii.gz',\n",
       " 'COPDGene_B86334_BONE.nii.gz',\n",
       " 'COPDGene_C64585_BONE.nii.gz',\n",
       " 'COPDGene_D36309_BONE.nii.gz',\n",
       " 'COPDGene_D48362_BONE.nii.gz',\n",
       " 'COPDGene_D70993_BONE.nii.gz',\n",
       " 'COPDGene_D90444_BONE.nii.gz',\n",
       " 'COPDGene_E59904_BONE.nii.gz',\n",
       " 'COPDGene_E69868_BONE.nii.gz',\n",
       " 'COPDGene_F02607_BONE.nii.gz',\n",
       " 'COPDGene_F32094_BONE.nii.gz']"
      ]
     },
     "execution_count": 2,
     "metadata": {},
     "output_type": "execute_result"
    }
   ],
   "source": [
    "### Dice scores on the ANTS full run. Rigid, old deform and full run \n",
    "output_warp_harmonized = \"/nfs/masi/krishar1/SPIE_2025_InhaleExhaleCT/data_split/registration_ANTS_command_line/harm_ANTS_outputs_exptoinsp_large_images_emphysema_warped\"\n",
    "\n",
    "output_warp_harmonized_files = [file for file in os.listdir(output_warp_harmonized) if not file.endswith(\"control_Warped.nii.gz\")]\n",
    "\n",
    "output_warp_harmonized_files\n",
    "\n",
    "subjects_BONE = sorted([file.replace(\"masked_\", \"\").replace(\"STANDARD\", \"BONE\").replace(\"_Warped.nii.gz\", \".nii.gz\") for file in output_warp_harmonized_files])\n",
    "subjects_BONE"
   ]
  },
  {
   "cell_type": "code",
   "execution_count": 3,
   "metadata": {},
   "outputs": [],
   "source": [
    "emph_bone_harm = \"/nfs/masi/krishar1/SPIE_2025_InhaleExhaleCT/experiments/insp_exp_run1_results_cycleGAN/harmonized_emphysema_epoch5/emphysema\"\n",
    "emph_rigid_reg = \"/nfs/masi/krishar1/SPIE_2025_InhaleExhaleCT/data_split/registration_ANTS_command_line/harm_rigid_registered_emphysema_masks_warped\"\n",
    "emph_deform_reg = \"/nfs/masi/krishar1/SPIE_2025_InhaleExhaleCT/data_split/registration_ANTS_command_line/ANTS_outputs_exptoinsp_harmonized_emphysema/warped_emphysema_masks\"\n",
    "emph_ANTS_full_reg = \"/nfs/masi/krishar1/SPIE_2025_InhaleExhaleCT/data_split/registration_ANTS_command_line/harm_ANTS_outputs_exptoinsp_large_images_emphysema_warped\"\n",
    "\n",
    "emph_bone_harm_files = sorted([file for file in os.listdir(emph_bone_harm) if file in subjects_BONE])\n",
    "emph_rigid_reg_files = sorted([file for file in os.listdir(emph_rigid_reg) if file in output_warp_harmonized_files])\n",
    "emph_deform_reg_files = sorted([file for file in os.listdir(emph_deform_reg) if file in output_warp_harmonized_files])\n",
    "emph_ANTS_full_reg_files = sorted([file for file in os.listdir(emph_ANTS_full_reg) if file in output_warp_harmonized_files])"
   ]
  },
  {
   "cell_type": "code",
   "execution_count": 4,
   "metadata": {},
   "outputs": [
    {
     "data": {
      "text/plain": [
       "(['COPDGene_A43240_BONE.nii.gz',\n",
       "  'COPDGene_B05639_BONE.nii.gz',\n",
       "  'COPDGene_B14644_BONE.nii.gz',\n",
       "  'COPDGene_B86334_BONE.nii.gz',\n",
       "  'COPDGene_C64585_BONE.nii.gz',\n",
       "  'COPDGene_D36309_BONE.nii.gz',\n",
       "  'COPDGene_D48362_BONE.nii.gz',\n",
       "  'COPDGene_D70993_BONE.nii.gz',\n",
       "  'COPDGene_D90444_BONE.nii.gz',\n",
       "  'COPDGene_E59904_BONE.nii.gz',\n",
       "  'COPDGene_E69868_BONE.nii.gz',\n",
       "  'COPDGene_F02607_BONE.nii.gz',\n",
       "  'COPDGene_F32094_BONE.nii.gz'],\n",
       " ['masked_COPDGene_A43240_STANDARD_Warped.nii.gz',\n",
       "  'masked_COPDGene_B05639_STANDARD_Warped.nii.gz',\n",
       "  'masked_COPDGene_B14644_STANDARD_Warped.nii.gz',\n",
       "  'masked_COPDGene_B86334_STANDARD_Warped.nii.gz',\n",
       "  'masked_COPDGene_C64585_STANDARD_Warped.nii.gz',\n",
       "  'masked_COPDGene_D36309_STANDARD_Warped.nii.gz',\n",
       "  'masked_COPDGene_D48362_STANDARD_Warped.nii.gz',\n",
       "  'masked_COPDGene_D70993_STANDARD_Warped.nii.gz',\n",
       "  'masked_COPDGene_D90444_STANDARD_Warped.nii.gz',\n",
       "  'masked_COPDGene_E59904_STANDARD_Warped.nii.gz',\n",
       "  'masked_COPDGene_E69868_STANDARD_Warped.nii.gz',\n",
       "  'masked_COPDGene_F02607_STANDARD_Warped.nii.gz',\n",
       "  'masked_COPDGene_F32094_STANDARD_Warped.nii.gz'],\n",
       " ['masked_COPDGene_A43240_STANDARD_Warped.nii.gz',\n",
       "  'masked_COPDGene_B05639_STANDARD_Warped.nii.gz',\n",
       "  'masked_COPDGene_B14644_STANDARD_Warped.nii.gz',\n",
       "  'masked_COPDGene_B86334_STANDARD_Warped.nii.gz',\n",
       "  'masked_COPDGene_C64585_STANDARD_Warped.nii.gz',\n",
       "  'masked_COPDGene_D36309_STANDARD_Warped.nii.gz',\n",
       "  'masked_COPDGene_D48362_STANDARD_Warped.nii.gz',\n",
       "  'masked_COPDGene_D70993_STANDARD_Warped.nii.gz',\n",
       "  'masked_COPDGene_D90444_STANDARD_Warped.nii.gz',\n",
       "  'masked_COPDGene_E59904_STANDARD_Warped.nii.gz',\n",
       "  'masked_COPDGene_E69868_STANDARD_Warped.nii.gz',\n",
       "  'masked_COPDGene_F02607_STANDARD_Warped.nii.gz',\n",
       "  'masked_COPDGene_F32094_STANDARD_Warped.nii.gz'],\n",
       " ['masked_COPDGene_A43240_STANDARD_Warped.nii.gz',\n",
       "  'masked_COPDGene_B05639_STANDARD_Warped.nii.gz',\n",
       "  'masked_COPDGene_B14644_STANDARD_Warped.nii.gz',\n",
       "  'masked_COPDGene_B86334_STANDARD_Warped.nii.gz',\n",
       "  'masked_COPDGene_C64585_STANDARD_Warped.nii.gz',\n",
       "  'masked_COPDGene_D36309_STANDARD_Warped.nii.gz',\n",
       "  'masked_COPDGene_D48362_STANDARD_Warped.nii.gz',\n",
       "  'masked_COPDGene_D70993_STANDARD_Warped.nii.gz',\n",
       "  'masked_COPDGene_D90444_STANDARD_Warped.nii.gz',\n",
       "  'masked_COPDGene_E59904_STANDARD_Warped.nii.gz',\n",
       "  'masked_COPDGene_E69868_STANDARD_Warped.nii.gz',\n",
       "  'masked_COPDGene_F02607_STANDARD_Warped.nii.gz',\n",
       "  'masked_COPDGene_F32094_STANDARD_Warped.nii.gz'])"
      ]
     },
     "execution_count": 4,
     "metadata": {},
     "output_type": "execute_result"
    }
   ],
   "source": [
    "emph_bone_harm_files, emph_rigid_reg_files, emph_deform_reg_files, emph_ANTS_full_reg_files"
   ]
  },
  {
   "cell_type": "code",
   "execution_count": 5,
   "metadata": {},
   "outputs": [
    {
     "name": "stderr",
     "output_type": "stream",
     "text": [
      "  0%|          | 0/13 [00:00<?, ?it/s]"
     ]
    },
    {
     "name": "stderr",
     "output_type": "stream",
     "text": [
      "100%|██████████| 13/13 [01:56<00:00,  8.18s/it]\n",
      "100%|██████████| 13/13 [01:34<00:00,  7.36s/it]\n",
      "100%|██████████| 13/13 [01:28<00:00,  7.20s/it]\n"
     ]
    }
   ],
   "source": [
    "def dice_overlap(seg1, seg2):\n",
    "    intersect = np.sum(seg1*seg2)\n",
    "    fsum = np.sum(seg1)\n",
    "    ssum = np.sum(seg2)\n",
    "    dice = (2 * intersect) / (fsum + ssum)\n",
    "    dice = np.mean(dice)\n",
    "    dice = np.round(dice,3)\n",
    "    return dice\n",
    "\n",
    "dice_overlap_rigid = {}\n",
    "dice_overlap_deform={}\n",
    "dice_overlap_full={}\n",
    "\n",
    "for i in tqdm(range(len(emph_bone_harm_files))):\n",
    "    bone = nib.load(os.path.join(emph_bone_harm, emph_bone_harm_files[i])).get_fdata()\n",
    "    rigid = nib.load(os.path.join(emph_rigid_reg, emph_rigid_reg_files[i])).get_fdata()\n",
    "\n",
    "    bone_dice = dice_overlap(bone, rigid)\n",
    "\n",
    "    dice_overlap_rigid[emph_bone_harm_files[i]] = bone_dice\n",
    "\n",
    "for i in tqdm(range(len(emph_bone_harm_files))):\n",
    "    bone = nib.load(os.path.join(emph_bone_harm, emph_bone_harm_files[i])).get_fdata()\n",
    "    deform = nib.load(os.path.join(emph_deform_reg, emph_deform_reg_files[i])).get_fdata()\n",
    "\n",
    "    bone_dice = dice_overlap(bone, deform)\n",
    "\n",
    "    dice_overlap_deform[emph_bone_harm_files[i]] = bone_dice\n",
    "\n",
    "for i in tqdm(range(len(emph_bone_harm_files))):\n",
    "    bone = nib.load(os.path.join(emph_bone_harm, emph_bone_harm_files[i])).get_fdata()\n",
    "    full = nib.load(os.path.join(emph_ANTS_full_reg, emph_ANTS_full_reg_files[i])).get_fdata()\n",
    "\n",
    "    bone_dice = dice_overlap(bone, full)\n",
    "\n",
    "    dice_overlap_full[emph_bone_harm_files[i]] = bone_dice\n"
   ]
  },
  {
   "cell_type": "code",
   "execution_count": 8,
   "metadata": {},
   "outputs": [
    {
     "name": "stdout",
     "output_type": "stream",
     "text": [
      "p-value annotation legend:\n",
      "ns: 5.00e-02 < p <= 1.00e+00\n",
      "*: 1.00e-02 < p <= 5.00e-02\n",
      "**: 1.00e-03 < p <= 1.00e-02\n",
      "***: 1.00e-04 < p <= 1.00e-03\n",
      "****: p <= 1.00e-04\n",
      "\n",
      "Dice_rigid v.s. Dice_deform_half_resolution: t-test paired samples with Bonferroni correction, P_val=2.146e-04 stat=-5.909e+00\n",
      "Dice_deform_half_resolution v.s. Dice_deform_full_resolution: t-test paired samples with Bonferroni correction, P_val=6.241e-04 stat=-5.239e+00\n",
      "Dice_rigid v.s. Dice_deform_full_resolution: t-test paired samples with Bonferroni correction, P_val=2.653e-04 stat=-5.773e+00\n"
     ]
    },
    {
     "data": {
      "image/png": "[encoded data removed]",
      "text/plain": [
       "<Figure size 1600x1600 with 1 Axes>"
      ]
     },
     "metadata": {},
     "output_type": "display_data"
    }
   ],
   "source": [
    "import pandas as pd\n",
    "import seaborn as sns\n",
    "import matplotlib.pyplot as plt\n",
    "from scipy.stats import wilcoxon\n",
    "from statannot import add_stat_annotation\n",
    "\n",
    "# Assuming dice_overlap_rigid, dice_overlap_deform, and dice_overlap_full are defined\n",
    "data = {\n",
    "    'Dice_rigid': dice_overlap_rigid,\n",
    "    'Dice_deform_half_resolution': dice_overlap_deform,\n",
    "    'Dice_deform_full_resolution': dice_overlap_full\n",
    "}\n",
    "\n",
    "df = pd.DataFrame(data)\n",
    "\n",
    "plt.figure(figsize=(16, 16))\n",
    "ax = sns.boxplot(data=df)\n",
    "plt.ylabel(\"Dice overlap\", fontsize=16)\n",
    "plt.xticks(fontsize=16)\n",
    "# plt.xticks(rotation=45)\n",
    "plt.ylim(0, 0.6)\n",
    "plt.yticks(fontsize=16)\n",
    "plt.title(\"Dice overlap between fixed and warped emphysema masks\", fontsize=16)\n",
    "\n",
    "# Add statistical annotations\n",
    "box_pairs = [\n",
    "    (\"Dice_rigid\", \"Dice_deform_half_resolution\"),\n",
    "    (\"Dice_rigid\", \"Dice_deform_full_resolution\"),\n",
    "    (\"Dice_deform_half_resolution\", \"Dice_deform_full_resolution\")\n",
    "]\n",
    "\n",
    "# Perform Wilcoxon signed-rank test and annotate\n",
    "add_stat_annotation(ax, data=df, box_pairs=box_pairs,\n",
    "                    test='t-test_paired', text_format='star', loc='inside', verbose=2)\n",
    "plt.savefig(\"/nfs/masi/krishar1/SPIE_2025_InhaleExhaleCT/SPIE_paper_figures/quantitative/dice_overlap_harmonized_cases.tiff\", dpi=300)\n",
    "plt.show()"
   ]
  },
  {
   "cell_type": "code",
   "execution_count": 12,
   "metadata": {},
   "outputs": [
    {
     "data": {
      "text/plain": [
       "(Ttest_relResult(statistic=-5.909029059820431, pvalue=7.152134377163178e-05),\n",
       " Ttest_relResult(statistic=-5.772698151700607, pvalue=8.843025199004285e-05),\n",
       " Ttest_relResult(statistic=-5.239271566064988, pvalue=0.0002080269960405082))"
      ]
     },
     "execution_count": 12,
     "metadata": {},
     "output_type": "execute_result"
    }
   ],
   "source": [
    "import scipy.stats as stats\n",
    "pval_rigid_deform = stats.ttest_rel(dice_overlap_rigid, dice_overlap_deform)\n",
    "pval_rigid_full = stats.ttest_rel(dice_overlap_rigid, dice_overlap_full)\n",
    "pval_deform_full = stats.ttest_rel(dice_overlap_deform, dice_overlap_full)\n",
    "\n",
    "pval_rigid_deform, pval_rigid_full, pval_deform_full\n"
   ]
  },
  {
   "cell_type": "markdown",
   "metadata": {},
   "source": [
    "## Emphsyema on controls (should be low)"
   ]
  },
  {
   "cell_type": "code",
   "execution_count": 16,
   "metadata": {},
   "outputs": [
    {
     "data": {
      "text/plain": [
       "['COPDGene_A61757_BONE_control.nii.gz',\n",
       " 'COPDGene_B15777_BONE_control.nii.gz',\n",
       " 'COPDGene_B17236_BONE_control.nii.gz',\n",
       " 'COPDGene_B17317_BONE_control.nii.gz',\n",
       " 'COPDGene_B72303_BONE_control.nii.gz',\n",
       " 'COPDGene_C05262_BONE_control.nii.gz',\n",
       " 'COPDGene_C19536_BONE_control.nii.gz',\n",
       " 'COPDGene_C40785_BONE_control.nii.gz',\n",
       " 'COPDGene_C53764_BONE_control.nii.gz',\n",
       " 'COPDGene_C64141_BONE_control.nii.gz',\n",
       " 'COPDGene_C64303_BONE_control.nii.gz',\n",
       " 'COPDGene_C73437_BONE_control.nii.gz',\n",
       " 'COPDGene_D32260_BONE_control.nii.gz',\n",
       " 'COPDGene_D41724_BONE_control.nii.gz',\n",
       " 'COPDGene_D80990_BONE_control.nii.gz',\n",
       " 'COPDGene_E73754_BONE_control.nii.gz',\n",
       " 'COPDGene_F56917_BONE_control.nii.gz']"
      ]
     },
     "execution_count": 16,
     "metadata": {},
     "output_type": "execute_result"
    }
   ],
   "source": [
    "output_warp_harmonized = \"/nfs/masi/krishar1/SPIE_2025_InhaleExhaleCT/data_split/registration_ANTS_command_line/harm_ANTS_outputs_exptoinsp_large_images_emphysema_warped\"\n",
    "\n",
    "output_warp_harmonized_files = [file for file in os.listdir(output_warp_harmonized) if file.endswith(\"control_Warped.nii.gz\")]\n",
    "\n",
    "output_warp_harmonized_files\n",
    "\n",
    "subjects_BONE = sorted([file.replace(\"masked_\", \"\").replace(\"STANDARD\", \"BONE\").replace(\"_Warped.nii.gz\", \".nii.gz\") for file in output_warp_harmonized_files])\n",
    "subjects_BONE"
   ]
  },
  {
   "cell_type": "code",
   "execution_count": 17,
   "metadata": {},
   "outputs": [],
   "source": [
    "emph_bone_harm = \"/nfs/masi/krishar1/SPIE_2025_InhaleExhaleCT/experiments/insp_exp_run1_results_cycleGAN/harmonized_emphysema_epoch5/emphysema\"\n",
    "emph_rigid_reg = \"/nfs/masi/krishar1/SPIE_2025_InhaleExhaleCT/data_split/registration_ANTS_command_line/harm_rigid_registered_emphysema_masks_warped\"\n",
    "emph_deform_reg = \"/nfs/masi/krishar1/SPIE_2025_InhaleExhaleCT/data_split/registration_ANTS_command_line/ANTS_outputs_exptoinsp_harmonized_emphysema/warped_emphysema_masks\"\n",
    "emph_ANTS_full_reg = \"/nfs/masi/krishar1/SPIE_2025_InhaleExhaleCT/data_split/registration_ANTS_command_line/harm_ANTS_outputs_exptoinsp_large_images_emphysema_warped\"\n",
    "\n",
    "emph_bone_harm_files = sorted([file for file in os.listdir(emph_bone_harm) if file in subjects_BONE])\n",
    "emph_rigid_reg_files = sorted([file for file in os.listdir(emph_rigid_reg) if file in output_warp_harmonized_files])\n",
    "emph_deform_reg_files = sorted([file for file in os.listdir(emph_deform_reg) if file in output_warp_harmonized_files])\n",
    "emph_ANTS_full_reg_files = sorted([file for file in os.listdir(emph_ANTS_full_reg) if file in output_warp_harmonized_files])"
   ]
  },
  {
   "cell_type": "code",
   "execution_count": 18,
   "metadata": {},
   "outputs": [
    {
     "name": "stderr",
     "output_type": "stream",
     "text": [
      "100%|██████████| 17/17 [01:19<00:00,  4.49s/it]\n",
      "100%|██████████| 17/17 [01:11<00:00,  4.65s/it]\n",
      "100%|██████████| 17/17 [01:06<00:00,  4.20s/it]\n"
     ]
    }
   ],
   "source": [
    "def dice_overlap(seg1, seg2):\n",
    "    intersect = np.sum(seg1*seg2)\n",
    "    fsum = np.sum(seg1)\n",
    "    ssum = np.sum(seg2)\n",
    "    dice = (2 * intersect) / (fsum + ssum)\n",
    "    dice = np.mean(dice)\n",
    "    dice = np.round(dice,3)\n",
    "    return dice\n",
    "\n",
    "dice_overlap_rigid = {}\n",
    "dice_overlap_deform={}\n",
    "dice_overlap_full={}\n",
    "\n",
    "for i in tqdm(range(len(emph_bone_harm_files))):\n",
    "    bone = nib.load(os.path.join(emph_bone_harm, emph_bone_harm_files[i])).get_fdata()\n",
    "    rigid = nib.load(os.path.join(emph_rigid_reg, emph_rigid_reg_files[i])).get_fdata()\n",
    "\n",
    "    bone_dice = dice_overlap(bone, rigid)\n",
    "\n",
    "    dice_overlap_rigid[emph_bone_harm_files[i]] = bone_dice\n",
    "\n",
    "for i in tqdm(range(len(emph_bone_harm_files))):\n",
    "    bone = nib.load(os.path.join(emph_bone_harm, emph_bone_harm_files[i])).get_fdata()\n",
    "    deform = nib.load(os.path.join(emph_deform_reg, emph_deform_reg_files[i])).get_fdata()\n",
    "\n",
    "    bone_dice = dice_overlap(bone, deform)\n",
    "\n",
    "    dice_overlap_deform[emph_bone_harm_files[i]] = bone_dice\n",
    "\n",
    "for i in tqdm(range(len(emph_bone_harm_files))):\n",
    "    bone = nib.load(os.path.join(emph_bone_harm, emph_bone_harm_files[i])).get_fdata()\n",
    "    full = nib.load(os.path.join(emph_ANTS_full_reg, emph_ANTS_full_reg_files[i])).get_fdata()\n",
    "\n",
    "    bone_dice = dice_overlap(bone, full)\n",
    "\n",
    "    dice_overlap_full[emph_bone_harm_files[i]] = bone_dice"
   ]
  },
  {
   "cell_type": "code",
   "execution_count": 19,
   "metadata": {},
   "outputs": [
    {
     "data": {
      "text/plain": [
       "['COPDGene_A61757_BONE_control.nii.gz',\n",
       " 'COPDGene_B15777_BONE_control.nii.gz',\n",
       " 'COPDGene_B17236_BONE_control.nii.gz',\n",
       " 'COPDGene_B17317_BONE_control.nii.gz',\n",
       " 'COPDGene_B72303_BONE_control.nii.gz',\n",
       " 'COPDGene_C05262_BONE_control.nii.gz',\n",
       " 'COPDGene_C19536_BONE_control.nii.gz',\n",
       " 'COPDGene_C40785_BONE_control.nii.gz',\n",
       " 'COPDGene_C53764_BONE_control.nii.gz',\n",
       " 'COPDGene_C64141_BONE_control.nii.gz',\n",
       " 'COPDGene_C64303_BONE_control.nii.gz',\n",
       " 'COPDGene_C73437_BONE_control.nii.gz',\n",
       " 'COPDGene_D32260_BONE_control.nii.gz',\n",
       " 'COPDGene_D41724_BONE_control.nii.gz',\n",
       " 'COPDGene_D80990_BONE_control.nii.gz',\n",
       " 'COPDGene_E73754_BONE_control.nii.gz',\n",
       " 'COPDGene_F56917_BONE_control.nii.gz']"
      ]
     },
     "execution_count": 19,
     "metadata": {},
     "output_type": "execute_result"
    }
   ],
   "source": [
    "sorted(dice_overlap_full)"
   ]
  },
  {
   "cell_type": "code",
   "execution_count": 20,
   "metadata": {},
   "outputs": [
    {
     "data": {
      "text/plain": [
       "{'COPDGene_A61757_BONE_control.nii.gz': 0.01,\n",
       " 'COPDGene_B15777_BONE_control.nii.gz': 0.06,\n",
       " 'COPDGene_B17236_BONE_control.nii.gz': 0.057,\n",
       " 'COPDGene_B17317_BONE_control.nii.gz': 0.137,\n",
       " 'COPDGene_B72303_BONE_control.nii.gz': 0.011,\n",
       " 'COPDGene_C05262_BONE_control.nii.gz': 0.023,\n",
       " 'COPDGene_C19536_BONE_control.nii.gz': 0.042,\n",
       " 'COPDGene_C40785_BONE_control.nii.gz': 0.054,\n",
       " 'COPDGene_C53764_BONE_control.nii.gz': 0.061,\n",
       " 'COPDGene_C64141_BONE_control.nii.gz': 0.033,\n",
       " 'COPDGene_C64303_BONE_control.nii.gz': 0.031,\n",
       " 'COPDGene_C73437_BONE_control.nii.gz': 0.046,\n",
       " 'COPDGene_D32260_BONE_control.nii.gz': 0.125,\n",
       " 'COPDGene_D41724_BONE_control.nii.gz': 0.018,\n",
       " 'COPDGene_D80990_BONE_control.nii.gz': 0.024,\n",
       " 'COPDGene_E73754_BONE_control.nii.gz': 0.017,\n",
       " 'COPDGene_F56917_BONE_control.nii.gz': 0.014}"
      ]
     },
     "execution_count": 20,
     "metadata": {},
     "output_type": "execute_result"
    }
   ],
   "source": [
    "dice_overlap_full"
   ]
  },
  {
   "cell_type": "code",
   "execution_count": 21,
   "metadata": {},
   "outputs": [
    {
     "data": {
      "image/png": "[encoded data removed]",
      "text/plain": [
       "<Figure size 1000x1000 with 1 Axes>"
      ]
     },
     "metadata": {},
     "output_type": "display_data"
    }
   ],
   "source": [
    "data = {\n",
    "    'dice_rigid': dice_overlap_rigid.values(),\n",
    "    'dice_deform_half_res': dice_overlap_deform.values(),\n",
    "    'dice_ANTS_full': dice_overlap_full.values()\n",
    "    \n",
    "}\n",
    "\n",
    "df = pd.DataFrame(data)\n",
    "\n",
    "plt.figure(figsize=(10, 10))\n",
    "sns.boxplot(data=df)\n",
    "plt.ylabel(\"Dice overlap\", fontsize=14)\n",
    "plt.ylim(0, 0.6)\n",
    "plt.title(\"Dice overlap between fixed empysema mask and registered emphysema mask\", fontsize=14)\n",
    "plt.show()"
   ]
  },
  {
   "cell_type": "markdown",
   "metadata": {},
   "source": [
    "## Emphysema on cases for rigid and deformed registered non harmonized images"
   ]
  },
  {
   "cell_type": "code",
   "execution_count": 3,
   "metadata": {},
   "outputs": [
    {
     "data": {
      "text/plain": [
       "['COPDGene_A43240_BONE.nii.gz',\n",
       " 'COPDGene_B05639_BONE.nii.gz',\n",
       " 'COPDGene_B14644_BONE.nii.gz',\n",
       " 'COPDGene_B86334_BONE.nii.gz',\n",
       " 'COPDGene_C64585_BONE.nii.gz',\n",
       " 'COPDGene_D36309_BONE.nii.gz',\n",
       " 'COPDGene_D48362_BONE.nii.gz',\n",
       " 'COPDGene_D70993_BONE.nii.gz',\n",
       " 'COPDGene_D90444_BONE.nii.gz',\n",
       " 'COPDGene_E59904_BONE.nii.gz',\n",
       " 'COPDGene_E69868_BONE.nii.gz',\n",
       " 'COPDGene_F02607_BONE.nii.gz',\n",
       " 'COPDGene_F32094_BONE.nii.gz']"
      ]
     },
     "execution_count": 3,
     "metadata": {},
     "output_type": "execute_result"
    }
   ],
   "source": [
    "### Dice scores on the ANTS full run. Rigid, old deform and full run \n",
    "output_warp_harmonized = \"/nfs/masi/krishar1/SPIE_2025_InhaleExhaleCT/data_split/registration_ANTS_command_line/nonharm_ANTS_outputs_exptoinsp_large_images_emphysema_warped\"\n",
    "\n",
    "output_warp_harmonized_files = [file for file in os.listdir(output_warp_harmonized) if not file.endswith(\"control_Warped.nii.gz\")]\n",
    "\n",
    "output_warp_harmonized_files\n",
    "\n",
    "subjects_BONE = sorted([file.replace(\"masked_\", \"\").replace(\"STANDARD\", \"BONE\").replace(\"_Warped.nii.gz\", \".nii.gz\") for file in output_warp_harmonized_files])\n",
    "subjects_BONE"
   ]
  },
  {
   "cell_type": "code",
   "execution_count": 4,
   "metadata": {},
   "outputs": [],
   "source": [
    "emph_bone_harm = \"/nfs/masi/krishar1/SPIE_2025_InhaleExhaleCT/data_split/val_test/insp_BONE_emphysema/emphysema\"\n",
    "emph_rigid_reg = \"/nfs/masi/krishar1/SPIE_2025_InhaleExhaleCT/data_split/registration_ANTS_command_line/nonharm_rigid_registered_emphysema_masks_warped\"\n",
    "emph_deform_reg = \"/nfs/masi/krishar1/SPIE_2025_InhaleExhaleCT/data_split/registration_ANTS_command_line/ANTS_outputs_exp_toinsp_nonharmonized_emphysema/warped_emphysema_masks\"\n",
    "emph_ANTS_full_reg = \"/nfs/masi/krishar1/SPIE_2025_InhaleExhaleCT/data_split/registration_ANTS_command_line/nonharm_ANTS_outputs_exptoinsp_large_images_emphysema_warped/\"\n",
    "\n",
    "emph_bone_harm_files = sorted([file for file in os.listdir(emph_bone_harm) if file in subjects_BONE])\n",
    "emph_rigid_reg_files = sorted([file for file in os.listdir(emph_rigid_reg) if file in output_warp_harmonized_files])\n",
    "emph_deform_reg_files = sorted([file for file in os.listdir(emph_deform_reg) if file in output_warp_harmonized_files])\n",
    "emph_ANTS_full_reg_files = sorted([file for file in os.listdir(emph_ANTS_full_reg) if file in output_warp_harmonized_files])"
   ]
  },
  {
   "cell_type": "code",
   "execution_count": 5,
   "metadata": {},
   "outputs": [
    {
     "name": "stderr",
     "output_type": "stream",
     "text": [
      " 31%|███       | 4/13 [00:25<00:55,  6.19s/it]"
     ]
    }
   ],
   "source": [
    "def dice_overlap(seg1, seg2):\n",
    "    intersect = np.sum(seg1*seg2)\n",
    "    fsum = np.sum(seg1)\n",
    "    ssum = np.sum(seg2)\n",
    "    dice = (2 * intersect) / (fsum + ssum)\n",
    "    dice = np.mean(dice)\n",
    "    dice = np.round(dice,3)\n",
    "    return dice\n",
    "\n",
    "dice_overlap_rigid = {}\n",
    "dice_overlap_deform={}\n",
    "dice_overlap_full={}\n",
    "\n",
    "for i in tqdm(range(len(emph_bone_harm_files))):\n",
    "    bone = nib.load(os.path.join(emph_bone_harm, emph_bone_harm_files[i])).get_fdata()\n",
    "    rigid = nib.load(os.path.join(emph_rigid_reg, emph_rigid_reg_files[i])).get_fdata()\n",
    "\n",
    "    bone_dice = dice_overlap(bone, rigid)\n",
    "\n",
    "    dice_overlap_rigid[emph_bone_harm_files[i]] = bone_dice\n",
    "\n",
    "for i in tqdm(range(len(emph_bone_harm_files))):\n",
    "    bone = nib.load(os.path.join(emph_bone_harm, emph_bone_harm_files[i])).get_fdata()\n",
    "    deform = nib.load(os.path.join(emph_deform_reg, emph_deform_reg_files[i])).get_fdata()\n",
    "\n",
    "    bone_dice = dice_overlap(bone, deform)\n",
    "\n",
    "    dice_overlap_deform[emph_bone_harm_files[i]] = bone_dice\n",
    "\n",
    "for i in tqdm(range(len(emph_bone_harm_files))):\n",
    "    bone = nib.load(os.path.join(emph_bone_harm, emph_bone_harm_files[i])).get_fdata()\n",
    "    full = nib.load(os.path.join(emph_ANTS_full_reg, emph_ANTS_full_reg_files[i])).get_fdata()\n",
    "\n",
    "    bone_dice = dice_overlap(bone, full)\n",
    "\n",
    "    dice_overlap_full[emph_bone_harm_files[i]] = bone_dice"
   ]
  },
  {
   "cell_type": "code",
   "execution_count": null,
   "metadata": {},
   "outputs": [],
   "source": [
    "import pandas as pd\n",
    "import seaborn as sns\n",
    "import matplotlib.pyplot as plt\n",
    "from scipy.stats import wilcoxon\n",
    "from statannot import add_stat_annotation\n",
    "\n",
    "# Assuming dice_overlap_rigid, dice_overlap_deform, and dice_overlap_full are defined\n",
    "data = {\n",
    "    'Dice_rigid': dice_overlap_rigid,\n",
    "    'Dice_deform_half_resolution': dice_overlap_deform,\n",
    "    'Dice_deform_full_resolution': dice_overlap_full\n",
    "}\n",
    "\n",
    "df = pd.DataFrame(data)\n",
    "\n",
    "plt.figure(figsize=(16, 16))\n",
    "ax = sns.boxplot(data=df)\n",
    "plt.ylabel(\"Dice overlap\", fontsize=16)\n",
    "plt.xticks(fontsize=16)\n",
    "# plt.xticks(rotation=45)\n",
    "plt.ylim(0, 0.6)\n",
    "plt.yticks(fontsize=16)\n",
    "plt.title(\"Dice overlap between fixed and warped emphysema masks\", fontsize=16)\n",
    "\n",
    "# Add statistical annotations\n",
    "box_pairs = [\n",
    "    (\"Dice_rigid\", \"Dice_deform_half_resolution\"),\n",
    "    (\"Dice_rigid\", \"Dice_deform_full_resolution\"),\n",
    "    (\"Dice_deform_half_resolution\", \"Dice_deform_full_resolution\")\n",
    "]\n",
    "\n",
    "# Perform Wilcoxon signed-rank test and annotate\n",
    "add_stat_annotation(ax, data=df, box_pairs=box_pairs,\n",
    "                    test='t-test_paired', text_format='star', loc='inside', verbose=2)\n",
    "plt.savefig(\"/nfs/masi/krishar1/SPIE_2025_InhaleExhaleCT/SPIE_paper_figures/quantitative/dice_overlap_nonharmonized_cases.tiff\", dpi=300)\n",
    "plt.show()"
   ]
  }
 ],
 "metadata": {
  "kernelspec": {
   "display_name": "lung2",
   "language": "python",
   "name": "python3"
  },
  "language_info": {
   "codemirror_mode": {
    "name": "ipython",
    "version": 3
   },
   "file_extension": ".py",
   "mimetype": "text/x-python",
   "name": "python",
   "nbconvert_exporter": "python",
   "pygments_lexer": "ipython3",
   "version": "3.7.16"
  }
 },
 "nbformat": 4,
 "nbformat_minor": 2
}
