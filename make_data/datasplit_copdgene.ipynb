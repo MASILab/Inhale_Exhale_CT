{
 "cells": [
  {
   "cell_type": "code",
   "execution_count": 1,
   "metadata": {},
   "outputs": [],
   "source": [
    "import os \n",
    "import pandas as pd \n",
    "import matplotlib.pyplot as plt\n",
    "import numpy as np\n",
    "import seaborn as sns\n",
    "import shutil \n",
    "from tqdm import tqdm"
   ]
  },
  {
   "cell_type": "code",
   "execution_count": 2,
   "metadata": {},
   "outputs": [
    {
     "data": {
      "text/html": [
       "<div>\n",
       "<style scoped>\n",
       "    .dataframe tbody tr th:only-of-type {\n",
       "        vertical-align: middle;\n",
       "    }\n",
       "\n",
       "    .dataframe tbody tr th {\n",
       "        vertical-align: top;\n",
       "    }\n",
       "\n",
       "    .dataframe thead th {\n",
       "        text-align: right;\n",
       "    }\n",
       "</style>\n",
       "<table border=\"1\" class=\"dataframe\">\n",
       "  <thead>\n",
       "    <tr style=\"text-align: right;\">\n",
       "      <th></th>\n",
       "      <th>Body Site</th>\n",
       "      <th>Case/control</th>\n",
       "      <th>Consent code</th>\n",
       "      <th>Consent</th>\n",
       "      <th>Downloaded</th>\n",
       "      <th>File format</th>\n",
       "      <th>File Name</th>\n",
       "      <th>Study PHS</th>\n",
       "      <th>GOLD classification</th>\n",
       "      <th>Image type</th>\n",
       "      <th>local_id</th>\n",
       "      <th>Population</th>\n",
       "      <th>Sex</th>\n",
       "      <th>Size</th>\n",
       "      <th>Unnamed: 14</th>\n",
       "    </tr>\n",
       "  </thead>\n",
       "  <tbody>\n",
       "    <tr>\n",
       "      <th>0</th>\n",
       "      <td>chest</td>\n",
       "      <td>control</td>\n",
       "      <td>2</td>\n",
       "      <td>DS-CS</td>\n",
       "      <td>no</td>\n",
       "      <td>tar</td>\n",
       "      <td>COPDGene_R27796_COPDGene_R27796.tar</td>\n",
       "      <td>phs000179</td>\n",
       "      <td>0</td>\n",
       "      <td>CT</td>\n",
       "      <td>d1984536</td>\n",
       "      <td>African American</td>\n",
       "      <td>male</td>\n",
       "      <td>985333760</td>\n",
       "      <td>1944.0</td>\n",
       "    </tr>\n",
       "    <tr>\n",
       "      <th>1</th>\n",
       "      <td>chest</td>\n",
       "      <td>control</td>\n",
       "      <td>2</td>\n",
       "      <td>DS-CS</td>\n",
       "      <td>Yes</td>\n",
       "      <td>tar</td>\n",
       "      <td>COPDGene_L26505.tar.gz</td>\n",
       "      <td>phs000179</td>\n",
       "      <td>GOLD_0_Control</td>\n",
       "      <td>CT</td>\n",
       "      <td>d1992782</td>\n",
       "      <td>Caucasian</td>\n",
       "      <td>male</td>\n",
       "      <td>679836847</td>\n",
       "      <td>1317.0</td>\n",
       "    </tr>\n",
       "    <tr>\n",
       "      <th>2</th>\n",
       "      <td>chest</td>\n",
       "      <td>control</td>\n",
       "      <td>2</td>\n",
       "      <td>DS-CS</td>\n",
       "      <td>Yes</td>\n",
       "      <td>tar</td>\n",
       "      <td>COPDGene_A65347_COPDGene_A65347.tar</td>\n",
       "      <td>phs000179</td>\n",
       "      <td>0</td>\n",
       "      <td>CT</td>\n",
       "      <td>d1984561</td>\n",
       "      <td>African American</td>\n",
       "      <td>female</td>\n",
       "      <td>1239736320</td>\n",
       "      <td>73.0</td>\n",
       "    </tr>\n",
       "    <tr>\n",
       "      <th>3</th>\n",
       "      <td>chest</td>\n",
       "      <td>case</td>\n",
       "      <td>2</td>\n",
       "      <td>DS-CS</td>\n",
       "      <td>Yes</td>\n",
       "      <td>tar</td>\n",
       "      <td>COPDGene_K93612_COPDGene_K93612.tar</td>\n",
       "      <td>phs000179</td>\n",
       "      <td>3</td>\n",
       "      <td>CT</td>\n",
       "      <td>d1984658</td>\n",
       "      <td>Caucasian</td>\n",
       "      <td>male</td>\n",
       "      <td>1131806720</td>\n",
       "      <td>NaN</td>\n",
       "    </tr>\n",
       "    <tr>\n",
       "      <th>4</th>\n",
       "      <td>chest</td>\n",
       "      <td>control</td>\n",
       "      <td>2</td>\n",
       "      <td>DS-CS</td>\n",
       "      <td>no</td>\n",
       "      <td>tar</td>\n",
       "      <td>COPDGene_Z48649_COPDGene_Z48649.tar</td>\n",
       "      <td>phs000179</td>\n",
       "      <td>0</td>\n",
       "      <td>CT</td>\n",
       "      <td>d1984559</td>\n",
       "      <td>African American</td>\n",
       "      <td>male</td>\n",
       "      <td>740085760</td>\n",
       "      <td>3045.0</td>\n",
       "    </tr>\n",
       "    <tr>\n",
       "      <th>...</th>\n",
       "      <td>...</td>\n",
       "      <td>...</td>\n",
       "      <td>...</td>\n",
       "      <td>...</td>\n",
       "      <td>...</td>\n",
       "      <td>...</td>\n",
       "      <td>...</td>\n",
       "      <td>...</td>\n",
       "      <td>...</td>\n",
       "      <td>...</td>\n",
       "      <td>...</td>\n",
       "      <td>...</td>\n",
       "      <td>...</td>\n",
       "      <td>...</td>\n",
       "      <td>...</td>\n",
       "    </tr>\n",
       "    <tr>\n",
       "      <th>12098</th>\n",
       "      <td>chest</td>\n",
       "      <td>control</td>\n",
       "      <td>1</td>\n",
       "      <td>HMB</td>\n",
       "      <td>no</td>\n",
       "      <td>tar</td>\n",
       "      <td>COPDGene_W67783_COPDGene_W67783.tar</td>\n",
       "      <td>phs000179</td>\n",
       "      <td>0</td>\n",
       "      <td>CT</td>\n",
       "      <td>d1984409</td>\n",
       "      <td>European-American</td>\n",
       "      <td>male</td>\n",
       "      <td>1200496640</td>\n",
       "      <td>NaN</td>\n",
       "    </tr>\n",
       "    <tr>\n",
       "      <th>12099</th>\n",
       "      <td>chest</td>\n",
       "      <td>control</td>\n",
       "      <td>1</td>\n",
       "      <td>HMB</td>\n",
       "      <td>Yes</td>\n",
       "      <td>tar</td>\n",
       "      <td>COPDGene_Q19809.tar.gz</td>\n",
       "      <td>phs000179</td>\n",
       "      <td>GOLD_0_Control</td>\n",
       "      <td>CT</td>\n",
       "      <td>d1992305</td>\n",
       "      <td>Caucasian</td>\n",
       "      <td>female</td>\n",
       "      <td>529506641</td>\n",
       "      <td>1819.0</td>\n",
       "    </tr>\n",
       "    <tr>\n",
       "      <th>12100</th>\n",
       "      <td>chest</td>\n",
       "      <td>case</td>\n",
       "      <td>1</td>\n",
       "      <td>HMB</td>\n",
       "      <td>Yes</td>\n",
       "      <td>tar</td>\n",
       "      <td>COPDGene_D70993_COPDGene_D70993.tar</td>\n",
       "      <td>phs000179</td>\n",
       "      <td>3</td>\n",
       "      <td>CT</td>\n",
       "      <td>d1979500</td>\n",
       "      <td>Caucasian</td>\n",
       "      <td>male</td>\n",
       "      <td>1129728000</td>\n",
       "      <td>NaN</td>\n",
       "    </tr>\n",
       "    <tr>\n",
       "      <th>12101</th>\n",
       "      <td>chest</td>\n",
       "      <td>Other</td>\n",
       "      <td>1</td>\n",
       "      <td>HMB</td>\n",
       "      <td>Yes</td>\n",
       "      <td>tar</td>\n",
       "      <td>COPDGene_C63452.tar.gz</td>\n",
       "      <td>phs000179</td>\n",
       "      <td>GOLD_1</td>\n",
       "      <td>CT</td>\n",
       "      <td>d1992576</td>\n",
       "      <td>Caucasian</td>\n",
       "      <td>male</td>\n",
       "      <td>1300595977</td>\n",
       "      <td>NaN</td>\n",
       "    </tr>\n",
       "    <tr>\n",
       "      <th>12102</th>\n",
       "      <td>chest</td>\n",
       "      <td>control</td>\n",
       "      <td>1</td>\n",
       "      <td>HMB</td>\n",
       "      <td>no</td>\n",
       "      <td>tar</td>\n",
       "      <td>COPDGene_U38257_COPDGene_U38257.tar</td>\n",
       "      <td>phs000179</td>\n",
       "      <td>0</td>\n",
       "      <td>CT</td>\n",
       "      <td>d1982581</td>\n",
       "      <td>Caucasian</td>\n",
       "      <td>female</td>\n",
       "      <td>1147607040</td>\n",
       "      <td>2393.0</td>\n",
       "    </tr>\n",
       "  </tbody>\n",
       "</table>\n",
       "<p>12103 rows × 15 columns</p>\n",
       "</div>"
      ],
      "text/plain": [
       "      Body Site Case/control  Consent code Consent Downloaded File format  \\\n",
       "0         chest      control             2   DS-CS         no         tar   \n",
       "1         chest      control             2   DS-CS        Yes         tar   \n",
       "2         chest      control             2   DS-CS        Yes         tar   \n",
       "3         chest         case             2   DS-CS        Yes         tar   \n",
       "4         chest      control             2   DS-CS         no         tar   \n",
       "...         ...          ...           ...     ...        ...         ...   \n",
       "12098     chest      control             1     HMB         no         tar   \n",
       "12099     chest      control             1     HMB        Yes         tar   \n",
       "12100     chest         case             1     HMB        Yes         tar   \n",
       "12101     chest        Other             1     HMB        Yes         tar   \n",
       "12102     chest      control             1     HMB         no         tar   \n",
       "\n",
       "                                 File Name  Study PHS GOLD classification  \\\n",
       "0      COPDGene_R27796_COPDGene_R27796.tar  phs000179                   0   \n",
       "1                   COPDGene_L26505.tar.gz  phs000179      GOLD_0_Control   \n",
       "2      COPDGene_A65347_COPDGene_A65347.tar  phs000179                   0   \n",
       "3      COPDGene_K93612_COPDGene_K93612.tar  phs000179                   3   \n",
       "4      COPDGene_Z48649_COPDGene_Z48649.tar  phs000179                   0   \n",
       "...                                    ...        ...                 ...   \n",
       "12098  COPDGene_W67783_COPDGene_W67783.tar  phs000179                   0   \n",
       "12099               COPDGene_Q19809.tar.gz  phs000179      GOLD_0_Control   \n",
       "12100  COPDGene_D70993_COPDGene_D70993.tar  phs000179                   3   \n",
       "12101               COPDGene_C63452.tar.gz  phs000179              GOLD_1   \n",
       "12102  COPDGene_U38257_COPDGene_U38257.tar  phs000179                   0   \n",
       "\n",
       "      Image type  local_id         Population     Sex        Size  Unnamed: 14  \n",
       "0             CT  d1984536   African American    male   985333760       1944.0  \n",
       "1             CT  d1992782          Caucasian    male   679836847       1317.0  \n",
       "2             CT  d1984561   African American  female  1239736320         73.0  \n",
       "3             CT  d1984658          Caucasian    male  1131806720          NaN  \n",
       "4             CT  d1984559   African American    male   740085760       3045.0  \n",
       "...          ...       ...                ...     ...         ...          ...  \n",
       "12098         CT  d1984409  European-American    male  1200496640          NaN  \n",
       "12099         CT  d1992305          Caucasian  female   529506641       1819.0  \n",
       "12100         CT  d1979500          Caucasian    male  1129728000          NaN  \n",
       "12101         CT  d1992576          Caucasian    male  1300595977          NaN  \n",
       "12102         CT  d1982581          Caucasian  female  1147607040       2393.0  \n",
       "\n",
       "[12103 rows x 15 columns]"
      ]
     },
     "execution_count": 2,
     "metadata": {},
     "output_type": "execute_result"
    }
   ],
   "source": [
    "copd = pd.read_csv(\"/fs5/p_masi/krishar1/COPDGENE/COPD-gene-progress_updated.csv\")\n",
    "copd"
   ]
  },
  {
   "cell_type": "code",
   "execution_count": 3,
   "metadata": {},
   "outputs": [
    {
     "data": {
      "text/html": [
       "<div>\n",
       "<style scoped>\n",
       "    .dataframe tbody tr th:only-of-type {\n",
       "        vertical-align: middle;\n",
       "    }\n",
       "\n",
       "    .dataframe tbody tr th {\n",
       "        vertical-align: top;\n",
       "    }\n",
       "\n",
       "    .dataframe thead th {\n",
       "        text-align: right;\n",
       "    }\n",
       "</style>\n",
       "<table border=\"1\" class=\"dataframe\">\n",
       "  <thead>\n",
       "    <tr style=\"text-align: right;\">\n",
       "      <th></th>\n",
       "      <th>Body Site</th>\n",
       "      <th>Case/control</th>\n",
       "      <th>Consent code</th>\n",
       "      <th>Consent</th>\n",
       "      <th>Downloaded</th>\n",
       "      <th>File format</th>\n",
       "      <th>File Name</th>\n",
       "      <th>Study PHS</th>\n",
       "      <th>GOLD classification</th>\n",
       "      <th>Image type</th>\n",
       "      <th>local_id</th>\n",
       "      <th>Population</th>\n",
       "      <th>Sex</th>\n",
       "      <th>Size</th>\n",
       "      <th>Unnamed: 14</th>\n",
       "    </tr>\n",
       "  </thead>\n",
       "  <tbody>\n",
       "    <tr>\n",
       "      <th>1</th>\n",
       "      <td>chest</td>\n",
       "      <td>control</td>\n",
       "      <td>2</td>\n",
       "      <td>DS-CS</td>\n",
       "      <td>Yes</td>\n",
       "      <td>tar</td>\n",
       "      <td>COPDGene_L26505.tar.gz</td>\n",
       "      <td>phs000179</td>\n",
       "      <td>GOLD_0_Control</td>\n",
       "      <td>CT</td>\n",
       "      <td>d1992782</td>\n",
       "      <td>Caucasian</td>\n",
       "      <td>male</td>\n",
       "      <td>679836847</td>\n",
       "      <td>1317.0</td>\n",
       "    </tr>\n",
       "    <tr>\n",
       "      <th>2</th>\n",
       "      <td>chest</td>\n",
       "      <td>control</td>\n",
       "      <td>2</td>\n",
       "      <td>DS-CS</td>\n",
       "      <td>Yes</td>\n",
       "      <td>tar</td>\n",
       "      <td>COPDGene_A65347_COPDGene_A65347.tar</td>\n",
       "      <td>phs000179</td>\n",
       "      <td>0</td>\n",
       "      <td>CT</td>\n",
       "      <td>d1984561</td>\n",
       "      <td>African American</td>\n",
       "      <td>female</td>\n",
       "      <td>1239736320</td>\n",
       "      <td>73.0</td>\n",
       "    </tr>\n",
       "    <tr>\n",
       "      <th>3</th>\n",
       "      <td>chest</td>\n",
       "      <td>case</td>\n",
       "      <td>2</td>\n",
       "      <td>DS-CS</td>\n",
       "      <td>Yes</td>\n",
       "      <td>tar</td>\n",
       "      <td>COPDGene_K93612_COPDGene_K93612.tar</td>\n",
       "      <td>phs000179</td>\n",
       "      <td>3</td>\n",
       "      <td>CT</td>\n",
       "      <td>d1984658</td>\n",
       "      <td>Caucasian</td>\n",
       "      <td>male</td>\n",
       "      <td>1131806720</td>\n",
       "      <td>NaN</td>\n",
       "    </tr>\n",
       "    <tr>\n",
       "      <th>5</th>\n",
       "      <td>chest</td>\n",
       "      <td>control</td>\n",
       "      <td>2</td>\n",
       "      <td>DS-CS</td>\n",
       "      <td>Yes</td>\n",
       "      <td>tar</td>\n",
       "      <td>COPDGene_A16021_COPDGene_A16021.tar</td>\n",
       "      <td>phs000179</td>\n",
       "      <td>0</td>\n",
       "      <td>CT</td>\n",
       "      <td>d1984560</td>\n",
       "      <td>African American</td>\n",
       "      <td>female</td>\n",
       "      <td>956508160</td>\n",
       "      <td>18.0</td>\n",
       "    </tr>\n",
       "    <tr>\n",
       "      <th>9</th>\n",
       "      <td>chest</td>\n",
       "      <td>case</td>\n",
       "      <td>2</td>\n",
       "      <td>DS-CS</td>\n",
       "      <td>Yes</td>\n",
       "      <td>tar</td>\n",
       "      <td>COPDGene_B06247_COPDGene_B06247.tar</td>\n",
       "      <td>phs000179</td>\n",
       "      <td>2</td>\n",
       "      <td>CT</td>\n",
       "      <td>d1984638</td>\n",
       "      <td>Caucasian</td>\n",
       "      <td>male</td>\n",
       "      <td>1488998400</td>\n",
       "      <td>NaN</td>\n",
       "    </tr>\n",
       "    <tr>\n",
       "      <th>...</th>\n",
       "      <td>...</td>\n",
       "      <td>...</td>\n",
       "      <td>...</td>\n",
       "      <td>...</td>\n",
       "      <td>...</td>\n",
       "      <td>...</td>\n",
       "      <td>...</td>\n",
       "      <td>...</td>\n",
       "      <td>...</td>\n",
       "      <td>...</td>\n",
       "      <td>...</td>\n",
       "      <td>...</td>\n",
       "      <td>...</td>\n",
       "      <td>...</td>\n",
       "      <td>...</td>\n",
       "    </tr>\n",
       "    <tr>\n",
       "      <th>12096</th>\n",
       "      <td>chest</td>\n",
       "      <td>case</td>\n",
       "      <td>1</td>\n",
       "      <td>HMB</td>\n",
       "      <td>Yes</td>\n",
       "      <td>tar</td>\n",
       "      <td>COPDGene_A75350_COPDGene_A75350.tar</td>\n",
       "      <td>phs000179</td>\n",
       "      <td>3</td>\n",
       "      <td>CT</td>\n",
       "      <td>d1975493</td>\n",
       "      <td>African American</td>\n",
       "      <td>male</td>\n",
       "      <td>1664419840</td>\n",
       "      <td>NaN</td>\n",
       "    </tr>\n",
       "    <tr>\n",
       "      <th>12097</th>\n",
       "      <td>chest</td>\n",
       "      <td>Other</td>\n",
       "      <td>1</td>\n",
       "      <td>HMB</td>\n",
       "      <td>Yes</td>\n",
       "      <td>tar</td>\n",
       "      <td>COPDGene_J98253.tar.gz</td>\n",
       "      <td>phs000179</td>\n",
       "      <td>GOLD-U_Unclassified</td>\n",
       "      <td>CT</td>\n",
       "      <td>d1992524</td>\n",
       "      <td>Caucasian</td>\n",
       "      <td>female</td>\n",
       "      <td>732535261</td>\n",
       "      <td>NaN</td>\n",
       "    </tr>\n",
       "    <tr>\n",
       "      <th>12099</th>\n",
       "      <td>chest</td>\n",
       "      <td>control</td>\n",
       "      <td>1</td>\n",
       "      <td>HMB</td>\n",
       "      <td>Yes</td>\n",
       "      <td>tar</td>\n",
       "      <td>COPDGene_Q19809.tar.gz</td>\n",
       "      <td>phs000179</td>\n",
       "      <td>GOLD_0_Control</td>\n",
       "      <td>CT</td>\n",
       "      <td>d1992305</td>\n",
       "      <td>Caucasian</td>\n",
       "      <td>female</td>\n",
       "      <td>529506641</td>\n",
       "      <td>1819.0</td>\n",
       "    </tr>\n",
       "    <tr>\n",
       "      <th>12100</th>\n",
       "      <td>chest</td>\n",
       "      <td>case</td>\n",
       "      <td>1</td>\n",
       "      <td>HMB</td>\n",
       "      <td>Yes</td>\n",
       "      <td>tar</td>\n",
       "      <td>COPDGene_D70993_COPDGene_D70993.tar</td>\n",
       "      <td>phs000179</td>\n",
       "      <td>3</td>\n",
       "      <td>CT</td>\n",
       "      <td>d1979500</td>\n",
       "      <td>Caucasian</td>\n",
       "      <td>male</td>\n",
       "      <td>1129728000</td>\n",
       "      <td>NaN</td>\n",
       "    </tr>\n",
       "    <tr>\n",
       "      <th>12101</th>\n",
       "      <td>chest</td>\n",
       "      <td>Other</td>\n",
       "      <td>1</td>\n",
       "      <td>HMB</td>\n",
       "      <td>Yes</td>\n",
       "      <td>tar</td>\n",
       "      <td>COPDGene_C63452.tar.gz</td>\n",
       "      <td>phs000179</td>\n",
       "      <td>GOLD_1</td>\n",
       "      <td>CT</td>\n",
       "      <td>d1992576</td>\n",
       "      <td>Caucasian</td>\n",
       "      <td>male</td>\n",
       "      <td>1300595977</td>\n",
       "      <td>NaN</td>\n",
       "    </tr>\n",
       "  </tbody>\n",
       "</table>\n",
       "<p>7368 rows × 15 columns</p>\n",
       "</div>"
      ],
      "text/plain": [
       "      Body Site Case/control  Consent code Consent Downloaded File format  \\\n",
       "1         chest      control             2   DS-CS        Yes         tar   \n",
       "2         chest      control             2   DS-CS        Yes         tar   \n",
       "3         chest         case             2   DS-CS        Yes         tar   \n",
       "5         chest      control             2   DS-CS        Yes         tar   \n",
       "9         chest         case             2   DS-CS        Yes         tar   \n",
       "...         ...          ...           ...     ...        ...         ...   \n",
       "12096     chest         case             1     HMB        Yes         tar   \n",
       "12097     chest        Other             1     HMB        Yes         tar   \n",
       "12099     chest      control             1     HMB        Yes         tar   \n",
       "12100     chest         case             1     HMB        Yes         tar   \n",
       "12101     chest        Other             1     HMB        Yes         tar   \n",
       "\n",
       "                                 File Name  Study PHS  GOLD classification  \\\n",
       "1                   COPDGene_L26505.tar.gz  phs000179       GOLD_0_Control   \n",
       "2      COPDGene_A65347_COPDGene_A65347.tar  phs000179                    0   \n",
       "3      COPDGene_K93612_COPDGene_K93612.tar  phs000179                    3   \n",
       "5      COPDGene_A16021_COPDGene_A16021.tar  phs000179                    0   \n",
       "9      COPDGene_B06247_COPDGene_B06247.tar  phs000179                    2   \n",
       "...                                    ...        ...                  ...   \n",
       "12096  COPDGene_A75350_COPDGene_A75350.tar  phs000179                    3   \n",
       "12097               COPDGene_J98253.tar.gz  phs000179  GOLD-U_Unclassified   \n",
       "12099               COPDGene_Q19809.tar.gz  phs000179       GOLD_0_Control   \n",
       "12100  COPDGene_D70993_COPDGene_D70993.tar  phs000179                    3   \n",
       "12101               COPDGene_C63452.tar.gz  phs000179               GOLD_1   \n",
       "\n",
       "      Image type  local_id        Population     Sex        Size  Unnamed: 14  \n",
       "1             CT  d1992782         Caucasian    male   679836847       1317.0  \n",
       "2             CT  d1984561  African American  female  1239736320         73.0  \n",
       "3             CT  d1984658         Caucasian    male  1131806720          NaN  \n",
       "5             CT  d1984560  African American  female   956508160         18.0  \n",
       "9             CT  d1984638         Caucasian    male  1488998400          NaN  \n",
       "...          ...       ...               ...     ...         ...          ...  \n",
       "12096         CT  d1975493  African American    male  1664419840          NaN  \n",
       "12097         CT  d1992524         Caucasian  female   732535261          NaN  \n",
       "12099         CT  d1992305         Caucasian  female   529506641       1819.0  \n",
       "12100         CT  d1979500         Caucasian    male  1129728000          NaN  \n",
       "12101         CT  d1992576         Caucasian    male  1300595977          NaN  \n",
       "\n",
       "[7368 rows x 15 columns]"
      ]
     },
     "execution_count": 3,
     "metadata": {},
     "output_type": "execute_result"
    }
   ],
   "source": [
    "copd_available = copd[copd['Downloaded'] == 'Yes']\n",
    "copd_available"
   ]
  },
  {
   "cell_type": "code",
   "execution_count": 4,
   "metadata": {},
   "outputs": [
    {
     "data": {
      "image/png": "[encoded data removed]",
      "text/plain": [
       "<Figure size 640x480 with 1 Axes>"
      ]
     },
     "metadata": {},
     "output_type": "display_data"
    }
   ],
   "source": [
    "#Make a countplot of Case/control vs GOLD classification\n",
    "sns.countplot(x='Case/control', data=copd_available, hue='GOLD classification')\n",
    "plt.title('Case/Control vs GOLD classification')\n",
    "plt.show()"
   ]
  },
  {
   "cell_type": "code",
   "execution_count": 5,
   "metadata": {},
   "outputs": [
    {
     "data": {
      "text/html": [
       "<div>\n",
       "<style scoped>\n",
       "    .dataframe tbody tr th:only-of-type {\n",
       "        vertical-align: middle;\n",
       "    }\n",
       "\n",
       "    .dataframe tbody tr th {\n",
       "        vertical-align: top;\n",
       "    }\n",
       "\n",
       "    .dataframe thead th {\n",
       "        text-align: right;\n",
       "    }\n",
       "</style>\n",
       "<table border=\"1\" class=\"dataframe\">\n",
       "  <thead>\n",
       "    <tr style=\"text-align: right;\">\n",
       "      <th></th>\n",
       "      <th>Body Site</th>\n",
       "      <th>Case/control</th>\n",
       "      <th>Consent code</th>\n",
       "      <th>Consent</th>\n",
       "      <th>Downloaded</th>\n",
       "      <th>File format</th>\n",
       "      <th>File Name</th>\n",
       "      <th>Study PHS</th>\n",
       "      <th>GOLD classification</th>\n",
       "      <th>Image type</th>\n",
       "      <th>local_id</th>\n",
       "      <th>Population</th>\n",
       "      <th>Sex</th>\n",
       "      <th>Size</th>\n",
       "      <th>Unnamed: 14</th>\n",
       "    </tr>\n",
       "  </thead>\n",
       "  <tbody>\n",
       "    <tr>\n",
       "      <th>6064</th>\n",
       "      <td>chest</td>\n",
       "      <td>unknown</td>\n",
       "      <td>1</td>\n",
       "      <td>HMB</td>\n",
       "      <td>Yes</td>\n",
       "      <td>tar</td>\n",
       "      <td>COPDGene_H43475_COPDGene_H43475.tar</td>\n",
       "      <td>phs000179</td>\n",
       "      <td>1</td>\n",
       "      <td>CT</td>\n",
       "      <td>d1984006</td>\n",
       "      <td>Caucasian</td>\n",
       "      <td>female</td>\n",
       "      <td>932229120</td>\n",
       "      <td>NaN</td>\n",
       "    </tr>\n",
       "    <tr>\n",
       "      <th>9795</th>\n",
       "      <td>chest</td>\n",
       "      <td>control</td>\n",
       "      <td>1</td>\n",
       "      <td>HMB</td>\n",
       "      <td>Yes</td>\n",
       "      <td>tar</td>\n",
       "      <td>COPDGene_F36155.tar.gz</td>\n",
       "      <td>phs000179</td>\n",
       "      <td>GOLD_0_Control</td>\n",
       "      <td>CT</td>\n",
       "      <td>d1992172</td>\n",
       "      <td>Caucasian</td>\n",
       "      <td>female</td>\n",
       "      <td>1217227680</td>\n",
       "      <td>703.0</td>\n",
       "    </tr>\n",
       "    <tr>\n",
       "      <th>5621</th>\n",
       "      <td>chest</td>\n",
       "      <td>case</td>\n",
       "      <td>1</td>\n",
       "      <td>HMB</td>\n",
       "      <td>Yes</td>\n",
       "      <td>tar</td>\n",
       "      <td>COPDGene_J75976_COPDGene_J75976.tar</td>\n",
       "      <td>phs000179</td>\n",
       "      <td>2</td>\n",
       "      <td>CT</td>\n",
       "      <td>d1978333</td>\n",
       "      <td>Caucasian</td>\n",
       "      <td>male</td>\n",
       "      <td>1332592640</td>\n",
       "      <td>NaN</td>\n",
       "    </tr>\n",
       "    <tr>\n",
       "      <th>1428</th>\n",
       "      <td>chest</td>\n",
       "      <td>case</td>\n",
       "      <td>1</td>\n",
       "      <td>HMB</td>\n",
       "      <td>Yes</td>\n",
       "      <td>tar</td>\n",
       "      <td>COPDGene_C30122_COPDGene_C30122.tar</td>\n",
       "      <td>phs000179</td>\n",
       "      <td>4</td>\n",
       "      <td>CT</td>\n",
       "      <td>d1980219</td>\n",
       "      <td>Caucasian</td>\n",
       "      <td>male</td>\n",
       "      <td>1202606080</td>\n",
       "      <td>NaN</td>\n",
       "    </tr>\n",
       "    <tr>\n",
       "      <th>629</th>\n",
       "      <td>chest</td>\n",
       "      <td>unknown</td>\n",
       "      <td>1</td>\n",
       "      <td>HMB</td>\n",
       "      <td>Yes</td>\n",
       "      <td>tar</td>\n",
       "      <td>COPDGene_P79583_COPDGene_P79583.tar</td>\n",
       "      <td>phs000179</td>\n",
       "      <td>1</td>\n",
       "      <td>CT</td>\n",
       "      <td>d1984055</td>\n",
       "      <td>Caucasian</td>\n",
       "      <td>female</td>\n",
       "      <td>1958625280</td>\n",
       "      <td>NaN</td>\n",
       "    </tr>\n",
       "    <tr>\n",
       "      <th>...</th>\n",
       "      <td>...</td>\n",
       "      <td>...</td>\n",
       "      <td>...</td>\n",
       "      <td>...</td>\n",
       "      <td>...</td>\n",
       "      <td>...</td>\n",
       "      <td>...</td>\n",
       "      <td>...</td>\n",
       "      <td>...</td>\n",
       "      <td>...</td>\n",
       "      <td>...</td>\n",
       "      <td>...</td>\n",
       "      <td>...</td>\n",
       "      <td>...</td>\n",
       "      <td>...</td>\n",
       "    </tr>\n",
       "    <tr>\n",
       "      <th>1868</th>\n",
       "      <td>chest</td>\n",
       "      <td>case</td>\n",
       "      <td>1</td>\n",
       "      <td>HMB</td>\n",
       "      <td>Yes</td>\n",
       "      <td>tar</td>\n",
       "      <td>COPDGene_E01371_COPDGene_E01371.tar</td>\n",
       "      <td>phs000179</td>\n",
       "      <td>4</td>\n",
       "      <td>CT</td>\n",
       "      <td>d1984340</td>\n",
       "      <td>European-American</td>\n",
       "      <td>female</td>\n",
       "      <td>1416079360</td>\n",
       "      <td>NaN</td>\n",
       "    </tr>\n",
       "    <tr>\n",
       "      <th>10168</th>\n",
       "      <td>chest</td>\n",
       "      <td>case</td>\n",
       "      <td>1</td>\n",
       "      <td>HMB</td>\n",
       "      <td>Yes</td>\n",
       "      <td>tar</td>\n",
       "      <td>COPDGene_P28174.tar.gz</td>\n",
       "      <td>phs000179</td>\n",
       "      <td>GOLD_3</td>\n",
       "      <td>CT</td>\n",
       "      <td>d1990468</td>\n",
       "      <td>African</td>\n",
       "      <td>male</td>\n",
       "      <td>498893895</td>\n",
       "      <td>NaN</td>\n",
       "    </tr>\n",
       "    <tr>\n",
       "      <th>4875</th>\n",
       "      <td>chest</td>\n",
       "      <td>control</td>\n",
       "      <td>1</td>\n",
       "      <td>HMB</td>\n",
       "      <td>Yes</td>\n",
       "      <td>tar</td>\n",
       "      <td>COPDGene_B59490.tar.gz</td>\n",
       "      <td>phs000179</td>\n",
       "      <td>GOLD_0_Control</td>\n",
       "      <td>CT</td>\n",
       "      <td>d1990549</td>\n",
       "      <td>African</td>\n",
       "      <td>male</td>\n",
       "      <td>761147279</td>\n",
       "      <td>NaN</td>\n",
       "    </tr>\n",
       "    <tr>\n",
       "      <th>4440</th>\n",
       "      <td>chest</td>\n",
       "      <td>case</td>\n",
       "      <td>1</td>\n",
       "      <td>HMB</td>\n",
       "      <td>Yes</td>\n",
       "      <td>tar</td>\n",
       "      <td>COPDGene_E80919_COPDGene_E80919.tar</td>\n",
       "      <td>phs000179</td>\n",
       "      <td>3</td>\n",
       "      <td>CT</td>\n",
       "      <td>d1975624</td>\n",
       "      <td>African American</td>\n",
       "      <td>female</td>\n",
       "      <td>954398720</td>\n",
       "      <td>NaN</td>\n",
       "    </tr>\n",
       "    <tr>\n",
       "      <th>7974</th>\n",
       "      <td>chest</td>\n",
       "      <td>control</td>\n",
       "      <td>1</td>\n",
       "      <td>HMB</td>\n",
       "      <td>Yes</td>\n",
       "      <td>tar</td>\n",
       "      <td>COPDGene_D65128_COPDGene_D65128.tar</td>\n",
       "      <td>phs000179</td>\n",
       "      <td>0</td>\n",
       "      <td>CT</td>\n",
       "      <td>d1975959</td>\n",
       "      <td>African American</td>\n",
       "      <td>male</td>\n",
       "      <td>1511188480</td>\n",
       "      <td>494.0</td>\n",
       "    </tr>\n",
       "  </tbody>\n",
       "</table>\n",
       "<p>1000 rows × 15 columns</p>\n",
       "</div>"
      ],
      "text/plain": [
       "      Body Site Case/control  Consent code Consent Downloaded File format  \\\n",
       "6064      chest      unknown             1     HMB        Yes         tar   \n",
       "9795      chest      control             1     HMB        Yes         tar   \n",
       "5621      chest         case             1     HMB        Yes         tar   \n",
       "1428      chest         case             1     HMB        Yes         tar   \n",
       "629       chest      unknown             1     HMB        Yes         tar   \n",
       "...         ...          ...           ...     ...        ...         ...   \n",
       "1868      chest         case             1     HMB        Yes         tar   \n",
       "10168     chest         case             1     HMB        Yes         tar   \n",
       "4875      chest      control             1     HMB        Yes         tar   \n",
       "4440      chest         case             1     HMB        Yes         tar   \n",
       "7974      chest      control             1     HMB        Yes         tar   \n",
       "\n",
       "                                 File Name  Study PHS GOLD classification  \\\n",
       "6064   COPDGene_H43475_COPDGene_H43475.tar  phs000179                   1   \n",
       "9795                COPDGene_F36155.tar.gz  phs000179      GOLD_0_Control   \n",
       "5621   COPDGene_J75976_COPDGene_J75976.tar  phs000179                   2   \n",
       "1428   COPDGene_C30122_COPDGene_C30122.tar  phs000179                   4   \n",
       "629    COPDGene_P79583_COPDGene_P79583.tar  phs000179                   1   \n",
       "...                                    ...        ...                 ...   \n",
       "1868   COPDGene_E01371_COPDGene_E01371.tar  phs000179                   4   \n",
       "10168               COPDGene_P28174.tar.gz  phs000179              GOLD_3   \n",
       "4875                COPDGene_B59490.tar.gz  phs000179      GOLD_0_Control   \n",
       "4440   COPDGene_E80919_COPDGene_E80919.tar  phs000179                   3   \n",
       "7974   COPDGene_D65128_COPDGene_D65128.tar  phs000179                   0   \n",
       "\n",
       "      Image type  local_id         Population     Sex        Size  Unnamed: 14  \n",
       "6064          CT  d1984006          Caucasian  female   932229120          NaN  \n",
       "9795          CT  d1992172          Caucasian  female  1217227680        703.0  \n",
       "5621          CT  d1978333          Caucasian    male  1332592640          NaN  \n",
       "1428          CT  d1980219          Caucasian    male  1202606080          NaN  \n",
       "629           CT  d1984055          Caucasian  female  1958625280          NaN  \n",
       "...          ...       ...                ...     ...         ...          ...  \n",
       "1868          CT  d1984340  European-American  female  1416079360          NaN  \n",
       "10168         CT  d1990468            African    male   498893895          NaN  \n",
       "4875          CT  d1990549            African    male   761147279          NaN  \n",
       "4440          CT  d1975624   African American  female   954398720          NaN  \n",
       "7974          CT  d1975959   African American    male  1511188480        494.0  \n",
       "\n",
       "[1000 rows x 15 columns]"
      ]
     },
     "execution_count": 5,
     "metadata": {},
     "output_type": "execute_result"
    }
   ],
   "source": [
    "#Randomly sample 1000 subjects from the dataset for SPIE\n",
    "copd_sample = copd_available.sample(n=1000, random_state=1)\n",
    "copd_sample"
   ]
  },
  {
   "cell_type": "code",
   "execution_count": 6,
   "metadata": {},
   "outputs": [
    {
     "data": {
      "image/png": "[encoded data removed]",
      "text/plain": [
       "<Figure size 640x480 with 1 Axes>"
      ]
     },
     "metadata": {},
     "output_type": "display_data"
    }
   ],
   "source": [
    "#plot cases vs control in the sample\n",
    "sns.countplot(x='Case/control', data=copd_sample)\n",
    "plt.title('Cases vs Control in the sample')\n",
    "plt.show()"
   ]
  },
  {
   "cell_type": "code",
   "execution_count": 7,
   "metadata": {},
   "outputs": [
    {
     "data": {
      "image/png": "[encoded data removed]",
      "text/plain": [
       "<Figure size 640x480 with 1 Axes>"
      ]
     },
     "metadata": {},
     "output_type": "display_data"
    }
   ],
   "source": [
    "#Plot the population and sex distribution in the sample\n",
    "sns.countplot(x='Population', data=copd_sample)\n",
    "plt.title('Population distribution in the sample')\n",
    "plt.show()"
   ]
  },
  {
   "cell_type": "code",
   "execution_count": 8,
   "metadata": {},
   "outputs": [
    {
     "data": {
      "image/png": "[encoded data removed]",
      "text/plain": [
       "<Figure size 640x480 with 1 Axes>"
      ]
     },
     "metadata": {},
     "output_type": "display_data"
    }
   ],
   "source": [
    "#Plot sex distribution in the sample\n",
    "sns.countplot(x='Sex', data=copd_sample)\n",
    "plt.title('Population distribution in the sample')\n",
    "plt.show()"
   ]
  },
  {
   "cell_type": "code",
   "execution_count": 9,
   "metadata": {},
   "outputs": [
    {
     "name": "stderr",
     "output_type": "stream",
     "text": [
      "/home/local/VANDERBILT/krishar1/anaconda/envs/lung2/lib/python3.7/site-packages/ipykernel_launcher.py:2: FutureWarning: The default value of regex will change from True to False in a future version.\n",
      "  \n",
      "/home/local/VANDERBILT/krishar1/anaconda/envs/lung2/lib/python3.7/site-packages/ipykernel_launcher.py:3: FutureWarning: The default value of regex will change from True to False in a future version.\n",
      "  This is separate from the ipykernel package so we can avoid doing imports until\n"
     ]
    }
   ],
   "source": [
    "#strip the .tar or the .tar.gz format from the file names\n",
    "copd_sample['File Name'] = copd_sample['File Name'].str.replace('.tar', '')\n",
    "copd_sample['File Name'] = copd_sample['File Name'].str.replace('.gz', '')"
   ]
  },
  {
   "cell_type": "code",
   "execution_count": 10,
   "metadata": {},
   "outputs": [
    {
     "data": {
      "text/plain": [
       "['COPDGene_H43475_COPDGene_H43475',\n",
       " 'COPDGene_F36155',\n",
       " 'COPDGene_J75976_COPDGene_J75976',\n",
       " 'COPDGene_C30122_COPDGene_C30122',\n",
       " 'COPDGene_P79583_COPDGene_P79583',\n",
       " 'COPDGene_B92822_COPDGene_B92822',\n",
       " 'COPDGene_J06575_COPDGene_J06575',\n",
       " 'COPDGene_J94360_COPDGene_J94360',\n",
       " 'COPDGene_K13612_COPDGene_K13612',\n",
       " 'COPDGene_G80153_COPDGene_G80153',\n",
       " 'COPDGene_F18016_COPDGene_F18016',\n",
       " 'COPDGene_C72364_COPDGene_C72364',\n",
       " 'COPDGene_Q66767_COPDGene_Q66767',\n",
       " 'COPDGene_A52770',\n",
       " 'COPDGene_P98177_COPDGene_P98177',\n",
       " 'COPDGene_E32093_COPDGene_E32093',\n",
       " 'COPDGene_G45599_COPDGene_G45599',\n",
       " 'COPDGene_P19733_COPDGene_P19733',\n",
       " 'COPDGene_J12592_COPDGene_J12592',\n",
       " 'COPDGene_J75358_COPDGene_J75358',\n",
       " 'COPDGene_Q40002',\n",
       " 'COPDGene_A86105_COPDGene_A86105',\n",
       " 'COPDGene_E99994',\n",
       " 'COPDGene_P25039_COPDGene_P25039',\n",
       " 'COPDGene_F84738_COPDGene_F84738',\n",
       " 'COPDGene_Q20296_COPDGene_Q20296',\n",
       " 'COPDGene_N44787_COPDGene_N44787',\n",
       " 'COPDGene_F02001_COPDGene_F02001',\n",
       " 'COPDGene_F25079',\n",
       " 'COPDGene_P78672_COPDGene_P78672',\n",
       " 'COPDGene_L02066_COPDGene_L02066',\n",
       " 'COPDGene_F50503_COPDGene_F50503',\n",
       " 'COPDGene_H85348_COPDGene_H85348',\n",
       " 'COPDGene_D73888_COPDGene_D73888',\n",
       " 'COPDGene_H12141_COPDGene_H12141',\n",
       " 'COPDGene_B24467_COPDGene_B24467',\n",
       " 'COPDGene_N66630_COPDGene_N66630',\n",
       " 'COPDGene_Q30380_COPDGene_Q30380',\n",
       " 'COPDGene_L84977_COPDGene_L84977',\n",
       " 'COPDGene_B17854_COPDGene_B17854',\n",
       " 'COPDGene_N57289_COPDGene_N57289',\n",
       " 'COPDGene_F95121_COPDGene_F95121',\n",
       " 'COPDGene_B58270_COPDGene_B58270',\n",
       " 'COPDGene_F79476_COPDGene_F79476',\n",
       " 'COPDGene_F42421_COPDGene_F42421',\n",
       " 'COPDGene_D56921',\n",
       " 'COPDGene_B29754_COPDGene_B29754',\n",
       " 'COPDGene_F86512',\n",
       " 'COPDGene_H31185_COPDGene_H31185',\n",
       " 'COPDGene_D28710_COPDGene_D28710',\n",
       " 'COPDGene_B76040_COPDGene_B76040',\n",
       " 'COPDGene_L22525_COPDGene_L22525',\n",
       " 'COPDGene_B82576_COPDGene_B82576',\n",
       " 'COPDGene_M60431_COPDGene_M60431',\n",
       " 'COPDGene_K97478_COPDGene_K97478',\n",
       " 'COPDGene_D05728',\n",
       " 'COPDGene_Q24606_COPDGene_Q24606',\n",
       " 'COPDGene_H90535_COPDGene_H90535',\n",
       " 'COPDGene_C81840_COPDGene_C81840',\n",
       " 'COPDGene_G57586_COPDGene_G57586',\n",
       " 'COPDGene_Q40278_COPDGene_Q40278',\n",
       " 'COPDGene_D90276_COPDGene_D90276',\n",
       " 'COPDGene_A99063_COPDGene_A99063',\n",
       " 'COPDGene_H35030_COPDGene_H35030',\n",
       " 'COPDGene_M89869_COPDGene_M89869',\n",
       " 'COPDGene_A71283_COPDGene_A71283',\n",
       " 'COPDGene_N50972_COPDGene_N50972',\n",
       " 'COPDGene_L41602_COPDGene_L41602',\n",
       " 'COPDGene_L53946_COPDGene_L53946',\n",
       " 'COPDGene_A65440_COPDGene_A65440',\n",
       " 'COPDGene_G46993_COPDGene_G46993',\n",
       " 'COPDGene_K56006_COPDGene_K56006',\n",
       " 'COPDGene_A56885',\n",
       " 'COPDGene_B17458',\n",
       " 'COPDGene_D16474',\n",
       " 'COPDGene_N41739',\n",
       " 'COPDGene_M08118_COPDGene_M08118',\n",
       " 'COPDGene_A42632_COPDGene_A42632',\n",
       " 'COPDGene_Q23452_COPDGene_Q23452',\n",
       " 'COPDGene_B38303_COPDGene_B38303',\n",
       " 'COPDGene_L85357',\n",
       " 'COPDGene_A25989_COPDGene_A25989',\n",
       " 'COPDGene_C20824_COPDGene_C20824',\n",
       " 'COPDGene_D28710',\n",
       " 'COPDGene_H17785_COPDGene_H17785',\n",
       " 'COPDGene_A75431_COPDGene_A75431',\n",
       " 'COPDGene_J66836_COPDGene_J66836',\n",
       " 'COPDGene_A95413',\n",
       " 'COPDGene_K54721_COPDGene_K54721',\n",
       " 'COPDGene_E32483_COPDGene_E32483',\n",
       " 'COPDGene_G50201',\n",
       " 'COPDGene_P84152_COPDGene_P84152',\n",
       " 'COPDGene_F61861_COPDGene_F61861',\n",
       " 'COPDGene_H58129',\n",
       " 'COPDGene_N77667_COPDGene_N77667',\n",
       " 'COPDGene_B79325_COPDGene_B79325',\n",
       " 'COPDGene_F42253_COPDGene_F42253',\n",
       " 'COPDGene_B21263',\n",
       " 'COPDGene_J18811_COPDGene_J18811',\n",
       " 'COPDGene_G09393_COPDGene_G09393',\n",
       " 'COPDGene_Q62880_COPDGene_Q62880',\n",
       " 'COPDGene_F78814',\n",
       " 'COPDGene_H76664_COPDGene_H76664',\n",
       " 'COPDGene_L88735_COPDGene_L88735',\n",
       " 'COPDGene_F17084_COPDGene_F17084',\n",
       " 'COPDGene_B86871',\n",
       " 'COPDGene_G39291_COPDGene_G39291',\n",
       " 'COPDGene_N64157_COPDGene_N64157',\n",
       " 'COPDGene_Q40002_COPDGene_Q40002',\n",
       " 'COPDGene_G26246_COPDGene_G26246',\n",
       " 'COPDGene_K20756_COPDGene_K20756',\n",
       " 'COPDGene_P84770_COPDGene_P84770',\n",
       " 'COPDGene_E09709',\n",
       " 'COPDGene_D12911_COPDGene_D12911',\n",
       " 'COPDGene_B46061',\n",
       " 'COPDGene_J25109',\n",
       " 'COPDGene_D27229_COPDGene_D27229',\n",
       " 'COPDGene_M28334',\n",
       " 'COPDGene_B66271_COPDGene_B66271',\n",
       " 'COPDGene_F54147_COPDGene_F54147',\n",
       " 'COPDGene_C87858_COPDGene_C87858',\n",
       " 'COPDGene_H34482_COPDGene_H34482',\n",
       " 'COPDGene_P74848_COPDGene_P74848',\n",
       " 'COPDGene_D02443_COPDGene_D02443',\n",
       " 'COPDGene_H16256_COPDGene_H16256',\n",
       " 'COPDGene_G50108_COPDGene_G50108',\n",
       " 'COPDGene_J94972_COPDGene_J94972',\n",
       " 'COPDGene_H19553_COPDGene_H19553',\n",
       " 'COPDGene_H53163',\n",
       " 'COPDGene_L71158',\n",
       " 'COPDGene_N63636_COPDGene_N63636',\n",
       " 'COPDGene_N25569_COPDGene_N25569',\n",
       " 'COPDGene_A73825_COPDGene_A73825',\n",
       " 'COPDGene_Q32136_COPDGene_Q32136',\n",
       " 'COPDGene_G01400',\n",
       " 'COPDGene_F55985_COPDGene_F55985',\n",
       " 'COPDGene_L13142_COPDGene_L13142',\n",
       " 'COPDGene_A29894_COPDGene_A29894',\n",
       " 'COPDGene_Q32445_COPDGene_Q32445',\n",
       " 'COPDGene_E11914_COPDGene_E11914',\n",
       " 'COPDGene_J62640_COPDGene_J62640',\n",
       " 'COPDGene_K62239',\n",
       " 'COPDGene_K65926_COPDGene_K65926',\n",
       " 'COPDGene_A14952_COPDGene_A14952',\n",
       " 'COPDGene_Q24054',\n",
       " 'COPDGene_E06646_COPDGene_E06646',\n",
       " 'COPDGene_H06043_COPDGene_H06043',\n",
       " 'COPDGene_K55854_COPDGene_K55854',\n",
       " 'COPDGene_E27080_COPDGene_E27080',\n",
       " 'COPDGene_L11401_COPDGene_L11401',\n",
       " 'COPDGene_J64678',\n",
       " 'COPDGene_J65400_COPDGene_J65400',\n",
       " 'COPDGene_D26318_COPDGene_D26318',\n",
       " 'COPDGene_P62180_COPDGene_P62180',\n",
       " 'COPDGene_M21588_COPDGene_M21588',\n",
       " 'COPDGene_C79716',\n",
       " 'COPDGene_E10835_COPDGene_E10835',\n",
       " 'COPDGene_A09147_COPDGene_A09147',\n",
       " 'COPDGene_J36332_COPDGene_J36332',\n",
       " 'COPDGene_H26469_COPDGene_H26469',\n",
       " 'COPDGene_H17650_COPDGene_H17650',\n",
       " 'COPDGene_A98986',\n",
       " 'COPDGene_A19138_COPDGene_A19138',\n",
       " 'COPDGene_L64317_COPDGene_L64317',\n",
       " 'COPDGene_L11401',\n",
       " 'COPDGene_K38848_COPDGene_K38848',\n",
       " 'COPDGene_P24578',\n",
       " 'COPDGene_E13427_COPDGene_E13427',\n",
       " 'COPDGene_N59279_COPDGene_N59279',\n",
       " 'COPDGene_A95803_COPDGene_A95803',\n",
       " 'COPDGene_D50642_COPDGene_D50642',\n",
       " 'COPDGene_N33435_COPDGene_N33435',\n",
       " 'COPDGene_H57143_COPDGene_H57143',\n",
       " 'COPDGene_N32215_COPDGene_N32215',\n",
       " 'COPDGene_J96572_COPDGene_J96572',\n",
       " 'COPDGene_C01747',\n",
       " 'COPDGene_L49763_COPDGene_L49763',\n",
       " 'COPDGene_F79032_COPDGene_F79032',\n",
       " 'COPDGene_C42022_COPDGene_C42022',\n",
       " 'COPDGene_L55855_COPDGene_L55855',\n",
       " 'COPDGene_H01536_COPDGene_H01536',\n",
       " 'COPDGene_M36812_COPDGene_M36812',\n",
       " 'COPDGene_C93182',\n",
       " 'COPDGene_B42465_COPDGene_B42465',\n",
       " 'COPDGene_M73686_COPDGene_M73686',\n",
       " 'COPDGene_A96714_COPDGene_A96714',\n",
       " 'COPDGene_Q06224',\n",
       " 'COPDGene_P67758_COPDGene_P67758',\n",
       " 'COPDGene_N77277_COPDGene_N77277',\n",
       " 'COPDGene_C50245_COPDGene_C50245',\n",
       " 'COPDGene_F35802_COPDGene_F35802',\n",
       " 'COPDGene_E52075',\n",
       " 'COPDGene_J30893_COPDGene_J30893',\n",
       " 'COPDGene_P19808_COPDGene_P19808',\n",
       " 'COPDGene_F01540_COPDGene_F01540',\n",
       " 'COPDGene_L03400_COPDGene_L03400',\n",
       " 'COPDGene_B93949_COPDGene_B93949',\n",
       " 'COPDGene_Q75847_COPDGene_Q75847',\n",
       " 'COPDGene_A98542_COPDGene_A98542',\n",
       " 'COPDGene_K45332',\n",
       " 'COPDGene_C55667_COPDGene_C55667',\n",
       " 'COPDGene_P06748_COPDGene_P06748',\n",
       " 'COPDGene_F49362_COPDGene_F49362',\n",
       " 'COPDGene_P65714',\n",
       " 'COPDGene_E21434_COPDGene_E21434',\n",
       " 'COPDGene_J58061_COPDGene_J58061',\n",
       " 'COPDGene_P25039',\n",
       " 'COPDGene_B24554_COPDGene_B24554',\n",
       " 'COPDGene_N56627_COPDGene_N56627',\n",
       " 'COPDGene_N57457_COPDGene_N57457',\n",
       " 'COPDGene_C15859',\n",
       " 'COPDGene_N73942_COPDGene_N73942',\n",
       " 'COPDGene_H51731',\n",
       " 'COPDGene_G28860_COPDGene_G28860',\n",
       " 'COPDGene_L87272_COPDGene_L87272',\n",
       " 'COPDGene_B42378_COPDGene_B42378',\n",
       " 'COPDGene_J66056',\n",
       " 'COPDGene_G82668_COPDGene_G82668',\n",
       " 'COPDGene_M36719',\n",
       " 'COPDGene_G28626_COPDGene_G28626',\n",
       " 'COPDGene_N45107_COPDGene_N45107',\n",
       " 'COPDGene_P26508',\n",
       " 'COPDGene_A24688',\n",
       " 'COPDGene_B19919_COPDGene_B19919',\n",
       " 'COPDGene_E96865_COPDGene_E96865',\n",
       " 'COPDGene_B02885_COPDGene_B02885',\n",
       " 'COPDGene_H72684',\n",
       " 'COPDGene_Q52661_COPDGene_Q52661',\n",
       " 'COPDGene_G48446_COPDGene_G48446',\n",
       " 'COPDGene_G02365_COPDGene_G02365',\n",
       " 'COPDGene_N79522_COPDGene_N79522',\n",
       " 'COPDGene_A91568_COPDGene_A91568',\n",
       " 'COPDGene_H92753_COPDGene_H92753',\n",
       " 'COPDGene_M07798_COPDGene_M07798',\n",
       " 'COPDGene_E52633_COPDGene_E52633',\n",
       " 'COPDGene_E44599',\n",
       " 'COPDGene_G43414',\n",
       " 'COPDGene_M09479_COPDGene_M09479',\n",
       " 'COPDGene_N78920_COPDGene_N78920',\n",
       " 'COPDGene_K74529_COPDGene_K74529',\n",
       " 'COPDGene_C30821_COPDGene_C30821',\n",
       " 'COPDGene_D32032',\n",
       " 'COPDGene_H85354',\n",
       " 'COPDGene_K65308_COPDGene_K65308',\n",
       " 'COPDGene_N94673_COPDGene_N94673',\n",
       " 'COPDGene_B19925',\n",
       " 'COPDGene_F61720_COPDGene_F61720',\n",
       " 'COPDGene_D19537_COPDGene_D19537',\n",
       " 'COPDGene_H26025_COPDGene_H26025',\n",
       " 'COPDGene_D47304_COPDGene_D47304',\n",
       " 'COPDGene_F48304_COPDGene_F48304',\n",
       " 'COPDGene_Q68925_COPDGene_Q68925',\n",
       " 'COPDGene_L88486_COPDGene_L88486',\n",
       " 'COPDGene_N29951_COPDGene_N29951',\n",
       " 'COPDGene_D16474_COPDGene_D16474',\n",
       " 'COPDGene_M15187_COPDGene_M15187',\n",
       " 'COPDGene_M69752',\n",
       " 'COPDGene_B67875_COPDGene_B67875',\n",
       " 'COPDGene_M75985_COPDGene_M75985',\n",
       " 'COPDGene_L69886_COPDGene_L69886',\n",
       " 'COPDGene_D91193_COPDGene_D91193',\n",
       " 'COPDGene_N00999_COPDGene_N00999',\n",
       " 'COPDGene_M86590',\n",
       " 'COPDGene_J98340_COPDGene_J98340',\n",
       " 'COPDGene_M58898_COPDGene_M58898',\n",
       " 'COPDGene_E71710_COPDGene_E71710',\n",
       " 'COPDGene_G71289_COPDGene_G71289',\n",
       " 'COPDGene_B20352_COPDGene_B20352',\n",
       " 'COPDGene_H42093',\n",
       " 'COPDGene_P58690_COPDGene_P58690',\n",
       " 'COPDGene_N96045_COPDGene_N96045',\n",
       " 'COPDGene_G57586',\n",
       " 'COPDGene_Q09050_COPDGene_Q09050',\n",
       " 'COPDGene_C03191_COPDGene_C03191',\n",
       " 'COPDGene_A33069_COPDGene_A33069',\n",
       " 'COPDGene_D64370_COPDGene_D64370',\n",
       " 'COPDGene_H04605_COPDGene_H04605',\n",
       " 'COPDGene_K56228_COPDGene_K56228',\n",
       " 'COPDGene_M44336_COPDGene_M44336',\n",
       " 'COPDGene_P23889_COPDGene_P23889',\n",
       " 'COPDGene_B15777',\n",
       " 'COPDGene_Q01105',\n",
       " 'COPDGene_H78957_COPDGene_H78957',\n",
       " 'COPDGene_H85354_COPDGene_H85354',\n",
       " 'COPDGene_C95253_COPDGene_C95253',\n",
       " 'COPDGene_B48576_COPDGene_B48576',\n",
       " 'COPDGene_H65675_COPDGene_H65675',\n",
       " 'COPDGene_B49580_COPDGene_B49580',\n",
       " 'COPDGene_M05829_COPDGene_M05829',\n",
       " 'COPDGene_A89153_COPDGene_A89153',\n",
       " 'COPDGene_K68893_COPDGene_K68893',\n",
       " 'COPDGene_A41325_COPDGene_A41325',\n",
       " 'COPDGene_N54871_COPDGene_N54871',\n",
       " 'COPDGene_M98256_COPDGene_M98256',\n",
       " 'COPDGene_Q68622_COPDGene_Q68622',\n",
       " 'COPDGene_G16423',\n",
       " 'COPDGene_P52210_COPDGene_P52210',\n",
       " 'COPDGene_D54448_COPDGene_D54448',\n",
       " 'COPDGene_M63164_COPDGene_M63164',\n",
       " 'COPDGene_N57550_COPDGene_N57550',\n",
       " 'COPDGene_Q14930',\n",
       " 'COPDGene_A87298_COPDGene_A87298',\n",
       " 'COPDGene_L59364_COPDGene_L59364',\n",
       " 'COPDGene_C49347',\n",
       " 'COPDGene_B92117',\n",
       " 'COPDGene_D30795_COPDGene_D30795',\n",
       " 'COPDGene_K95959_COPDGene_K95959',\n",
       " 'COPDGene_C51996_COPDGene_C51996',\n",
       " 'COPDGene_D44376',\n",
       " 'COPDGene_A00444_COPDGene_A00444',\n",
       " 'COPDGene_E92273_COPDGene_E92273',\n",
       " 'COPDGene_J10308_COPDGene_J10308',\n",
       " 'COPDGene_H47374_COPDGene_H47374',\n",
       " 'COPDGene_H28009',\n",
       " 'COPDGene_A59645',\n",
       " 'COPDGene_F50503',\n",
       " 'COPDGene_D59486_COPDGene_D59486',\n",
       " 'COPDGene_C78079_COPDGene_C78079',\n",
       " 'COPDGene_G64682_COPDGene_G64682',\n",
       " 'COPDGene_H79652_COPDGene_H79652',\n",
       " 'COPDGene_K15347_COPDGene_K15347',\n",
       " 'COPDGene_H75753_COPDGene_H75753',\n",
       " 'COPDGene_C36683_COPDGene_C36683',\n",
       " 'COPDGene_B81968_COPDGene_B81968',\n",
       " 'COPDGene_D07409',\n",
       " 'COPDGene_A08800_COPDGene_A08800',\n",
       " 'COPDGene_A59645_COPDGene_A59645',\n",
       " 'COPDGene_E08717_COPDGene_E08717',\n",
       " 'COPDGene_F27687_COPDGene_F27687',\n",
       " 'COPDGene_M06188',\n",
       " 'COPDGene_M56074_COPDGene_M56074',\n",
       " 'COPDGene_A63054_COPDGene_A63054',\n",
       " 'COPDGene_M94828_COPDGene_M94828',\n",
       " 'COPDGene_F19317_COPDGene_F19317',\n",
       " 'COPDGene_P06532_COPDGene_P06532',\n",
       " 'COPDGene_D15200_COPDGene_D15200',\n",
       " 'COPDGene_D87718_COPDGene_D87718',\n",
       " 'COPDGene_B86637_COPDGene_B86637',\n",
       " 'COPDGene_M91543_COPDGene_M91543',\n",
       " 'COPDGene_L01551_COPDGene_L01551',\n",
       " 'COPDGene_B11434_COPDGene_B11434',\n",
       " 'COPDGene_M00863_COPDGene_M00863',\n",
       " 'COPDGene_M19173_COPDGene_M19173',\n",
       " 'COPDGene_B92789_COPDGene_B92789',\n",
       " 'COPDGene_F73137_COPDGene_F73137',\n",
       " 'COPDGene_K46459',\n",
       " 'COPDGene_H11305_COPDGene_H11305',\n",
       " 'COPDGene_P19868_COPDGene_P19868',\n",
       " 'COPDGene_N73687_COPDGene_N73687',\n",
       " 'COPDGene_F49968_COPDGene_F49968',\n",
       " 'COPDGene_F97696_COPDGene_F97696',\n",
       " 'COPDGene_B23388_COPDGene_B23388',\n",
       " 'COPDGene_A35704_COPDGene_A35704',\n",
       " 'COPDGene_K36030_COPDGene_K36030',\n",
       " 'COPDGene_C79629_COPDGene_C79629',\n",
       " 'COPDGene_J73461',\n",
       " 'COPDGene_H14428_COPDGene_H14428',\n",
       " 'COPDGene_D26720_COPDGene_D26720',\n",
       " 'COPDGene_E72231_COPDGene_E72231',\n",
       " 'COPDGene_F34810_COPDGene_F34810',\n",
       " 'COPDGene_A13639_COPDGene_A13639',\n",
       " 'COPDGene_L59439_COPDGene_L59439',\n",
       " 'COPDGene_P93931_COPDGene_P93931',\n",
       " 'COPDGene_G51790_COPDGene_G51790',\n",
       " 'COPDGene_H83499',\n",
       " 'COPDGene_L69349_COPDGene_L69349',\n",
       " 'COPDGene_B92513_COPDGene_B92513',\n",
       " 'COPDGene_P20772_COPDGene_P20772',\n",
       " 'COPDGene_F41336_COPDGene_F41336',\n",
       " 'COPDGene_F77210_COPDGene_F77210',\n",
       " 'COPDGene_E88105_COPDGene_E88105',\n",
       " 'COPDGene_K09093_COPDGene_K09093',\n",
       " 'COPDGene_C83119_COPDGene_C83119',\n",
       " 'COPDGene_M98901_COPDGene_M98901',\n",
       " 'COPDGene_C06503_COPDGene_C06503',\n",
       " 'COPDGene_H98642_COPDGene_H98642',\n",
       " 'COPDGene_D51319_COPDGene_D51319',\n",
       " 'COPDGene_G53390_COPDGene_G53390',\n",
       " 'COPDGene_H08510',\n",
       " 'COPDGene_M94894_COPDGene_M94894',\n",
       " 'COPDGene_D90981_COPDGene_D90981',\n",
       " 'COPDGene_B67431',\n",
       " 'COPDGene_J14360',\n",
       " 'COPDGene_B44461_COPDGene_B44461',\n",
       " 'COPDGene_C23260_COPDGene_C23260',\n",
       " 'COPDGene_P20994_COPDGene_P20994',\n",
       " 'COPDGene_N36423_COPDGene_N36423',\n",
       " 'COPDGene_N25131_COPDGene_N25131',\n",
       " 'COPDGene_P71341_COPDGene_P71341',\n",
       " 'COPDGene_B17236_COPDGene_B17236',\n",
       " 'COPDGene_H16109_COPDGene_H16109',\n",
       " 'COPDGene_A19669_COPDGene_A19669',\n",
       " 'COPDGene_G01307_COPDGene_G01307',\n",
       " 'COPDGene_A67094_COPDGene_A67094',\n",
       " 'COPDGene_K53561_COPDGene_K53561',\n",
       " 'COPDGene_D94652_COPDGene_D94652',\n",
       " 'COPDGene_E06115_COPDGene_E06115',\n",
       " 'COPDGene_D14571_COPDGene_D14571',\n",
       " 'COPDGene_G46381_COPDGene_G46381',\n",
       " 'COPDGene_K39543_COPDGene_K39543',\n",
       " 'COPDGene_A87466_COPDGene_A87466',\n",
       " 'COPDGene_M20596_COPDGene_M20596',\n",
       " 'COPDGene_N09573',\n",
       " 'COPDGene_P84770',\n",
       " 'COPDGene_D84910_COPDGene_D84910',\n",
       " 'COPDGene_B22168_COPDGene_B22168',\n",
       " 'COPDGene_A07157_COPDGene_A07157',\n",
       " 'COPDGene_E11833_COPDGene_E11833',\n",
       " 'COPDGene_D89324',\n",
       " 'COPDGene_F88865',\n",
       " 'COPDGene_Q62511',\n",
       " 'COPDGene_K51652_COPDGene_K51652',\n",
       " 'COPDGene_C76740_COPDGene_C76740',\n",
       " 'COPDGene_B96244_COPDGene_B96244',\n",
       " 'COPDGene_E90586',\n",
       " 'COPDGene_B19931_COPDGene_B19931',\n",
       " 'COPDGene_G54013_COPDGene_G54013',\n",
       " 'COPDGene_N39627_COPDGene_N39627',\n",
       " 'COPDGene_Q71813_COPDGene_Q71813',\n",
       " 'COPDGene_G86573_COPDGene_G86573',\n",
       " 'COPDGene_Q42739_COPDGene_Q42739',\n",
       " 'COPDGene_K30894_COPDGene_K30894',\n",
       " 'COPDGene_L70091_COPDGene_L70091',\n",
       " 'COPDGene_L71500_COPDGene_L71500',\n",
       " 'COPDGene_G53405_COPDGene_G53405',\n",
       " 'COPDGene_N02410',\n",
       " 'COPDGene_F11525',\n",
       " 'COPDGene_D36933_COPDGene_D36933',\n",
       " 'COPDGene_H08510_COPDGene_H08510',\n",
       " 'COPDGene_H85966_COPDGene_H85966',\n",
       " 'COPDGene_N94061_COPDGene_N94061',\n",
       " 'COPDGene_A63054',\n",
       " 'COPDGene_E79247_COPDGene_E79247',\n",
       " 'COPDGene_J21975_COPDGene_J21975',\n",
       " 'COPDGene_L04593_COPDGene_L04593',\n",
       " 'COPDGene_C67339_COPDGene_C67339',\n",
       " 'COPDGene_B75486_COPDGene_B75486',\n",
       " 'COPDGene_Q28028',\n",
       " 'COPDGene_B25075_COPDGene_B25075',\n",
       " 'COPDGene_K54385_COPDGene_K54385',\n",
       " 'COPDGene_D80225_COPDGene_D80225',\n",
       " 'COPDGene_A23783_COPDGene_A23783',\n",
       " 'COPDGene_C19401_COPDGene_C19401',\n",
       " 'COPDGene_G04826',\n",
       " 'COPDGene_J01933_COPDGene_J01933',\n",
       " 'COPDGene_F52319_COPDGene_F52319',\n",
       " 'COPDGene_K94193',\n",
       " 'COPDGene_B26679_COPDGene_B26679',\n",
       " 'COPDGene_K25350_COPDGene_K25350',\n",
       " 'COPDGene_C53287_COPDGene_C53287',\n",
       " 'COPDGene_F58892_COPDGene_F58892',\n",
       " 'COPDGene_H59436_COPDGene_H59436',\n",
       " 'COPDGene_K36783_COPDGene_K36783',\n",
       " 'COPDGene_M14606',\n",
       " 'COPDGene_L96910_COPDGene_L96910',\n",
       " 'COPDGene_C68115_COPDGene_C68115',\n",
       " 'COPDGene_D35632',\n",
       " 'COPDGene_D16030',\n",
       " 'COPDGene_H65609_COPDGene_H65609',\n",
       " 'COPDGene_N13762_COPDGene_N13762',\n",
       " 'COPDGene_P19874_COPDGene_P19874',\n",
       " 'COPDGene_N10780_COPDGene_N10780',\n",
       " 'COPDGene_E98411_COPDGene_E98411',\n",
       " 'COPDGene_P69364_COPDGene_P69364',\n",
       " 'COPDGene_H24881_COPDGene_H24881',\n",
       " 'COPDGene_P94761_COPDGene_P94761',\n",
       " 'COPDGene_D97472',\n",
       " 'COPDGene_B20580_COPDGene_B20580',\n",
       " 'COPDGene_F30911',\n",
       " 'COPDGene_K23879_COPDGene_K23879',\n",
       " 'COPDGene_Q40197_COPDGene_Q40197',\n",
       " 'COPDGene_L26868_COPDGene_L26868',\n",
       " 'COPDGene_K29801_COPDGene_K29801',\n",
       " 'COPDGene_K67667_COPDGene_K67667',\n",
       " 'COPDGene_K52482_COPDGene_K52482',\n",
       " 'COPDGene_F75268_COPDGene_F75268',\n",
       " 'COPDGene_Q03317_COPDGene_Q03317',\n",
       " 'COPDGene_A15548_COPDGene_A15548',\n",
       " 'COPDGene_F23506_COPDGene_F23506',\n",
       " 'COPDGene_Q71477_COPDGene_Q71477',\n",
       " 'COPDGene_P61116_COPDGene_P61116',\n",
       " 'COPDGene_N94223_COPDGene_N94223',\n",
       " 'COPDGene_N31916_COPDGene_N31916',\n",
       " 'COPDGene_K30672_COPDGene_K30672',\n",
       " 'COPDGene_M04609_COPDGene_M04609',\n",
       " 'COPDGene_K54640_COPDGene_K54640',\n",
       " 'COPDGene_G23654',\n",
       " 'COPDGene_K05968_COPDGene_K05968',\n",
       " 'COPDGene_B98705_COPDGene_B98705',\n",
       " 'COPDGene_K53105_COPDGene_K53105',\n",
       " 'COPDGene_N34661_COPDGene_N34661',\n",
       " 'COPDGene_M46689_COPDGene_M46689',\n",
       " 'COPDGene_L06610_COPDGene_L06610',\n",
       " 'COPDGene_K22443_COPDGene_K22443',\n",
       " 'COPDGene_P20550_COPDGene_P20550',\n",
       " 'COPDGene_E41086',\n",
       " 'COPDGene_A84202_COPDGene_A84202',\n",
       " 'COPDGene_B93262_COPDGene_B93262',\n",
       " 'COPDGene_E78639',\n",
       " 'COPDGene_F89158',\n",
       " 'COPDGene_P11626_COPDGene_P11626',\n",
       " 'COPDGene_C60470_COPDGene_C60470',\n",
       " 'COPDGene_H23661',\n",
       " 'COPDGene_B76571_COPDGene_B76571',\n",
       " 'COPDGene_H68891_COPDGene_H68891',\n",
       " 'COPDGene_D50111_COPDGene_D50111',\n",
       " 'COPDGene_G25698_COPDGene_G25698',\n",
       " 'COPDGene_E05654_COPDGene_E05654',\n",
       " 'COPDGene_H98717_COPDGene_H98717',\n",
       " 'COPDGene_L71500',\n",
       " 'COPDGene_D88554_COPDGene_D88554',\n",
       " 'COPDGene_M34507_COPDGene_M34507',\n",
       " 'COPDGene_L64995_COPDGene_L64995',\n",
       " 'COPDGene_M35262',\n",
       " 'COPDGene_P52264_COPDGene_P52264',\n",
       " 'COPDGene_A94328',\n",
       " 'COPDGene_B46499_COPDGene_B46499',\n",
       " 'COPDGene_B60007_COPDGene_B60007',\n",
       " 'COPDGene_H39313_COPDGene_H39313',\n",
       " 'COPDGene_N85290_COPDGene_N85290',\n",
       " 'COPDGene_K66837_COPDGene_K66837',\n",
       " 'COPDGene_N32974',\n",
       " 'COPDGene_K86738_COPDGene_K86738',\n",
       " 'COPDGene_M39323_COPDGene_M39323',\n",
       " 'COPDGene_K71076_COPDGene_K71076',\n",
       " 'COPDGene_N67199_COPDGene_N67199',\n",
       " 'COPDGene_J46080',\n",
       " 'COPDGene_N44793_COPDGene_N44793',\n",
       " 'COPDGene_C80446_COPDGene_C80446',\n",
       " 'COPDGene_N93588_COPDGene_N93588',\n",
       " 'COPDGene_D24247_COPDGene_D24247',\n",
       " 'COPDGene_G72455_COPDGene_G72455',\n",
       " 'COPDGene_K79735_COPDGene_K79735',\n",
       " 'COPDGene_D05263_COPDGene_D05263',\n",
       " 'COPDGene_H35090_COPDGene_H35090',\n",
       " 'COPDGene_Q47480_COPDGene_Q47480',\n",
       " 'COPDGene_J74003_COPDGene_J74003',\n",
       " 'COPDGene_Q52259_COPDGene_Q52259',\n",
       " 'COPDGene_G14265',\n",
       " 'COPDGene_M38634',\n",
       " 'COPDGene_H52939_COPDGene_H52939',\n",
       " 'COPDGene_H57761',\n",
       " 'COPDGene_A70291_COPDGene_A70291',\n",
       " 'COPDGene_P68897_COPDGene_P68897',\n",
       " 'COPDGene_A84115_COPDGene_A84115',\n",
       " 'COPDGene_K15878_COPDGene_K15878',\n",
       " 'COPDGene_N53570',\n",
       " 'COPDGene_E34944_COPDGene_E34944',\n",
       " 'COPDGene_K38323_COPDGene_K38323',\n",
       " 'COPDGene_H23661_COPDGene_H23661',\n",
       " 'COPDGene_K05908_COPDGene_K05908',\n",
       " 'COPDGene_L66199_COPDGene_L66199',\n",
       " 'COPDGene_J65991_COPDGene_J65991',\n",
       " 'COPDGene_C77510',\n",
       " 'COPDGene_K97478',\n",
       " 'COPDGene_E11053_COPDGene_E11053',\n",
       " 'COPDGene_D97244_COPDGene_D97244',\n",
       " 'COPDGene_C55841',\n",
       " 'COPDGene_E69424_COPDGene_E69424',\n",
       " 'COPDGene_B34377_COPDGene_B34377',\n",
       " 'COPDGene_B96406_COPDGene_B96406',\n",
       " 'COPDGene_A45218_COPDGene_A45218',\n",
       " 'COPDGene_M17876',\n",
       " 'COPDGene_D64364_COPDGene_D64364',\n",
       " 'COPDGene_J81147',\n",
       " 'COPDGene_L09793_COPDGene_L09793',\n",
       " 'COPDGene_J12526_COPDGene_J12526',\n",
       " 'COPDGene_E82525',\n",
       " 'COPDGene_H67584',\n",
       " 'COPDGene_B63304_COPDGene_B63304',\n",
       " 'COPDGene_N91160_COPDGene_N91160',\n",
       " 'COPDGene_P53571_COPDGene_P53571',\n",
       " 'COPDGene_H19163',\n",
       " 'COPDGene_H16949_COPDGene_H16949',\n",
       " 'COPDGene_M86974',\n",
       " 'COPDGene_M18793_COPDGene_M18793',\n",
       " 'COPDGene_C43014_COPDGene_C43014',\n",
       " 'COPDGene_D57052_COPDGene_D57052',\n",
       " 'COPDGene_K66306',\n",
       " 'COPDGene_F19296',\n",
       " 'COPDGene_A85650_COPDGene_A85650',\n",
       " 'COPDGene_E02753_COPDGene_E02753',\n",
       " 'COPDGene_M15187',\n",
       " 'COPDGene_N60183_COPDGene_N60183',\n",
       " 'COPDGene_E67521_COPDGene_E67521',\n",
       " 'COPDGene_P32276',\n",
       " 'COPDGene_E76205_COPDGene_E76205',\n",
       " 'COPDGene_B47659_COPDGene_B47659',\n",
       " 'COPDGene_L82624',\n",
       " 'COPDGene_A75176_COPDGene_A75176',\n",
       " 'COPDGene_H19163_COPDGene_H19163',\n",
       " 'COPDGene_N57598_COPDGene_N57598',\n",
       " 'COPDGene_J84753_COPDGene_J84753',\n",
       " 'COPDGene_D81142_COPDGene_D81142',\n",
       " 'COPDGene_M25958_COPDGene_M25958',\n",
       " 'COPDGene_P01392_COPDGene_P01392',\n",
       " 'COPDGene_P72555_COPDGene_P72555',\n",
       " 'COPDGene_B90658',\n",
       " 'COPDGene_J53950',\n",
       " 'COPDGene_K79177_COPDGene_K79177',\n",
       " 'COPDGene_K54862_COPDGene_K54862',\n",
       " 'COPDGene_G53390',\n",
       " 'COPDGene_A57742',\n",
       " 'COPDGene_N36027_COPDGene_N36027',\n",
       " 'COPDGene_C46137_COPDGene_C46137',\n",
       " 'COPDGene_F30911_COPDGene_F30911',\n",
       " 'COPDGene_G92590_COPDGene_G92590',\n",
       " 'COPDGene_B66205_COPDGene_B66205',\n",
       " 'COPDGene_G35689_COPDGene_G35689',\n",
       " 'COPDGene_L82147',\n",
       " 'COPDGene_B08324_COPDGene_B08324',\n",
       " 'COPDGene_M95280_COPDGene_M95280',\n",
       " 'COPDGene_P96832_COPDGene_P96832',\n",
       " 'COPDGene_N60183',\n",
       " 'COPDGene_H65675',\n",
       " 'COPDGene_E54932_COPDGene_E54932',\n",
       " 'COPDGene_P83679',\n",
       " 'COPDGene_A41163_COPDGene_A41163',\n",
       " 'COPDGene_H85516_COPDGene_H85516',\n",
       " 'COPDGene_P34488_COPDGene_P34488',\n",
       " 'COPDGene_M06281_COPDGene_M06281',\n",
       " 'COPDGene_Q64018_COPDGene_Q64018',\n",
       " 'COPDGene_K06186_COPDGene_K06186',\n",
       " 'COPDGene_L17566_COPDGene_L17566',\n",
       " 'COPDGene_D32032_COPDGene_D32032',\n",
       " 'COPDGene_E67656_COPDGene_E67656',\n",
       " 'COPDGene_A91259_COPDGene_A91259',\n",
       " 'COPDGene_C19368_COPDGene_C19368',\n",
       " 'COPDGene_F76098_COPDGene_F76098',\n",
       " 'COPDGene_L74845_COPDGene_L74845',\n",
       " 'COPDGene_G95095_COPDGene_G95095',\n",
       " 'COPDGene_F42079_COPDGene_F42079',\n",
       " 'COPDGene_H87041_COPDGene_H87041',\n",
       " 'COPDGene_E28927_COPDGene_E28927',\n",
       " 'COPDGene_A85173_COPDGene_A85173',\n",
       " 'COPDGene_C27309_COPDGene_C27309',\n",
       " 'COPDGene_K71022_COPDGene_K71022',\n",
       " 'COPDGene_D83099_COPDGene_D83099',\n",
       " 'COPDGene_G50201_COPDGene_G50201',\n",
       " 'COPDGene_D46279_COPDGene_D46279',\n",
       " 'COPDGene_G50726_COPDGene_G50726',\n",
       " 'COPDGene_Q43347_COPDGene_Q43347',\n",
       " 'COPDGene_G77970_COPDGene_G77970',\n",
       " 'COPDGene_L23886_COPDGene_L23886',\n",
       " 'COPDGene_H22267_COPDGene_H22267',\n",
       " 'COPDGene_B81893_COPDGene_B81893',\n",
       " 'COPDGene_J55766_COPDGene_J55766',\n",
       " 'COPDGene_B72585_COPDGene_B72585',\n",
       " 'COPDGene_Q43125_COPDGene_Q43125',\n",
       " 'COPDGene_N30138_COPDGene_N30138',\n",
       " 'COPDGene_A53144_COPDGene_A53144',\n",
       " 'COPDGene_D49192_COPDGene_D49192',\n",
       " 'COPDGene_M14357_COPDGene_M14357',\n",
       " 'COPDGene_C60470',\n",
       " 'COPDGene_B48891_COPDGene_B48891',\n",
       " 'COPDGene_N78443',\n",
       " 'COPDGene_N18035',\n",
       " 'COPDGene_Q16188_COPDGene_Q16188',\n",
       " 'COPDGene_G64541_COPDGene_G64541',\n",
       " 'COPDGene_D22653',\n",
       " 'COPDGene_F80926_COPDGene_F80926',\n",
       " 'COPDGene_K97793',\n",
       " 'COPDGene_C16695_COPDGene_C16695',\n",
       " 'COPDGene_L88822',\n",
       " 'COPDGene_J22187',\n",
       " 'COPDGene_D43936_COPDGene_D43936',\n",
       " 'COPDGene_K10321_COPDGene_K10321',\n",
       " 'COPDGene_Q01105_COPDGene_Q01105',\n",
       " 'COPDGene_H27251_COPDGene_H27251',\n",
       " 'COPDGene_G94649_COPDGene_G94649',\n",
       " 'COPDGene_G46462',\n",
       " 'COPDGene_F68580_COPDGene_F68580',\n",
       " 'COPDGene_H13892',\n",
       " 'COPDGene_M22982_COPDGene_M22982',\n",
       " 'COPDGene_K48683_COPDGene_K48683',\n",
       " 'COPDGene_C59182_COPDGene_C59182',\n",
       " 'COPDGene_G21799_COPDGene_G21799',\n",
       " 'COPDGene_M77450',\n",
       " 'COPDGene_K05752_COPDGene_K05752',\n",
       " 'COPDGene_H14818_COPDGene_H14818',\n",
       " 'COPDGene_L47242',\n",
       " 'COPDGene_N07892_COPDGene_N07892',\n",
       " 'COPDGene_E94398_COPDGene_E94398',\n",
       " 'COPDGene_A87943_COPDGene_A87943',\n",
       " 'COPDGene_K48764',\n",
       " 'COPDGene_A72209',\n",
       " 'COPDGene_M16131_COPDGene_M16131',\n",
       " 'COPDGene_N96435_COPDGene_N96435',\n",
       " 'COPDGene_A90966_COPDGene_A90966',\n",
       " 'COPDGene_K33789',\n",
       " 'COPDGene_L38102_COPDGene_L38102',\n",
       " 'COPDGene_H67584_COPDGene_H67584',\n",
       " 'COPDGene_J15817_COPDGene_J15817',\n",
       " 'COPDGene_N38857_COPDGene_N38857',\n",
       " 'COPDGene_L68363_COPDGene_L68363',\n",
       " 'COPDGene_B72303_COPDGene_B72303',\n",
       " 'COPDGene_D19066_COPDGene_D19066',\n",
       " 'COPDGene_L72384_COPDGene_L72384',\n",
       " 'COPDGene_Q32370_COPDGene_Q32370',\n",
       " 'COPDGene_N38782_COPDGene_N38782',\n",
       " 'COPDGene_J62016',\n",
       " 'COPDGene_H02003_COPDGene_H02003',\n",
       " 'COPDGene_J23878_COPDGene_J23878',\n",
       " 'COPDGene_M31438',\n",
       " 'COPDGene_G42092_COPDGene_G42092',\n",
       " 'COPDGene_D49186_COPDGene_D49186',\n",
       " 'COPDGene_G91055_COPDGene_G91055',\n",
       " 'COPDGene_M78127_COPDGene_M78127',\n",
       " 'COPDGene_P71563_COPDGene_P71563',\n",
       " 'COPDGene_A85725',\n",
       " 'COPDGene_P40370',\n",
       " 'COPDGene_G66909',\n",
       " 'COPDGene_A74823_COPDGene_A74823',\n",
       " 'COPDGene_H87788_COPDGene_H87788',\n",
       " 'COPDGene_E08420',\n",
       " 'COPDGene_Q75691_COPDGene_Q75691',\n",
       " 'COPDGene_C43989',\n",
       " 'COPDGene_J09476_COPDGene_J09476',\n",
       " 'COPDGene_G34328_COPDGene_G34328',\n",
       " 'COPDGene_L99946_COPDGene_L99946',\n",
       " 'COPDGene_N20705_COPDGene_N20705',\n",
       " 'COPDGene_J80014_COPDGene_J80014',\n",
       " 'COPDGene_H23259_COPDGene_H23259',\n",
       " 'COPDGene_M12454_COPDGene_M12454',\n",
       " 'COPDGene_C90443_COPDGene_C90443',\n",
       " 'COPDGene_K81619_COPDGene_K81619',\n",
       " 'COPDGene_G34805',\n",
       " 'COPDGene_K49057',\n",
       " 'COPDGene_B70286_COPDGene_B70286',\n",
       " 'COPDGene_E40115_COPDGene_E40115',\n",
       " 'COPDGene_L48294_COPDGene_L48294',\n",
       " 'COPDGene_Q12100',\n",
       " 'COPDGene_N90936',\n",
       " 'COPDGene_G01991',\n",
       " 'COPDGene_D23558_COPDGene_D23558',\n",
       " 'COPDGene_L60571_COPDGene_L60571',\n",
       " 'COPDGene_G45149_COPDGene_G45149',\n",
       " 'COPDGene_G43252_COPDGene_G43252',\n",
       " 'COPDGene_M37018_COPDGene_M37018',\n",
       " 'COPDGene_J68187',\n",
       " 'COPDGene_Q09212_COPDGene_Q09212',\n",
       " 'COPDGene_D48980_COPDGene_D48980',\n",
       " 'COPDGene_N91598_COPDGene_N91598',\n",
       " 'COPDGene_N32497_COPDGene_N32497',\n",
       " 'COPDGene_P17185_COPDGene_P17185',\n",
       " 'COPDGene_E10835',\n",
       " 'COPDGene_A83339_COPDGene_A83339',\n",
       " 'COPDGene_H98783_COPDGene_H98783',\n",
       " 'COPDGene_E09937_COPDGene_E09937',\n",
       " 'COPDGene_F51414',\n",
       " 'COPDGene_G11223_COPDGene_G11223',\n",
       " 'COPDGene_D34157_COPDGene_D34157',\n",
       " 'COPDGene_P50349_COPDGene_P50349',\n",
       " 'COPDGene_L07191_COPDGene_L07191',\n",
       " 'COPDGene_M82619_COPDGene_M82619',\n",
       " 'COPDGene_H63538_COPDGene_H63538',\n",
       " 'COPDGene_C51801_COPDGene_C51801',\n",
       " 'COPDGene_B59559_COPDGene_B59559',\n",
       " 'COPDGene_A51403_COPDGene_A51403',\n",
       " 'COPDGene_K70327_COPDGene_K70327',\n",
       " 'COPDGene_C70764',\n",
       " 'COPDGene_C67882_COPDGene_C67882',\n",
       " 'COPDGene_F77567',\n",
       " 'COPDGene_N94304_COPDGene_N94304',\n",
       " 'COPDGene_B69871_COPDGene_B69871',\n",
       " 'COPDGene_D96858_COPDGene_D96858',\n",
       " 'COPDGene_N08494_COPDGene_N08494',\n",
       " 'COPDGene_M23302_COPDGene_M23302',\n",
       " 'COPDGene_M63170_COPDGene_M63170',\n",
       " 'COPDGene_H72321_COPDGene_H72321',\n",
       " 'COPDGene_B52759_COPDGene_B52759',\n",
       " 'COPDGene_P84677_COPDGene_P84677',\n",
       " 'COPDGene_J13221_COPDGene_J13221',\n",
       " 'COPDGene_F53773_COPDGene_F53773',\n",
       " 'COPDGene_L35477_COPDGene_L35477',\n",
       " 'COPDGene_Q02319_COPDGene_Q02319',\n",
       " 'COPDGene_E86040_COPDGene_E86040',\n",
       " 'COPDGene_M83536_COPDGene_M83536',\n",
       " 'COPDGene_N28422_COPDGene_N28422',\n",
       " 'COPDGene_N10069_COPDGene_N10069',\n",
       " 'COPDGene_B76901_COPDGene_B76901',\n",
       " 'COPDGene_M65631_COPDGene_M65631',\n",
       " 'COPDGene_K65542',\n",
       " 'COPDGene_P91599_COPDGene_P91599',\n",
       " 'COPDGene_L81296_COPDGene_L81296',\n",
       " 'COPDGene_P27176_COPDGene_P27176',\n",
       " 'COPDGene_B24473_COPDGene_B24473',\n",
       " 'COPDGene_P65411_COPDGene_P65411',\n",
       " 'COPDGene_D90921_COPDGene_D90921',\n",
       " 'COPDGene_H04497_COPDGene_H04497',\n",
       " 'COPDGene_L57005_COPDGene_L57005',\n",
       " 'COPDGene_L76364_COPDGene_L76364',\n",
       " 'COPDGene_C33722_COPDGene_C33722',\n",
       " 'COPDGene_L46547_COPDGene_L46547',\n",
       " 'COPDGene_D06651_COPDGene_D06651',\n",
       " 'COPDGene_H87263_COPDGene_H87263',\n",
       " 'COPDGene_B27461_COPDGene_B27461',\n",
       " 'COPDGene_H05603_COPDGene_H05603',\n",
       " 'COPDGene_P41980_COPDGene_P41980',\n",
       " 'COPDGene_E95792_COPDGene_E95792',\n",
       " 'COPDGene_G91055',\n",
       " 'COPDGene_H83223_COPDGene_H83223',\n",
       " 'COPDGene_N85923',\n",
       " 'COPDGene_C92661_COPDGene_C92661',\n",
       " 'COPDGene_P98795_COPDGene_P98795',\n",
       " 'COPDGene_E31728',\n",
       " 'COPDGene_G41109_COPDGene_G41109',\n",
       " 'COPDGene_B77422_COPDGene_B77422',\n",
       " 'COPDGene_M47546_COPDGene_M47546',\n",
       " 'COPDGene_L01236_COPDGene_L01236',\n",
       " 'COPDGene_E63703_COPDGene_E63703',\n",
       " 'COPDGene_K19717',\n",
       " 'COPDGene_H87263',\n",
       " 'COPDGene_F22508_COPDGene_F22508',\n",
       " 'COPDGene_B39349_COPDGene_B39349',\n",
       " 'COPDGene_L68129',\n",
       " 'COPDGene_Q03323_COPDGene_Q03323',\n",
       " 'COPDGene_C52685_COPDGene_C52685',\n",
       " 'COPDGene_N95908_COPDGene_N95908',\n",
       " 'COPDGene_D99315',\n",
       " 'COPDGene_H18561_COPDGene_H18561',\n",
       " 'COPDGene_A57574',\n",
       " 'COPDGene_B19925_COPDGene_B19925',\n",
       " 'COPDGene_H47704',\n",
       " 'COPDGene_L93841',\n",
       " 'COPDGene_B92963_COPDGene_B92963',\n",
       " 'COPDGene_B27380',\n",
       " 'COPDGene_P30991_COPDGene_P30991',\n",
       " 'COPDGene_D75569',\n",
       " 'COPDGene_M59452_COPDGene_M59452',\n",
       " 'COPDGene_C40173_COPDGene_C40173',\n",
       " 'COPDGene_G00624_COPDGene_G00624',\n",
       " 'COPDGene_A27010_COPDGene_A27010',\n",
       " 'COPDGene_B40106_COPDGene_B40106',\n",
       " 'COPDGene_L96265_COPDGene_L96265',\n",
       " 'COPDGene_A63672_COPDGene_A63672',\n",
       " 'COPDGene_J96572',\n",
       " 'COPDGene_G75053_COPDGene_G75053',\n",
       " 'COPDGene_D81223_COPDGene_D81223',\n",
       " 'COPDGene_J76611',\n",
       " 'COPDGene_F42334_COPDGene_F42334',\n",
       " 'COPDGene_H35420_COPDGene_H35420',\n",
       " 'COPDGene_B29532_COPDGene_B29532',\n",
       " 'COPDGene_J14099_COPDGene_J14099',\n",
       " 'COPDGene_E11833',\n",
       " 'COPDGene_M44564_COPDGene_M44564',\n",
       " 'COPDGene_A58794_COPDGene_A58794',\n",
       " 'COPDGene_K31442_COPDGene_K31442',\n",
       " 'COPDGene_Q43185_COPDGene_Q43185',\n",
       " 'COPDGene_F16335_COPDGene_F16335',\n",
       " 'COPDGene_B02300_COPDGene_B02300',\n",
       " 'COPDGene_F87249_COPDGene_F87249',\n",
       " 'COPDGene_J67747_COPDGene_J67747',\n",
       " 'COPDGene_G51871_COPDGene_G51871',\n",
       " 'COPDGene_B76034',\n",
       " 'COPDGene_H39616_COPDGene_H39616',\n",
       " 'COPDGene_D58272_COPDGene_D58272',\n",
       " 'COPDGene_D86900_COPDGene_D86900',\n",
       " 'COPDGene_M06611_COPDGene_M06611',\n",
       " 'COPDGene_Q09179_COPDGene_Q09179',\n",
       " 'COPDGene_Q24060_COPDGene_Q24060',\n",
       " 'COPDGene_M01942_COPDGene_M01942',\n",
       " 'COPDGene_D36543_COPDGene_D36543',\n",
       " 'COPDGene_M22700_COPDGene_M22700',\n",
       " 'COPDGene_P71092_COPDGene_P71092',\n",
       " 'COPDGene_A08632_COPDGene_A08632',\n",
       " 'COPDGene_C58118_COPDGene_C58118',\n",
       " 'COPDGene_J70170_COPDGene_J70170',\n",
       " 'COPDGene_L90625_COPDGene_L90625',\n",
       " 'COPDGene_P94749_COPDGene_P94749',\n",
       " 'COPDGene_N85842_COPDGene_N85842',\n",
       " 'COPDGene_B06409_COPDGene_B06409',\n",
       " 'COPDGene_J62103',\n",
       " 'COPDGene_K79492_COPDGene_K79492',\n",
       " 'COPDGene_K55707_COPDGene_K55707',\n",
       " 'COPDGene_K62245',\n",
       " 'COPDGene_A22650_COPDGene_A22650',\n",
       " 'COPDGene_C01498_COPDGene_C01498',\n",
       " 'COPDGene_A99366',\n",
       " 'COPDGene_C04183_COPDGene_C04183',\n",
       " 'COPDGene_C48604_COPDGene_C48604',\n",
       " 'COPDGene_P78672',\n",
       " 'COPDGene_G21208_COPDGene_G21208',\n",
       " 'COPDGene_J48448_COPDGene_J48448',\n",
       " 'COPDGene_F60023',\n",
       " 'COPDGene_J14126',\n",
       " 'COPDGene_J42034_COPDGene_J42034',\n",
       " 'COPDGene_D34628_COPDGene_D34628',\n",
       " 'COPDGene_G65137_COPDGene_G65137',\n",
       " 'COPDGene_G47292_COPDGene_G47292',\n",
       " 'COPDGene_M38412_COPDGene_M38412',\n",
       " 'COPDGene_J34108_COPDGene_J34108',\n",
       " 'COPDGene_K28245_COPDGene_K28245',\n",
       " 'COPDGene_C46983_COPDGene_C46983',\n",
       " 'COPDGene_M91543',\n",
       " 'COPDGene_J53023_COPDGene_J53023',\n",
       " 'COPDGene_M04150_COPDGene_M04150',\n",
       " 'COPDGene_J11366_COPDGene_J11366',\n",
       " 'COPDGene_F70686_COPDGene_F70686',\n",
       " 'COPDGene_F34165_COPDGene_F34165',\n",
       " 'COPDGene_B29196_COPDGene_B29196',\n",
       " 'COPDGene_C42937_COPDGene_C42937',\n",
       " 'COPDGene_G51481_COPDGene_G51481',\n",
       " 'COPDGene_N29018_COPDGene_N29018',\n",
       " 'COPDGene_H58531_COPDGene_H58531',\n",
       " 'COPDGene_F49221_COPDGene_F49221',\n",
       " 'COPDGene_K34880_COPDGene_K34880',\n",
       " 'COPDGene_G51562',\n",
       " 'COPDGene_F01609_COPDGene_F01609',\n",
       " 'COPDGene_A22092_COPDGene_A22092',\n",
       " 'COPDGene_C95556',\n",
       " 'COPDGene_N54952_COPDGene_N54952',\n",
       " 'COPDGene_A69024_COPDGene_A69024',\n",
       " 'COPDGene_N08521_COPDGene_N08521',\n",
       " 'COPDGene_M51096_COPDGene_M51096',\n",
       " 'COPDGene_H74446_COPDGene_H74446',\n",
       " 'COPDGene_M45031_COPDGene_M45031',\n",
       " 'COPDGene_E85600',\n",
       " 'COPDGene_P60271',\n",
       " 'COPDGene_Q20074',\n",
       " 'COPDGene_L69133_COPDGene_L69133',\n",
       " 'COPDGene_J22583_COPDGene_J22583',\n",
       " 'COPDGene_P51965_COPDGene_P51965',\n",
       " 'COPDGene_H60409_COPDGene_H60409',\n",
       " 'COPDGene_E83751_COPDGene_E83751',\n",
       " 'COPDGene_G09393',\n",
       " 'COPDGene_D78785_COPDGene_D78785',\n",
       " 'COPDGene_N89600_COPDGene_N89600',\n",
       " 'COPDGene_H58753',\n",
       " 'COPDGene_P25300_COPDGene_P25300',\n",
       " 'COPDGene_P29952',\n",
       " 'COPDGene_C82193_COPDGene_C82193',\n",
       " 'COPDGene_J21981',\n",
       " 'COPDGene_H60106_COPDGene_H60106',\n",
       " 'COPDGene_M43809_COPDGene_M43809',\n",
       " 'COPDGene_H90004',\n",
       " 'COPDGene_F97090_COPDGene_F97090',\n",
       " 'COPDGene_D06960_COPDGene_D06960',\n",
       " 'COPDGene_N73471_COPDGene_N73471',\n",
       " 'COPDGene_A56132_COPDGene_A56132',\n",
       " 'COPDGene_G40735_COPDGene_G40735',\n",
       " 'COPDGene_B07023_COPDGene_B07023',\n",
       " 'COPDGene_L26088',\n",
       " 'COPDGene_H69742_COPDGene_H69742',\n",
       " 'COPDGene_D09069_COPDGene_D09069',\n",
       " 'COPDGene_H82594_COPDGene_H82594',\n",
       " 'COPDGene_Q35520',\n",
       " 'COPDGene_M39068_COPDGene_M39068',\n",
       " 'COPDGene_F02976_COPDGene_F02976',\n",
       " 'COPDGene_A97772_COPDGene_A97772',\n",
       " 'COPDGene_P45726',\n",
       " 'COPDGene_E48672_COPDGene_E48672',\n",
       " 'COPDGene_B48186_COPDGene_B48186',\n",
       " 'COPDGene_D71676_COPDGene_D71676',\n",
       " 'COPDGene_C22808_COPDGene_C22808',\n",
       " 'COPDGene_L15273',\n",
       " 'COPDGene_J18328',\n",
       " 'COPDGene_P68594_COPDGene_P68594',\n",
       " 'COPDGene_J53950_COPDGene_J53950',\n",
       " 'COPDGene_A48131_COPDGene_A48131',\n",
       " 'COPDGene_E72198_COPDGene_E72198',\n",
       " 'COPDGene_H99553_COPDGene_H99553',\n",
       " 'COPDGene_E64143',\n",
       " 'COPDGene_J15817',\n",
       " 'COPDGene_B83205_COPDGene_B83205',\n",
       " 'COPDGene_H64932_COPDGene_H64932',\n",
       " 'COPDGene_N10720_COPDGene_N10720',\n",
       " 'COPDGene_M09122_COPDGene_M09122',\n",
       " 'COPDGene_L59916_COPDGene_L59916',\n",
       " 'COPDGene_C24468_COPDGene_C24468',\n",
       " 'COPDGene_E34641_COPDGene_E34641',\n",
       " 'COPDGene_D21271_COPDGene_D21271',\n",
       " 'COPDGene_E12576_COPDGene_E12576',\n",
       " 'COPDGene_C50938',\n",
       " 'COPDGene_E17500',\n",
       " 'COPDGene_L09169',\n",
       " 'COPDGene_L98483_COPDGene_L98483',\n",
       " 'COPDGene_A16627_COPDGene_A16627',\n",
       " 'COPDGene_C32388_COPDGene_C32388',\n",
       " 'COPDGene_M68310_COPDGene_M68310',\n",
       " 'COPDGene_K94973_COPDGene_K94973',\n",
       " 'COPDGene_G68212_COPDGene_G68212',\n",
       " 'COPDGene_N19807_COPDGene_N19807',\n",
       " 'COPDGene_B57818_COPDGene_B57818',\n",
       " 'COPDGene_Q66929_COPDGene_Q66929',\n",
       " 'COPDGene_G05272',\n",
       " 'COPDGene_M96959_COPDGene_M96959',\n",
       " 'COPDGene_B93121',\n",
       " 'COPDGene_E34326_COPDGene_E34326',\n",
       " 'COPDGene_C13740_COPDGene_C13740',\n",
       " 'COPDGene_F78571_COPDGene_F78571',\n",
       " 'COPDGene_N19867_COPDGene_N19867',\n",
       " 'COPDGene_G09171_COPDGene_G09171',\n",
       " 'COPDGene_C91441_COPDGene_C91441',\n",
       " 'COPDGene_B02126_COPDGene_B02126',\n",
       " 'COPDGene_E01371_COPDGene_E01371',\n",
       " 'COPDGene_P28174',\n",
       " 'COPDGene_B59490',\n",
       " 'COPDGene_E80919_COPDGene_E80919',\n",
       " 'COPDGene_D65128_COPDGene_D65128']"
      ]
     },
     "execution_count": 10,
     "metadata": {},
     "output_type": "execute_result"
    }
   ],
   "source": [
    "copd_subjects = copd_sample['File Name'].tolist()\n",
    "copd_subjects"
   ]
  },
  {
   "cell_type": "code",
   "execution_count": 11,
   "metadata": {},
   "outputs": [],
   "source": [
    "#Save the datframe to a csv file\n",
    "copd_sample.to_csv('/fs5/p_masi/krishar1/COPDGENE/COPDgene_SPIE2025.csv', index=False)"
   ]
  },
  {
   "cell_type": "code",
   "execution_count": 49,
   "metadata": {},
   "outputs": [
    {
     "name": "stderr",
     "output_type": "stream",
     "text": [
      "rsync: change_dir \"/fs5/p_masi/krishar1/COPDGENE/subjects\" failed: No such file or directory (2)\n",
      "rsync error: some files/attrs were not transferred (see previous errors) (code 23) at main.c(1205) [sender=3.1.3]\n",
      "rsync: change_dir \"/fs5/p_masi/krishar1/COPDGENE/subjects\" failed: No such file or directory (2)\n"
     ]
    },
    {
     "name": "stdout",
     "output_type": "stream",
     "text": [
      "sending incremental file list\n",
      "\n",
      "sent 20 bytes  received 12 bytes  64.00 bytes/sec\n",
      "total size is 0  speedup is 0.00\n",
      "sending incremental file list\n"
     ]
    },
    {
     "name": "stderr",
     "output_type": "stream",
     "text": [
      "rsync error: some files/attrs were not transferred (see previous errors) (code 23) at main.c(1205) [sender=3.1.3]\n",
      "rsync: change_dir \"/fs5/p_masi/krishar1/COPDGENE/subjects\" failed: No such file or directory (2)\n",
      "rsync error: some files/attrs were not transferred (see previous errors) (code 23) at main.c(1205) [sender=3.1.3]\n"
     ]
    },
    {
     "name": "stdout",
     "output_type": "stream",
     "text": [
      "\n",
      "sent 20 bytes  received 12 bytes  64.00 bytes/sec\n",
      "total size is 0  speedup is 0.00\n",
      "sending incremental file list\n",
      "\n",
      "sent 20 bytes  received 12 bytes  64.00 bytes/sec\n",
      "total size is 0  speedup is 0.00\n",
      "sending incremental file list\n"
     ]
    },
    {
     "name": "stderr",
     "output_type": "stream",
     "text": [
      "rsync: change_dir \"/fs5/p_masi/krishar1/COPDGENE/subjects\" failed: No such file or directory (2)\n",
      "rsync error: some files/attrs were not transferred (see previous errors) (code 23) at main.c(1205) [sender=3.1.3]\n",
      "rsync: change_dir \"/fs5/p_masi/krishar1/COPDGENE/subjects\" failed: No such file or directory (2)\n",
      "rsync error: some files/attrs were not transferred (see previous errors) (code 23) at main.c(1205) [sender=3.1.3]\n"
     ]
    },
    {
     "name": "stdout",
     "output_type": "stream",
     "text": [
      "\n",
      "sent 20 bytes  received 12 bytes  64.00 bytes/sec\n",
      "total size is 0  speedup is 0.00\n",
      "sending incremental file list\n",
      "\n",
      "sent 20 bytes  received 12 bytes  64.00 bytes/sec\n",
      "total size is 0  speedup is 0.00\n",
      "sending incremental file list\n"
     ]
    },
    {
     "name": "stderr",
     "output_type": "stream",
     "text": [
      "rsync: change_dir \"/fs5/p_masi/krishar1/COPDGENE/subjects\" failed: No such file or directory (2)\n",
      "rsync error: some files/attrs were not transferred (see previous errors) (code 23) at main.c(1205) [sender=3.1.3]\n",
      "rsync: change_dir \"/fs5/p_masi/krishar1/COPDGENE/subjects\" failed: No such file or directory (2)\n",
      "rsync error: some files/attrs were not transferred (see previous errors) (code 23) at main.c(1205) [sender=3.1.3]\n"
     ]
    },
    {
     "name": "stdout",
     "output_type": "stream",
     "text": [
      "\n",
      "sent 20 bytes  received 12 bytes  64.00 bytes/sec\n",
      "total size is 0  speedup is 0.00\n",
      "sending incremental file list\n",
      "\n",
      "sent 20 bytes  received 12 bytes  64.00 bytes/sec\n",
      "total size is 0  speedup is 0.00\n",
      "sending incremental file list\n"
     ]
    },
    {
     "name": "stderr",
     "output_type": "stream",
     "text": [
      "rsync: change_dir \"/fs5/p_masi/krishar1/COPDGENE/subjects\" failed: No such file or directory (2)\n",
      "rsync error: some files/attrs were not transferred (see previous errors) (code 23) at main.c(1205) [sender=3.1.3]\n",
      "rsync: change_dir \"/fs5/p_masi/krishar1/COPDGENE/subjects\" failed: No such file or directory (2)\n",
      "rsync error: some files/attrs were not transferred (see previous errors) (code 23) at main.c(1205) [sender=3.1.3]\n"
     ]
    },
    {
     "name": "stdout",
     "output_type": "stream",
     "text": [
      "\n",
      "sent 20 bytes  received 12 bytes  64.00 bytes/sec\n",
      "total size is 0  speedup is 0.00\n",
      "sending incremental file list\n",
      "\n",
      "sent 20 bytes  received 12 bytes  64.00 bytes/sec\n",
      "total size is 0  speedup is 0.00\n",
      "sending incremental file list\n"
     ]
    },
    {
     "name": "stderr",
     "output_type": "stream",
     "text": [
      "rsync: change_dir \"/fs5/p_masi/krishar1/COPDGENE/subjects\" failed: No such file or directory (2)\n",
      "rsync error: some files/attrs were not transferred (see previous errors) (code 23) at main.c(1205) [sender=3.1.3]\n",
      "rsync: change_dir \"/fs5/p_masi/krishar1/COPDGENE/subjects\" failed: No such file or directory (2)\n",
      "rsync error: some files/attrs were not transferred (see previous errors) (code 23) at main.c(1205) [sender=3.1.3]\n"
     ]
    },
    {
     "name": "stdout",
     "output_type": "stream",
     "text": [
      "\n",
      "sent 20 bytes  received 12 bytes  64.00 bytes/sec\n",
      "total size is 0  speedup is 0.00\n",
      "sending incremental file list\n",
      "\n",
      "sent 20 bytes  received 12 bytes  64.00 bytes/sec\n",
      "total size is 0  speedup is 0.00\n",
      "sending incremental file list\n"
     ]
    },
    {
     "name": "stderr",
     "output_type": "stream",
     "text": [
      "rsync: change_dir \"/fs5/p_masi/krishar1/COPDGENE/subjects\" failed: No such file or directory (2)\n",
      "rsync error: some files/attrs were not transferred (see previous errors) (code 23) at main.c(1205) [sender=3.1.3]\n",
      "rsync: change_dir \"/fs5/p_masi/krishar1/COPDGENE/subjects\" failed: No such file or directory (2)\n",
      "rsync error: some files/attrs were not transferred (see previous errors) (code 23) at main.c(1205) [sender=3.1.3]\n"
     ]
    },
    {
     "name": "stdout",
     "output_type": "stream",
     "text": [
      "\n",
      "sent 20 bytes  received 12 bytes  64.00 bytes/sec\n",
      "total size is 0  speedup is 0.00\n",
      "sending incremental file list\n",
      "\n",
      "sent 20 bytes  received 12 bytes  64.00 bytes/sec\n",
      "total size is 0  speedup is 0.00\n",
      "sending incremental file list\n"
     ]
    },
    {
     "name": "stderr",
     "output_type": "stream",
     "text": [
      "rsync: change_dir \"/fs5/p_masi/krishar1/COPDGENE/subjects\" failed: No such file or directory (2)\n",
      "rsync error: some files/attrs were not transferred (see previous errors) (code 23) at main.c(1205) [sender=3.1.3]\n",
      "rsync: change_dir \"/fs5/p_masi/krishar1/COPDGENE/subjects\" failed: No such file or directory (2)\n",
      "rsync error: some files/attrs were not transferred (see previous errors) (code 23) at main.c(1205) [sender=3.1.3]\n"
     ]
    },
    {
     "name": "stdout",
     "output_type": "stream",
     "text": [
      "\n",
      "sent 20 bytes  received 12 bytes  64.00 bytes/sec\n",
      "total size is 0  speedup is 0.00\n",
      "sending incremental file list\n",
      "\n",
      "sent 20 bytes  received 12 bytes  64.00 bytes/sec\n",
      "total size is 0  speedup is 0.00\n",
      "sending incremental file list\n"
     ]
    },
    {
     "name": "stderr",
     "output_type": "stream",
     "text": [
      "rsync: change_dir \"/fs5/p_masi/krishar1/COPDGENE/subjects\" failed: No such file or directory (2)\n",
      "rsync error: some files/attrs were not transferred (see previous errors) (code 23) at main.c(1205) [sender=3.1.3]\n",
      "rsync: change_dir \"/fs5/p_masi/krishar1/COPDGENE/subjects\" failed: No such file or directory (2)\n",
      "rsync error: some files/attrs were not transferred (see previous errors) (code 23) at main.c(1205) [sender=3.1.3]\n"
     ]
    },
    {
     "name": "stdout",
     "output_type": "stream",
     "text": [
      "\n",
      "sent 20 bytes  received 12 bytes  64.00 bytes/sec\n",
      "total size is 0  speedup is 0.00\n",
      "sending incremental file list\n",
      "\n",
      "sent 20 bytes  received 12 bytes  64.00 bytes/sec\n",
      "total size is 0  speedup is 0.00\n",
      "sending incremental file list\n"
     ]
    },
    {
     "name": "stderr",
     "output_type": "stream",
     "text": [
      "rsync: change_dir \"/fs5/p_masi/krishar1/COPDGENE/subjects\" failed: No such file or directory (2)\n",
      "rsync error: some files/attrs were not transferred (see previous errors) (code 23) at main.c(1205) [sender=3.1.3]\n",
      "rsync: change_dir \"/fs5/p_masi/krishar1/COPDGENE/subjects\" failed: No such file or directory (2)\n",
      "rsync error: some files/attrs were not transferred (see previous errors) (code 23) at main.c(1205) [sender=3.1.3]\n"
     ]
    },
    {
     "name": "stdout",
     "output_type": "stream",
     "text": [
      "\n",
      "sent 20 bytes  received 12 bytes  64.00 bytes/sec\n",
      "total size is 0  speedup is 0.00\n",
      "sending incremental file list\n",
      "\n",
      "sent 20 bytes  received 12 bytes  64.00 bytes/sec\n",
      "total size is 0  speedup is 0.00\n",
      "sending incremental file list\n"
     ]
    },
    {
     "name": "stderr",
     "output_type": "stream",
     "text": [
      "rsync: change_dir \"/fs5/p_masi/krishar1/COPDGENE/subjects\" failed: No such file or directory (2)\n",
      "rsync error: some files/attrs were not transferred (see previous errors) (code 23) at main.c(1205) [sender=3.1.3]\n",
      "rsync: change_dir \"/fs5/p_masi/krishar1/COPDGENE/subjects\" failed: No such file or directory (2)\n",
      "rsync error: some files/attrs were not transferred (see previous errors) (code 23) at main.c(1205) [sender=3.1.3]\n"
     ]
    },
    {
     "name": "stdout",
     "output_type": "stream",
     "text": [
      "\n",
      "sent 20 bytes  received 12 bytes  64.00 bytes/sec\n",
      "total size is 0  speedup is 0.00\n",
      "sending incremental file list\n",
      "\n",
      "sent 20 bytes  received 12 bytes  64.00 bytes/sec\n",
      "total size is 0  speedup is 0.00\n",
      "sending incremental file list\n"
     ]
    },
    {
     "name": "stderr",
     "output_type": "stream",
     "text": [
      "rsync: change_dir \"/fs5/p_masi/krishar1/COPDGENE/subjects\" failed: No such file or directory (2)\n",
      "rsync error: some files/attrs were not transferred (see previous errors) (code 23) at main.c(1205) [sender=3.1.3]\n",
      "rsync: change_dir \"/fs5/p_masi/krishar1/COPDGENE/subjects\" failed: No such file or directory (2)\n",
      "rsync error: some files/attrs were not transferred (see previous errors) (code 23) at main.c(1205) [sender=3.1.3]\n"
     ]
    },
    {
     "name": "stdout",
     "output_type": "stream",
     "text": [
      "\n",
      "sent 20 bytes  received 12 bytes  64.00 bytes/sec\n",
      "total size is 0  speedup is 0.00\n",
      "sending incremental file list\n",
      "\n",
      "sent 20 bytes  received 12 bytes  64.00 bytes/sec\n",
      "total size is 0  speedup is 0.00\n",
      "sending incremental file list\n"
     ]
    },
    {
     "name": "stderr",
     "output_type": "stream",
     "text": [
      "rsync: change_dir \"/fs5/p_masi/krishar1/COPDGENE/subjects\" failed: No such file or directory (2)\n",
      "rsync error: some files/attrs were not transferred (see previous errors) (code 23) at main.c(1205) [sender=3.1.3]\n",
      "rsync: change_dir \"/fs5/p_masi/krishar1/COPDGENE/subjects\" failed: No such file or directory (2)\n",
      "rsync error: some files/attrs were not transferred (see previous errors) (code 23) at main.c(1205) [sender=3.1.3]\n",
      "rsync: change_dir \"/fs5/p_masi/krishar1/COPDGENE/subjects\" failed: No such file or directory (2)\n"
     ]
    },
    {
     "name": "stdout",
     "output_type": "stream",
     "text": [
      "\n",
      "sent 20 bytes  received 12 bytes  64.00 bytes/sec\n",
      "total size is 0  speedup is 0.00\n",
      "sending incremental file list\n",
      "\n",
      "sent 20 bytes  received 12 bytes  64.00 bytes/sec\n",
      "total size is 0  speedup is 0.00\n",
      "sending incremental file list\n"
     ]
    },
    {
     "name": "stderr",
     "output_type": "stream",
     "text": [
      "rsync error: some files/attrs were not transferred (see previous errors) (code 23) at main.c(1205) [sender=3.1.3]\n",
      "rsync: change_dir \"/fs5/p_masi/krishar1/COPDGENE/subjects\" failed: No such file or directory (2)\n",
      "rsync error: some files/attrs were not transferred (see previous errors) (code 23) at main.c(1205) [sender=3.1.3]\n"
     ]
    },
    {
     "name": "stdout",
     "output_type": "stream",
     "text": [
      "\n",
      "sent 20 bytes  received 12 bytes  64.00 bytes/sec\n",
      "total size is 0  speedup is 0.00\n",
      "sending incremental file list\n",
      "\n",
      "sent 20 bytes  received 12 bytes  64.00 bytes/sec\n",
      "total size is 0  speedup is 0.00\n",
      "sending incremental file list\n"
     ]
    },
    {
     "name": "stderr",
     "output_type": "stream",
     "text": [
      "rsync: change_dir \"/fs5/p_masi/krishar1/COPDGENE/subjects\" failed: No such file or directory (2)\n",
      "rsync error: some files/attrs were not transferred (see previous errors) (code 23) at main.c(1205) [sender=3.1.3]\n",
      "rsync: change_dir \"/fs5/p_masi/krishar1/COPDGENE/subjects\" failed: No such file or directory (2)\n",
      "rsync error: some files/attrs were not transferred (see previous errors) (code 23) at main.c(1205) [sender=3.1.3]\n",
      "rsync: change_dir \"/fs5/p_masi/krishar1/COPDGENE/subjects\" failed: No such file or directory (2)\n"
     ]
    },
    {
     "name": "stdout",
     "output_type": "stream",
     "text": [
      "\n",
      "sent 20 bytes  received 12 bytes  64.00 bytes/sec\n",
      "total size is 0  speedup is 0.00\n",
      "sending incremental file list\n",
      "\n",
      "sent 20 bytes  received 12 bytes  64.00 bytes/sec\n",
      "total size is 0  speedup is 0.00\n",
      "sending incremental file list\n"
     ]
    },
    {
     "name": "stderr",
     "output_type": "stream",
     "text": [
      "rsync error: some files/attrs were not transferred (see previous errors) (code 23) at main.c(1205) [sender=3.1.3]\n",
      "rsync: change_dir \"/fs5/p_masi/krishar1/COPDGENE/subjects\" failed: No such file or directory (2)\n",
      "rsync error: some files/attrs were not transferred (see previous errors) (code 23) at main.c(1205) [sender=3.1.3]\n"
     ]
    },
    {
     "name": "stdout",
     "output_type": "stream",
     "text": [
      "\n",
      "sent 20 bytes  received 12 bytes  64.00 bytes/sec\n",
      "total size is 0  speedup is 0.00\n",
      "sending incremental file list\n",
      "\n",
      "sent 20 bytes  received 12 bytes  64.00 bytes/sec\n",
      "total size is 0  speedup is 0.00\n",
      "sending incremental file list\n"
     ]
    },
    {
     "name": "stderr",
     "output_type": "stream",
     "text": [
      "rsync: change_dir \"/fs5/p_masi/krishar1/COPDGENE/subjects\" failed: No such file or directory (2)\n",
      "rsync error: some files/attrs were not transferred (see previous errors) (code 23) at main.c(1205) [sender=3.1.3]\n",
      "rsync: change_dir \"/fs5/p_masi/krishar1/COPDGENE/subjects\" failed: No such file or directory (2)\n",
      "rsync error: some files/attrs were not transferred (see previous errors) (code 23) at main.c(1205) [sender=3.1.3]\n"
     ]
    },
    {
     "name": "stdout",
     "output_type": "stream",
     "text": [
      "\n",
      "sent 20 bytes  received 12 bytes  64.00 bytes/sec\n",
      "total size is 0  speedup is 0.00\n",
      "sending incremental file list\n",
      "\n",
      "sent 20 bytes  received 12 bytes  64.00 bytes/sec\n",
      "total size is 0  speedup is 0.00\n",
      "sending incremental file list\n"
     ]
    },
    {
     "name": "stderr",
     "output_type": "stream",
     "text": [
      "rsync: change_dir \"/fs5/p_masi/krishar1/COPDGENE/subjects\" failed: No such file or directory (2)\n",
      "rsync error: some files/attrs were not transferred (see previous errors) (code 23) at main.c(1205) [sender=3.1.3]\n",
      "rsync: change_dir \"/fs5/p_masi/krishar1/COPDGENE/subjects\" failed: No such file or directory (2)\n",
      "rsync error: some files/attrs were not transferred (see previous errors) (code 23) at main.c(1205) [sender=3.1.3]\n"
     ]
    },
    {
     "name": "stdout",
     "output_type": "stream",
     "text": [
      "\n",
      "sent 20 bytes  received 12 bytes  64.00 bytes/sec\n",
      "total size is 0  speedup is 0.00\n",
      "sending incremental file list\n",
      "\n",
      "sent 20 bytes  received 12 bytes  64.00 bytes/sec\n",
      "total size is 0  speedup is 0.00\n",
      "sending incremental file list\n"
     ]
    },
    {
     "name": "stderr",
     "output_type": "stream",
     "text": [
      "rsync: change_dir \"/fs5/p_masi/krishar1/COPDGENE/subjects\" failed: No such file or directory (2)\n",
      "rsync error: some files/attrs were not transferred (see previous errors) (code 23) at main.c(1205) [sender=3.1.3]\n",
      "rsync: change_dir \"/fs5/p_masi/krishar1/COPDGENE/subjects\" failed: No such file or directory (2)\n",
      "rsync error: some files/attrs were not transferred (see previous errors) (code 23) at main.c(1205) [sender=3.1.3]\n",
      "rsync: change_dir \"/fs5/p_masi/krishar1/COPDGENE/subjects\" failed: No such file or directory (2)\n"
     ]
    },
    {
     "name": "stdout",
     "output_type": "stream",
     "text": [
      "\n",
      "sent 20 bytes  received 12 bytes  64.00 bytes/sec\n",
      "total size is 0  speedup is 0.00\n",
      "sending incremental file list\n",
      "\n",
      "sent 20 bytes  received 12 bytes  64.00 bytes/sec\n",
      "total size is 0  speedup is 0.00\n",
      "sending incremental file list\n"
     ]
    },
    {
     "name": "stderr",
     "output_type": "stream",
     "text": [
      "rsync error: some files/attrs were not transferred (see previous errors) (code 23) at main.c(1205) [sender=3.1.3]\n",
      "rsync: change_dir \"/fs5/p_masi/krishar1/COPDGENE/subjects\" failed: No such file or directory (2)\n",
      "rsync error: some files/attrs were not transferred (see previous errors) (code 23) at main.c(1205) [sender=3.1.3]\n"
     ]
    },
    {
     "name": "stdout",
     "output_type": "stream",
     "text": [
      "\n",
      "sent 20 bytes  received 12 bytes  64.00 bytes/sec\n",
      "total size is 0  speedup is 0.00\n",
      "sending incremental file list\n",
      "\n",
      "sent 20 bytes  received 12 bytes  64.00 bytes/sec\n",
      "total size is 0  speedup is 0.00\n",
      "sending incremental file list\n"
     ]
    },
    {
     "name": "stderr",
     "output_type": "stream",
     "text": [
      "rsync: change_dir \"/fs5/p_masi/krishar1/COPDGENE/subjects\" failed: No such file or directory (2)\n",
      "rsync error: some files/attrs were not transferred (see previous errors) (code 23) at main.c(1205) [sender=3.1.3]\n",
      "rsync: change_dir \"/fs5/p_masi/krishar1/COPDGENE/subjects\" failed: No such file or directory (2)\n",
      "rsync error: some files/attrs were not transferred (see previous errors) (code 23) at main.c(1205) [sender=3.1.3]\n"
     ]
    },
    {
     "name": "stdout",
     "output_type": "stream",
     "text": [
      "\n",
      "sent 20 bytes  received 12 bytes  64.00 bytes/sec\n",
      "total size is 0  speedup is 0.00\n",
      "sending incremental file list\n",
      "\n",
      "sent 20 bytes  received 12 bytes  64.00 bytes/sec\n",
      "total size is 0  speedup is 0.00\n",
      "sending incremental file list\n"
     ]
    },
    {
     "name": "stderr",
     "output_type": "stream",
     "text": [
      "rsync: change_dir \"/fs5/p_masi/krishar1/COPDGENE/subjects\" failed: No such file or directory (2)\n",
      "rsync error: some files/attrs were not transferred (see previous errors) (code 23) at main.c(1205) [sender=3.1.3]\n",
      "rsync: change_dir \"/fs5/p_masi/krishar1/COPDGENE/subjects\" failed: No such file or directory (2)\n",
      "rsync error: some files/attrs were not transferred (see previous errors) (code 23) at main.c(1205) [sender=3.1.3]\n"
     ]
    },
    {
     "name": "stdout",
     "output_type": "stream",
     "text": [
      "\n",
      "sent 20 bytes  received 12 bytes  64.00 bytes/sec\n",
      "total size is 0  speedup is 0.00\n",
      "sending incremental file list\n",
      "\n",
      "sent 20 bytes  received 12 bytes  64.00 bytes/sec\n",
      "total size is 0  speedup is 0.00\n",
      "sending incremental file list\n"
     ]
    },
    {
     "name": "stderr",
     "output_type": "stream",
     "text": [
      "rsync: change_dir \"/fs5/p_masi/krishar1/COPDGENE/subjects\" failed: No such file or directory (2)\n",
      "rsync error: some files/attrs were not transferred (see previous errors) (code 23) at main.c(1205) [sender=3.1.3]\n",
      "rsync: change_dir \"/fs5/p_masi/krishar1/COPDGENE/subjects\" failed: No such file or directory (2)\n",
      "rsync error: some files/attrs were not transferred (see previous errors) (code 23) at main.c(1205) [sender=3.1.3]\n"
     ]
    },
    {
     "name": "stdout",
     "output_type": "stream",
     "text": [
      "\n",
      "sent 20 bytes  received 12 bytes  64.00 bytes/sec\n",
      "total size is 0  speedup is 0.00\n",
      "sending incremental file list\n",
      "\n",
      "sent 20 bytes  received 12 bytes  64.00 bytes/sec\n",
      "total size is 0  speedup is 0.00\n",
      "sending incremental file list\n"
     ]
    },
    {
     "name": "stderr",
     "output_type": "stream",
     "text": [
      "rsync: change_dir \"/fs5/p_masi/krishar1/COPDGENE/subjects\" failed: No such file or directory (2)\n",
      "rsync error: some files/attrs were not transferred (see previous errors) (code 23) at main.c(1205) [sender=3.1.3]\n",
      "rsync: change_dir \"/fs5/p_masi/krishar1/COPDGENE/subjects\" failed: No such file or directory (2)\n",
      "rsync error: some files/attrs were not transferred (see previous errors) (code 23) at main.c(1205) [sender=3.1.3]\n"
     ]
    },
    {
     "name": "stdout",
     "output_type": "stream",
     "text": [
      "\n",
      "sent 20 bytes  received 12 bytes  64.00 bytes/sec\n",
      "total size is 0  speedup is 0.00\n",
      "sending incremental file list\n",
      "\n",
      "sent 20 bytes  received 12 bytes  64.00 bytes/sec\n",
      "total size is 0  speedup is 0.00\n",
      "sending incremental file list\n"
     ]
    },
    {
     "name": "stderr",
     "output_type": "stream",
     "text": [
      "rsync: change_dir \"/fs5/p_masi/krishar1/COPDGENE/subjects\" failed: No such file or directory (2)\n",
      "rsync error: some files/attrs were not transferred (see previous errors) (code 23) at main.c(1205) [sender=3.1.3]\n",
      "rsync: change_dir \"/fs5/p_masi/krishar1/COPDGENE/subjects\" failed: No such file or directory (2)\n",
      "rsync error: some files/attrs were not transferred (see previous errors) (code 23) at main.c(1205) [sender=3.1.3]\n"
     ]
    },
    {
     "name": "stdout",
     "output_type": "stream",
     "text": [
      "\n",
      "sent 20 bytes  received 12 bytes  64.00 bytes/sec\n",
      "total size is 0  speedup is 0.00\n",
      "sending incremental file list\n",
      "\n",
      "sent 20 bytes  received 12 bytes  64.00 bytes/sec\n",
      "total size is 0  speedup is 0.00\n",
      "sending incremental file list\n"
     ]
    },
    {
     "name": "stderr",
     "output_type": "stream",
     "text": [
      "rsync: change_dir \"/fs5/p_masi/krishar1/COPDGENE/subjects\" failed: No such file or directory (2)\n",
      "rsync error: some files/attrs were not transferred (see previous errors) (code 23) at main.c(1205) [sender=3.1.3]\n",
      "rsync: change_dir \"/fs5/p_masi/krishar1/COPDGENE/subjects\" failed: No such file or directory (2)\n",
      "rsync error: some files/attrs were not transferred (see previous errors) (code 23) at main.c(1205) [sender=3.1.3]\n",
      "rsync: change_dir \"/fs5/p_masi/krishar1/COPDGENE/subjects\" failed: No such file or directory (2)\n"
     ]
    },
    {
     "name": "stdout",
     "output_type": "stream",
     "text": [
      "\n",
      "sent 20 bytes  received 12 bytes  64.00 bytes/sec\n",
      "total size is 0  speedup is 0.00\n",
      "sending incremental file list\n",
      "\n",
      "sent 20 bytes  received 12 bytes  64.00 bytes/sec\n",
      "total size is 0  speedup is 0.00\n",
      "sending incremental file list\n"
     ]
    },
    {
     "name": "stderr",
     "output_type": "stream",
     "text": [
      "rsync error: some files/attrs were not transferred (see previous errors) (code 23) at main.c(1205) [sender=3.1.3]\n",
      "rsync: change_dir \"/fs5/p_masi/krishar1/COPDGENE/subjects\" failed: No such file or directory (2)\n",
      "rsync error: some files/attrs were not transferred (see previous errors) (code 23) at main.c(1205) [sender=3.1.3]\n"
     ]
    },
    {
     "name": "stdout",
     "output_type": "stream",
     "text": [
      "\n",
      "sent 20 bytes  received 12 bytes  64.00 bytes/sec\n",
      "total size is 0  speedup is 0.00\n",
      "sending incremental file list\n",
      "\n",
      "sent 20 bytes  received 12 bytes  64.00 bytes/sec\n",
      "total size is 0  speedup is 0.00\n",
      "sending incremental file list\n"
     ]
    },
    {
     "name": "stderr",
     "output_type": "stream",
     "text": [
      "rsync: change_dir \"/fs5/p_masi/krishar1/COPDGENE/subjects\" failed: No such file or directory (2)\n",
      "rsync error: some files/attrs were not transferred (see previous errors) (code 23) at main.c(1205) [sender=3.1.3]\n",
      "rsync: change_dir \"/fs5/p_masi/krishar1/COPDGENE/subjects\" failed: No such file or directory (2)\n",
      "rsync error: some files/attrs were not transferred (see previous errors) (code 23) at main.c(1205) [sender=3.1.3]\n"
     ]
    },
    {
     "name": "stdout",
     "output_type": "stream",
     "text": [
      "\n",
      "sent 20 bytes  received 12 bytes  64.00 bytes/sec\n",
      "total size is 0  speedup is 0.00\n",
      "sending incremental file list\n",
      "\n",
      "sent 20 bytes  received 12 bytes  64.00 bytes/sec\n",
      "total size is 0  speedup is 0.00\n",
      "sending incremental file list\n"
     ]
    },
    {
     "name": "stderr",
     "output_type": "stream",
     "text": [
      "rsync: change_dir \"/fs5/p_masi/krishar1/COPDGENE/subjects\" failed: No such file or directory (2)\n",
      "rsync error: some files/attrs were not transferred (see previous errors) (code 23) at main.c(1205) [sender=3.1.3]\n",
      "rsync: change_dir \"/fs5/p_masi/krishar1/COPDGENE/subjects\" failed: No such file or directory (2)\n",
      "rsync error: some files/attrs were not transferred (see previous errors) (code 23) at main.c(1205) [sender=3.1.3]\n"
     ]
    },
    {
     "name": "stdout",
     "output_type": "stream",
     "text": [
      "\n",
      "sent 20 bytes  received 12 bytes  64.00 bytes/sec\n",
      "total size is 0  speedup is 0.00\n",
      "sending incremental file list\n",
      "\n",
      "sent 20 bytes  received 12 bytes  64.00 bytes/sec\n",
      "total size is 0  speedup is 0.00\n",
      "sending incremental file list\n"
     ]
    },
    {
     "name": "stderr",
     "output_type": "stream",
     "text": [
      "rsync: change_dir \"/fs5/p_masi/krishar1/COPDGENE/subjects\" failed: No such file or directory (2)\n",
      "rsync error: some files/attrs were not transferred (see previous errors) (code 23) at main.c(1205) [sender=3.1.3]\n",
      "rsync: change_dir \"/fs5/p_masi/krishar1/COPDGENE/subjects\" failed: No such file or directory (2)\n",
      "rsync error: some files/attrs were not transferred (see previous errors) (code 23) at main.c(1205) [sender=3.1.3]\n",
      "rsync: change_dir \"/fs5/p_masi/krishar1/COPDGENE/subjects\" failed: No such file or directory (2)\n"
     ]
    },
    {
     "name": "stdout",
     "output_type": "stream",
     "text": [
      "\n",
      "sent 20 bytes  received 12 bytes  64.00 bytes/sec\n",
      "total size is 0  speedup is 0.00\n",
      "sending incremental file list\n",
      "\n",
      "sent 20 bytes  received 12 bytes  64.00 bytes/sec\n",
      "total size is 0  speedup is 0.00\n",
      "sending incremental file list\n"
     ]
    },
    {
     "name": "stderr",
     "output_type": "stream",
     "text": [
      "rsync error: some files/attrs were not transferred (see previous errors) (code 23) at main.c(1205) [sender=3.1.3]\n",
      "rsync: change_dir \"/fs5/p_masi/krishar1/COPDGENE/subjects\" failed: No such file or directory (2)\n",
      "rsync error: some files/attrs were not transferred (see previous errors) (code 23) at main.c(1205) [sender=3.1.3]\n"
     ]
    },
    {
     "name": "stdout",
     "output_type": "stream",
     "text": [
      "\n",
      "sent 20 bytes  received 12 bytes  64.00 bytes/sec\n",
      "total size is 0  speedup is 0.00\n",
      "sending incremental file list\n",
      "\n",
      "sent 20 bytes  received 12 bytes  64.00 bytes/sec\n",
      "total size is 0  speedup is 0.00\n",
      "sending incremental file list\n"
     ]
    },
    {
     "name": "stderr",
     "output_type": "stream",
     "text": [
      "rsync: change_dir \"/fs5/p_masi/krishar1/COPDGENE/subjects\" failed: No such file or directory (2)\n",
      "rsync error: some files/attrs were not transferred (see previous errors) (code 23) at main.c(1205) [sender=3.1.3]\n",
      "rsync: change_dir \"/fs5/p_masi/krishar1/COPDGENE/subjects\" failed: No such file or directory (2)\n",
      "rsync error: some files/attrs were not transferred (see previous errors) (code 23) at main.c(1205) [sender=3.1.3]\n"
     ]
    },
    {
     "name": "stdout",
     "output_type": "stream",
     "text": [
      "\n",
      "sent 20 bytes  received 12 bytes  64.00 bytes/sec\n",
      "total size is 0  speedup is 0.00\n",
      "sending incremental file list\n",
      "\n",
      "sent 20 bytes  received 12 bytes  64.00 bytes/sec\n",
      "total size is 0  speedup is 0.00\n",
      "sending incremental file list\n"
     ]
    },
    {
     "name": "stderr",
     "output_type": "stream",
     "text": [
      "rsync: change_dir \"/fs5/p_masi/krishar1/COPDGENE/subjects\" failed: No such file or directory (2)\n",
      "rsync error: some files/attrs were not transferred (see previous errors) (code 23) at main.c(1205) [sender=3.1.3]\n",
      "rsync: change_dir \"/fs5/p_masi/krishar1/COPDGENE/subjects\" failed: No such file or directory (2)\n",
      "rsync error: some files/attrs were not transferred (see previous errors) (code 23) at main.c(1205) [sender=3.1.3]\n"
     ]
    },
    {
     "name": "stdout",
     "output_type": "stream",
     "text": [
      "\n",
      "sent 20 bytes  received 12 bytes  64.00 bytes/sec\n",
      "total size is 0  speedup is 0.00\n",
      "sending incremental file list\n",
      "\n",
      "sent 20 bytes  received 12 bytes  64.00 bytes/sec\n",
      "total size is 0  speedup is 0.00\n",
      "sending incremental file list\n"
     ]
    },
    {
     "name": "stderr",
     "output_type": "stream",
     "text": [
      "rsync: change_dir \"/fs5/p_masi/krishar1/COPDGENE/subjects\" failed: No such file or directory (2)\n",
      "rsync error: some files/attrs were not transferred (see previous errors) (code 23) at main.c(1205) [sender=3.1.3]\n",
      "rsync: change_dir \"/fs5/p_masi/krishar1/COPDGENE/subjects\" failed: No such file or directory (2)\n",
      "rsync error: some files/attrs were not transferred (see previous errors) (code 23) at main.c(1205) [sender=3.1.3]\n"
     ]
    },
    {
     "name": "stdout",
     "output_type": "stream",
     "text": [
      "\n",
      "sent 20 bytes  received 12 bytes  64.00 bytes/sec\n",
      "total size is 0  speedup is 0.00\n",
      "sending incremental file list\n",
      "\n",
      "sent 20 bytes  received 12 bytes  64.00 bytes/sec\n",
      "total size is 0  speedup is 0.00\n",
      "sending incremental file list\n"
     ]
    },
    {
     "name": "stderr",
     "output_type": "stream",
     "text": [
      "rsync: change_dir \"/fs5/p_masi/krishar1/COPDGENE/subjects\" failed: No such file or directory (2)\n",
      "rsync error: some files/attrs were not transferred (see previous errors) (code 23) at main.c(1205) [sender=3.1.3]\n",
      "rsync: change_dir \"/fs5/p_masi/krishar1/COPDGENE/subjects\" failed: No such file or directory (2)\n",
      "rsync error: some files/attrs were not transferred (see previous errors) (code 23) at main.c(1205) [sender=3.1.3]\n"
     ]
    },
    {
     "name": "stdout",
     "output_type": "stream",
     "text": [
      "\n",
      "sent 20 bytes  received 12 bytes  64.00 bytes/sec\n",
      "total size is 0  speedup is 0.00\n",
      "sending incremental file list\n",
      "\n",
      "sent 20 bytes  received 12 bytes  64.00 bytes/sec\n",
      "total size is 0  speedup is 0.00\n",
      "sending incremental file list\n"
     ]
    },
    {
     "name": "stderr",
     "output_type": "stream",
     "text": [
      "rsync: change_dir \"/fs5/p_masi/krishar1/COPDGENE/subjects\" failed: No such file or directory (2)\n",
      "rsync error: some files/attrs were not transferred (see previous errors) (code 23) at main.c(1205) [sender=3.1.3]\n",
      "rsync: change_dir \"/fs5/p_masi/krishar1/COPDGENE/subjects\" failed: No such file or directory (2)\n",
      "rsync error: some files/attrs were not transferred (see previous errors) (code 23) at main.c(1205) [sender=3.1.3]\n"
     ]
    },
    {
     "name": "stdout",
     "output_type": "stream",
     "text": [
      "\n",
      "sent 20 bytes  received 12 bytes  64.00 bytes/sec\n",
      "total size is 0  speedup is 0.00\n",
      "sending incremental file list\n",
      "\n",
      "sent 20 bytes  received 12 bytes  64.00 bytes/sec\n",
      "total size is 0  speedup is 0.00\n",
      "sending incremental file list\n"
     ]
    },
    {
     "name": "stderr",
     "output_type": "stream",
     "text": [
      "rsync: change_dir \"/fs5/p_masi/krishar1/COPDGENE/subjects\" failed: No such file or directory (2)\n",
      "rsync error: some files/attrs were not transferred (see previous errors) (code 23) at main.c(1205) [sender=3.1.3]\n",
      "rsync: change_dir \"/fs5/p_masi/krishar1/COPDGENE/subjects\" failed: No such file or directory (2)\n",
      "rsync error: some files/attrs were not transferred (see previous errors) (code 23) at main.c(1205) [sender=3.1.3]\n"
     ]
    },
    {
     "name": "stdout",
     "output_type": "stream",
     "text": [
      "\n",
      "sent 20 bytes  received 12 bytes  64.00 bytes/sec\n",
      "total size is 0  speedup is 0.00\n",
      "sending incremental file list\n",
      "\n",
      "sent 20 bytes  received 12 bytes  64.00 bytes/sec\n",
      "total size is 0  speedup is 0.00\n",
      "sending incremental file list\n"
     ]
    },
    {
     "name": "stderr",
     "output_type": "stream",
     "text": [
      "rsync: change_dir \"/fs5/p_masi/krishar1/COPDGENE/subjects\" failed: No such file or directory (2)\n",
      "rsync error: some files/attrs were not transferred (see previous errors) (code 23) at main.c(1205) [sender=3.1.3]\n",
      "rsync: change_dir \"/fs5/p_masi/krishar1/COPDGENE/subjects\" failed: No such file or directory (2)\n",
      "rsync error: some files/attrs were not transferred (see previous errors) (code 23) at main.c(1205) [sender=3.1.3]\n"
     ]
    },
    {
     "name": "stdout",
     "output_type": "stream",
     "text": [
      "\n",
      "sent 20 bytes  received 12 bytes  64.00 bytes/sec\n",
      "total size is 0  speedup is 0.00\n",
      "sending incremental file list\n",
      "\n",
      "sent 20 bytes  received 12 bytes  64.00 bytes/sec\n",
      "total size is 0  speedup is 0.00\n",
      "sending incremental file list\n"
     ]
    },
    {
     "name": "stderr",
     "output_type": "stream",
     "text": [
      "rsync: change_dir \"/fs5/p_masi/krishar1/COPDGENE/subjects\" failed: No such file or directory (2)\n",
      "rsync error: some files/attrs were not transferred (see previous errors) (code 23) at main.c(1205) [sender=3.1.3]\n",
      "rsync: change_dir \"/fs5/p_masi/krishar1/COPDGENE/subjects\" failed: No such file or directory (2)\n",
      "rsync error: some files/attrs were not transferred (see previous errors) (code 23) at main.c(1205) [sender=3.1.3]\n"
     ]
    },
    {
     "name": "stdout",
     "output_type": "stream",
     "text": [
      "\n",
      "sent 20 bytes  received 12 bytes  64.00 bytes/sec\n",
      "total size is 0  speedup is 0.00\n",
      "sending incremental file list\n",
      "\n",
      "sent 20 bytes  received 12 bytes  64.00 bytes/sec\n",
      "total size is 0  speedup is 0.00\n",
      "sending incremental file list\n"
     ]
    },
    {
     "name": "stderr",
     "output_type": "stream",
     "text": [
      "rsync: change_dir \"/fs5/p_masi/krishar1/COPDGENE/subjects\" failed: No such file or directory (2)\n",
      "rsync error: some files/attrs were not transferred (see previous errors) (code 23) at main.c(1205) [sender=3.1.3]\n",
      "rsync: change_dir \"/fs5/p_masi/krishar1/COPDGENE/subjects\" failed: No such file or directory (2)\n",
      "rsync error: some files/attrs were not transferred (see previous errors) (code 23) at main.c(1205) [sender=3.1.3]\n"
     ]
    },
    {
     "name": "stdout",
     "output_type": "stream",
     "text": [
      "\n",
      "sent 20 bytes  received 12 bytes  64.00 bytes/sec\n",
      "total size is 0  speedup is 0.00\n",
      "sending incremental file list\n",
      "\n",
      "sent 20 bytes  received 12 bytes  64.00 bytes/sec\n",
      "total size is 0  speedup is 0.00\n",
      "sending incremental file list\n"
     ]
    },
    {
     "name": "stderr",
     "output_type": "stream",
     "text": [
      "rsync: change_dir \"/fs5/p_masi/krishar1/COPDGENE/subjects\" failed: No such file or directory (2)\n",
      "rsync error: some files/attrs were not transferred (see previous errors) (code 23) at main.c(1205) [sender=3.1.3]\n",
      "rsync: change_dir \"/fs5/p_masi/krishar1/COPDGENE/subjects\" failed: No such file or directory (2)\n",
      "rsync error: some files/attrs were not transferred (see previous errors) (code 23) at main.c(1205) [sender=3.1.3]\n"
     ]
    },
    {
     "name": "stdout",
     "output_type": "stream",
     "text": [
      "\n",
      "sent 20 bytes  received 12 bytes  64.00 bytes/sec\n",
      "total size is 0  speedup is 0.00\n",
      "sending incremental file list\n",
      "\n",
      "sent 20 bytes  received 12 bytes  64.00 bytes/sec\n",
      "total size is 0  speedup is 0.00\n",
      "sending incremental file list\n"
     ]
    },
    {
     "name": "stderr",
     "output_type": "stream",
     "text": [
      "rsync: change_dir \"/fs5/p_masi/krishar1/COPDGENE/subjects\" failed: No such file or directory (2)\n",
      "rsync error: some files/attrs were not transferred (see previous errors) (code 23) at main.c(1205) [sender=3.1.3]\n",
      "rsync: change_dir \"/fs5/p_masi/krishar1/COPDGENE/subjects\" failed: No such file or directory (2)\n",
      "rsync error: some files/attrs were not transferred (see previous errors) (code 23) at main.c(1205) [sender=3.1.3]\n"
     ]
    },
    {
     "name": "stdout",
     "output_type": "stream",
     "text": [
      "\n",
      "sent 20 bytes  received 12 bytes  64.00 bytes/sec\n",
      "total size is 0  speedup is 0.00\n",
      "sending incremental file list\n",
      "\n",
      "sent 20 bytes  received 12 bytes  64.00 bytes/sec\n",
      "total size is 0  speedup is 0.00\n",
      "sending incremental file list\n"
     ]
    },
    {
     "name": "stderr",
     "output_type": "stream",
     "text": [
      "rsync: change_dir \"/fs5/p_masi/krishar1/COPDGENE/subjects\" failed: No such file or directory (2)\n",
      "rsync error: some files/attrs were not transferred (see previous errors) (code 23) at main.c(1205) [sender=3.1.3]\n",
      "rsync: change_dir \"/fs5/p_masi/krishar1/COPDGENE/subjects\" failed: No such file or directory (2)\n",
      "rsync error: some files/attrs were not transferred (see previous errors) (code 23) at main.c(1205) [sender=3.1.3]\n"
     ]
    },
    {
     "name": "stdout",
     "output_type": "stream",
     "text": [
      "\n",
      "sent 20 bytes  received 12 bytes  64.00 bytes/sec\n",
      "total size is 0  speedup is 0.00\n",
      "sending incremental file list\n",
      "\n",
      "sent 20 bytes  received 12 bytes  64.00 bytes/sec\n",
      "total size is 0  speedup is 0.00\n",
      "sending incremental file list\n"
     ]
    },
    {
     "name": "stderr",
     "output_type": "stream",
     "text": [
      "rsync: change_dir \"/fs5/p_masi/krishar1/COPDGENE/subjects\" failed: No such file or directory (2)\n",
      "rsync error: some files/attrs were not transferred (see previous errors) (code 23) at main.c(1205) [sender=3.1.3]\n",
      "rsync: change_dir \"/fs5/p_masi/krishar1/COPDGENE/subjects\" failed: No such file or directory (2)\n",
      "rsync error: some files/attrs were not transferred (see previous errors) (code 23) at main.c(1205) [sender=3.1.3]\n"
     ]
    },
    {
     "name": "stdout",
     "output_type": "stream",
     "text": [
      "\n",
      "sent 20 bytes  received 12 bytes  64.00 bytes/sec\n",
      "total size is 0  speedup is 0.00\n",
      "sending incremental file list\n",
      "\n",
      "sent 20 bytes  received 12 bytes  64.00 bytes/sec\n",
      "total size is 0  speedup is 0.00\n",
      "sending incremental file list\n"
     ]
    },
    {
     "name": "stderr",
     "output_type": "stream",
     "text": [
      "rsync: change_dir \"/fs5/p_masi/krishar1/COPDGENE/subjects\" failed: No such file or directory (2)\n",
      "rsync error: some files/attrs were not transferred (see previous errors) (code 23) at main.c(1205) [sender=3.1.3]\n",
      "rsync: change_dir \"/fs5/p_masi/krishar1/COPDGENE/subjects\" failed: No such file or directory (2)\n",
      "rsync error: some files/attrs were not transferred (see previous errors) (code 23) at main.c(1205) [sender=3.1.3]\n"
     ]
    },
    {
     "name": "stdout",
     "output_type": "stream",
     "text": [
      "\n",
      "sent 20 bytes  received 12 bytes  64.00 bytes/sec\n",
      "total size is 0  speedup is 0.00\n",
      "sending incremental file list\n",
      "\n",
      "sent 20 bytes  received 12 bytes  64.00 bytes/sec\n",
      "total size is 0  speedup is 0.00\n",
      "sending incremental file list\n"
     ]
    },
    {
     "name": "stderr",
     "output_type": "stream",
     "text": [
      "rsync: change_dir \"/fs5/p_masi/krishar1/COPDGENE/subjects\" failed: No such file or directory (2)\n",
      "rsync error: some files/attrs were not transferred (see previous errors) (code 23) at main.c(1205) [sender=3.1.3]\n",
      "rsync: change_dir \"/fs5/p_masi/krishar1/COPDGENE/subjects\" failed: No such file or directory (2)\n",
      "rsync error: some files/attrs were not transferred (see previous errors) (code 23) at main.c(1205) [sender=3.1.3]\n"
     ]
    },
    {
     "name": "stdout",
     "output_type": "stream",
     "text": [
      "\n",
      "sent 20 bytes  received 12 bytes  64.00 bytes/sec\n",
      "total size is 0  speedup is 0.00\n",
      "sending incremental file list\n",
      "\n",
      "sent 20 bytes  received 12 bytes  64.00 bytes/sec\n",
      "total size is 0  speedup is 0.00\n",
      "sending incremental file list\n"
     ]
    },
    {
     "name": "stderr",
     "output_type": "stream",
     "text": [
      "rsync: change_dir \"/fs5/p_masi/krishar1/COPDGENE/subjects\" failed: No such file or directory (2)\n",
      "rsync error: some files/attrs were not transferred (see previous errors) (code 23) at main.c(1205) [sender=3.1.3]\n",
      "rsync: change_dir \"/fs5/p_masi/krishar1/COPDGENE/subjects\" failed: No such file or directory (2)\n",
      "rsync error: some files/attrs were not transferred (see previous errors) (code 23) at main.c(1205) [sender=3.1.3]\n"
     ]
    },
    {
     "name": "stdout",
     "output_type": "stream",
     "text": [
      "\n",
      "sent 20 bytes  received 12 bytes  64.00 bytes/sec\n",
      "total size is 0  speedup is 0.00\n",
      "sending incremental file list\n",
      "\n",
      "sent 20 bytes  received 12 bytes  64.00 bytes/sec\n",
      "total size is 0  speedup is 0.00\n",
      "sending incremental file list\n"
     ]
    },
    {
     "name": "stderr",
     "output_type": "stream",
     "text": [
      "rsync: change_dir \"/fs5/p_masi/krishar1/COPDGENE/subjects\" failed: No such file or directory (2)\n",
      "rsync error: some files/attrs were not transferred (see previous errors) (code 23) at main.c(1205) [sender=3.1.3]\n",
      "rsync: change_dir \"/fs5/p_masi/krishar1/COPDGENE/subjects\" failed: No such file or directory (2)\n",
      "rsync error: some files/attrs were not transferred (see previous errors) (code 23) at main.c(1205) [sender=3.1.3]\n"
     ]
    },
    {
     "name": "stdout",
     "output_type": "stream",
     "text": [
      "\n",
      "sent 20 bytes  received 12 bytes  64.00 bytes/sec\n",
      "total size is 0  speedup is 0.00\n",
      "sending incremental file list\n",
      "\n",
      "sent 20 bytes  received 12 bytes  64.00 bytes/sec\n",
      "total size is 0  speedup is 0.00\n",
      "sending incremental file list\n"
     ]
    },
    {
     "name": "stderr",
     "output_type": "stream",
     "text": [
      "rsync: change_dir \"/fs5/p_masi/krishar1/COPDGENE/subjects\" failed: No such file or directory (2)\n",
      "rsync error: some files/attrs were not transferred (see previous errors) (code 23) at main.c(1205) [sender=3.1.3]\n",
      "rsync: change_dir \"/fs5/p_masi/krishar1/COPDGENE/subjects\" failed: No such file or directory (2)\n",
      "rsync error: some files/attrs were not transferred (see previous errors) (code 23) at main.c(1205) [sender=3.1.3]\n"
     ]
    },
    {
     "name": "stdout",
     "output_type": "stream",
     "text": [
      "\n",
      "sent 20 bytes  received 12 bytes  64.00 bytes/sec\n",
      "total size is 0  speedup is 0.00\n",
      "sending incremental file list\n",
      "\n",
      "sent 20 bytes  received 12 bytes  64.00 bytes/sec\n",
      "total size is 0  speedup is 0.00\n",
      "sending incremental file list\n"
     ]
    },
    {
     "name": "stderr",
     "output_type": "stream",
     "text": [
      "rsync: change_dir \"/fs5/p_masi/krishar1/COPDGENE/subjects\" failed: No such file or directory (2)\n",
      "rsync error: some files/attrs were not transferred (see previous errors) (code 23) at main.c(1205) [sender=3.1.3]\n",
      "rsync: change_dir \"/fs5/p_masi/krishar1/COPDGENE/subjects\" failed: No such file or directory (2)\n",
      "rsync error: some files/attrs were not transferred (see previous errors) (code 23) at main.c(1205) [sender=3.1.3]\n"
     ]
    },
    {
     "name": "stdout",
     "output_type": "stream",
     "text": [
      "\n",
      "sent 20 bytes  received 12 bytes  64.00 bytes/sec\n",
      "total size is 0  speedup is 0.00\n",
      "sending incremental file list\n",
      "\n",
      "sent 20 bytes  received 12 bytes  64.00 bytes/sec\n",
      "total size is 0  speedup is 0.00\n",
      "sending incremental file list\n"
     ]
    },
    {
     "name": "stderr",
     "output_type": "stream",
     "text": [
      "rsync: change_dir \"/fs5/p_masi/krishar1/COPDGENE/subjects\" failed: No such file or directory (2)\n",
      "rsync error: some files/attrs were not transferred (see previous errors) (code 23) at main.c(1205) [sender=3.1.3]\n",
      "rsync: change_dir \"/fs5/p_masi/krishar1/COPDGENE/subjects\" failed: No such file or directory (2)\n",
      "rsync error: some files/attrs were not transferred (see previous errors) (code 23) at main.c(1205) [sender=3.1.3]\n"
     ]
    },
    {
     "name": "stdout",
     "output_type": "stream",
     "text": [
      "\n",
      "sent 20 bytes  received 12 bytes  64.00 bytes/sec\n",
      "total size is 0  speedup is 0.00\n",
      "sending incremental file list\n",
      "\n",
      "sent 20 bytes  received 12 bytes  64.00 bytes/sec\n",
      "total size is 0  speedup is 0.00\n",
      "sending incremental file list\n"
     ]
    },
    {
     "name": "stderr",
     "output_type": "stream",
     "text": [
      "rsync: change_dir \"/fs5/p_masi/krishar1/COPDGENE/subjects\" failed: No such file or directory (2)\n",
      "rsync error: some files/attrs were not transferred (see previous errors) (code 23) at main.c(1205) [sender=3.1.3]\n",
      "rsync: change_dir \"/fs5/p_masi/krishar1/COPDGENE/subjects\" failed: No such file or directory (2)\n",
      "rsync error: some files/attrs were not transferred (see previous errors) (code 23) at main.c(1205) [sender=3.1.3]\n"
     ]
    },
    {
     "name": "stdout",
     "output_type": "stream",
     "text": [
      "\n",
      "sent 20 bytes  received 12 bytes  64.00 bytes/sec\n",
      "total size is 0  speedup is 0.00\n",
      "sending incremental file list\n",
      "\n",
      "sent 20 bytes  received 12 bytes  64.00 bytes/sec\n",
      "total size is 0  speedup is 0.00\n",
      "sending incremental file list\n"
     ]
    },
    {
     "name": "stderr",
     "output_type": "stream",
     "text": [
      "rsync: change_dir \"/fs5/p_masi/krishar1/COPDGENE/subjects\" failed: No such file or directory (2)\n",
      "rsync error: some files/attrs were not transferred (see previous errors) (code 23) at main.c(1205) [sender=3.1.3]\n",
      "rsync: change_dir \"/fs5/p_masi/krishar1/COPDGENE/subjects\" failed: No such file or directory (2)\n",
      "rsync error: some files/attrs were not transferred (see previous errors) (code 23) at main.c(1205) [sender=3.1.3]\n"
     ]
    },
    {
     "name": "stdout",
     "output_type": "stream",
     "text": [
      "\n",
      "sent 20 bytes  received 12 bytes  64.00 bytes/sec\n",
      "total size is 0  speedup is 0.00\n",
      "sending incremental file list\n",
      "\n",
      "sent 20 bytes  received 12 bytes  64.00 bytes/sec\n",
      "total size is 0  speedup is 0.00\n",
      "sending incremental file list\n"
     ]
    },
    {
     "name": "stderr",
     "output_type": "stream",
     "text": [
      "rsync: change_dir \"/fs5/p_masi/krishar1/COPDGENE/subjects\" failed: No such file or directory (2)\n",
      "rsync error: some files/attrs were not transferred (see previous errors) (code 23) at main.c(1205) [sender=3.1.3]\n",
      "rsync: change_dir \"/fs5/p_masi/krishar1/COPDGENE/subjects\" failed: No such file or directory (2)\n",
      "rsync error: some files/attrs were not transferred (see previous errors) (code 23) at main.c(1205) [sender=3.1.3]\n"
     ]
    },
    {
     "name": "stdout",
     "output_type": "stream",
     "text": [
      "\n",
      "sent 20 bytes  received 12 bytes  64.00 bytes/sec\n",
      "total size is 0  speedup is 0.00\n",
      "sending incremental file list\n",
      "\n",
      "sent 20 bytes  received 12 bytes  64.00 bytes/sec\n",
      "total size is 0  speedup is 0.00\n",
      "sending incremental file list\n"
     ]
    },
    {
     "name": "stderr",
     "output_type": "stream",
     "text": [
      "rsync: change_dir \"/fs5/p_masi/krishar1/COPDGENE/subjects\" failed: No such file or directory (2)\n",
      "rsync error: some files/attrs were not transferred (see previous errors) (code 23) at main.c(1205) [sender=3.1.3]\n",
      "rsync: change_dir \"/fs5/p_masi/krishar1/COPDGENE/subjects\" failed: No such file or directory (2)\n",
      "rsync error: some files/attrs were not transferred (see previous errors) (code 23) at main.c(1205) [sender=3.1.3]\n"
     ]
    },
    {
     "name": "stdout",
     "output_type": "stream",
     "text": [
      "\n",
      "sent 20 bytes  received 12 bytes  64.00 bytes/sec\n",
      "total size is 0  speedup is 0.00\n",
      "sending incremental file list\n",
      "\n",
      "sent 20 bytes  received 12 bytes  64.00 bytes/sec\n",
      "total size is 0  speedup is 0.00\n",
      "sending incremental file list\n"
     ]
    },
    {
     "name": "stderr",
     "output_type": "stream",
     "text": [
      "rsync: change_dir \"/fs5/p_masi/krishar1/COPDGENE/subjects\" failed: No such file or directory (2)\n",
      "rsync error: some files/attrs were not transferred (see previous errors) (code 23) at main.c(1205) [sender=3.1.3]\n",
      "rsync: change_dir \"/fs5/p_masi/krishar1/COPDGENE/subjects\" failed: No such file or directory (2)\n",
      "rsync error: some files/attrs were not transferred (see previous errors) (code 23) at main.c(1205) [sender=3.1.3]\n"
     ]
    },
    {
     "name": "stdout",
     "output_type": "stream",
     "text": [
      "\n",
      "sent 20 bytes  received 12 bytes  64.00 bytes/sec\n",
      "total size is 0  speedup is 0.00\n",
      "sending incremental file list\n",
      "\n",
      "sent 20 bytes  received 12 bytes  64.00 bytes/sec\n",
      "total size is 0  speedup is 0.00\n",
      "sending incremental file list\n"
     ]
    },
    {
     "name": "stderr",
     "output_type": "stream",
     "text": [
      "rsync: change_dir \"/fs5/p_masi/krishar1/COPDGENE/subjects\" failed: No such file or directory (2)\n",
      "rsync error: some files/attrs were not transferred (see previous errors) (code 23) at main.c(1205) [sender=3.1.3]\n",
      "rsync: change_dir \"/fs5/p_masi/krishar1/COPDGENE/subjects\" failed: No such file or directory (2)\n",
      "rsync error: some files/attrs were not transferred (see previous errors) (code 23) at main.c(1205) [sender=3.1.3]\n",
      "rsync: change_dir \"/fs5/p_masi/krishar1/COPDGENE/subjects\" failed: No such file or directory (2)\n"
     ]
    },
    {
     "name": "stdout",
     "output_type": "stream",
     "text": [
      "\n",
      "sent 20 bytes  received 12 bytes  64.00 bytes/sec\n",
      "total size is 0  speedup is 0.00\n",
      "sending incremental file list\n",
      "\n",
      "sent 20 bytes  received 12 bytes  64.00 bytes/sec\n",
      "total size is 0  speedup is 0.00\n",
      "sending incremental file list\n"
     ]
    },
    {
     "name": "stderr",
     "output_type": "stream",
     "text": [
      "rsync error: some files/attrs were not transferred (see previous errors) (code 23) at main.c(1205) [sender=3.1.3]\n",
      "rsync: change_dir \"/fs5/p_masi/krishar1/COPDGENE/subjects\" failed: No such file or directory (2)\n",
      "rsync error: some files/attrs were not transferred (see previous errors) (code 23) at main.c(1205) [sender=3.1.3]\n"
     ]
    },
    {
     "name": "stdout",
     "output_type": "stream",
     "text": [
      "\n",
      "sent 20 bytes  received 12 bytes  64.00 bytes/sec\n",
      "total size is 0  speedup is 0.00\n",
      "sending incremental file list\n",
      "\n",
      "sent 20 bytes  received 12 bytes  64.00 bytes/sec\n",
      "total size is 0  speedup is 0.00\n",
      "sending incremental file list\n"
     ]
    },
    {
     "name": "stderr",
     "output_type": "stream",
     "text": [
      "rsync: change_dir \"/fs5/p_masi/krishar1/COPDGENE/subjects\" failed: No such file or directory (2)\n",
      "rsync error: some files/attrs were not transferred (see previous errors) (code 23) at main.c(1205) [sender=3.1.3]\n",
      "rsync: change_dir \"/fs5/p_masi/krishar1/COPDGENE/subjects\" failed: No such file or directory (2)\n",
      "rsync error: some files/attrs were not transferred (see previous errors) (code 23) at main.c(1205) [sender=3.1.3]\n"
     ]
    },
    {
     "name": "stdout",
     "output_type": "stream",
     "text": [
      "\n",
      "sent 20 bytes  received 12 bytes  64.00 bytes/sec\n",
      "total size is 0  speedup is 0.00\n",
      "sending incremental file list\n",
      "\n",
      "sent 20 bytes  received 12 bytes  64.00 bytes/sec\n",
      "total size is 0  speedup is 0.00\n",
      "sending incremental file list\n"
     ]
    },
    {
     "name": "stderr",
     "output_type": "stream",
     "text": [
      "rsync: change_dir \"/fs5/p_masi/krishar1/COPDGENE/subjects\" failed: No such file or directory (2)\n",
      "rsync error: some files/attrs were not transferred (see previous errors) (code 23) at main.c(1205) [sender=3.1.3]\n",
      "rsync: change_dir \"/fs5/p_masi/krishar1/COPDGENE/subjects\" failed: No such file or directory (2)\n",
      "rsync error: some files/attrs were not transferred (see previous errors) (code 23) at main.c(1205) [sender=3.1.3]\n"
     ]
    },
    {
     "name": "stdout",
     "output_type": "stream",
     "text": [
      "\n",
      "sent 20 bytes  received 12 bytes  64.00 bytes/sec\n",
      "total size is 0  speedup is 0.00\n",
      "sending incremental file list\n",
      "\n",
      "sent 20 bytes  received 12 bytes  64.00 bytes/sec\n",
      "total size is 0  speedup is 0.00\n",
      "sending incremental file list\n"
     ]
    },
    {
     "name": "stderr",
     "output_type": "stream",
     "text": [
      "rsync: change_dir \"/fs5/p_masi/krishar1/COPDGENE/subjects\" failed: No such file or directory (2)\n",
      "rsync error: some files/attrs were not transferred (see previous errors) (code 23) at main.c(1205) [sender=3.1.3]\n",
      "rsync: change_dir \"/fs5/p_masi/krishar1/COPDGENE/subjects\" failed: No such file or directory (2)\n",
      "rsync error: some files/attrs were not transferred (see previous errors) (code 23) at main.c(1205) [sender=3.1.3]\n"
     ]
    },
    {
     "name": "stdout",
     "output_type": "stream",
     "text": [
      "\n",
      "sent 20 bytes  received 12 bytes  64.00 bytes/sec\n",
      "total size is 0  speedup is 0.00\n",
      "sending incremental file list\n",
      "\n",
      "sent 20 bytes  received 12 bytes  64.00 bytes/sec\n",
      "total size is 0  speedup is 0.00\n",
      "sending incremental file list\n"
     ]
    },
    {
     "name": "stderr",
     "output_type": "stream",
     "text": [
      "rsync: change_dir \"/fs5/p_masi/krishar1/COPDGENE/subjects\" failed: No such file or directory (2)\n",
      "rsync error: some files/attrs were not transferred (see previous errors) (code 23) at main.c(1205) [sender=3.1.3]\n",
      "rsync: change_dir \"/fs5/p_masi/krishar1/COPDGENE/subjects\" failed: No such file or directory (2)\n",
      "rsync error: some files/attrs were not transferred (see previous errors) (code 23) at main.c(1205) [sender=3.1.3]\n"
     ]
    },
    {
     "name": "stdout",
     "output_type": "stream",
     "text": [
      "\n",
      "sent 20 bytes  received 12 bytes  64.00 bytes/sec\n",
      "total size is 0  speedup is 0.00\n",
      "sending incremental file list\n",
      "\n",
      "sent 20 bytes  received 12 bytes  64.00 bytes/sec\n",
      "total size is 0  speedup is 0.00\n",
      "sending incremental file list\n"
     ]
    },
    {
     "name": "stderr",
     "output_type": "stream",
     "text": [
      "rsync: change_dir \"/fs5/p_masi/krishar1/COPDGENE/subjects\" failed: No such file or directory (2)\n",
      "rsync error: some files/attrs were not transferred (see previous errors) (code 23) at main.c(1205) [sender=3.1.3]\n",
      "rsync: change_dir \"/fs5/p_masi/krishar1/COPDGENE/subjects\" failed: No such file or directory (2)\n",
      "rsync error: some files/attrs were not transferred (see previous errors) (code 23) at main.c(1205) [sender=3.1.3]\n"
     ]
    },
    {
     "name": "stdout",
     "output_type": "stream",
     "text": [
      "\n",
      "sent 20 bytes  received 12 bytes  64.00 bytes/sec\n",
      "total size is 0  speedup is 0.00\n",
      "sending incremental file list\n",
      "\n",
      "sent 20 bytes  received 12 bytes  64.00 bytes/sec\n",
      "total size is 0  speedup is 0.00\n",
      "sending incremental file list\n"
     ]
    },
    {
     "name": "stderr",
     "output_type": "stream",
     "text": [
      "rsync: change_dir \"/fs5/p_masi/krishar1/COPDGENE/subjects\" failed: No such file or directory (2)\n",
      "rsync error: some files/attrs were not transferred (see previous errors) (code 23) at main.c(1205) [sender=3.1.3]\n",
      "rsync: change_dir \"/fs5/p_masi/krishar1/COPDGENE/subjects\" failed: No such file or directory (2)\n",
      "rsync error: some files/attrs were not transferred (see previous errors) (code 23) at main.c(1205) [sender=3.1.3]\n"
     ]
    },
    {
     "name": "stdout",
     "output_type": "stream",
     "text": [
      "\n",
      "sent 20 bytes  received 12 bytes  64.00 bytes/sec\n",
      "total size is 0  speedup is 0.00\n",
      "sending incremental file list\n",
      "\n",
      "sent 20 bytes  received 12 bytes  64.00 bytes/sec\n",
      "total size is 0  speedup is 0.00\n",
      "sending incremental file list\n"
     ]
    },
    {
     "name": "stderr",
     "output_type": "stream",
     "text": [
      "rsync: change_dir \"/fs5/p_masi/krishar1/COPDGENE/subjects\" failed: No such file or directory (2)\n",
      "rsync error: some files/attrs were not transferred (see previous errors) (code 23) at main.c(1205) [sender=3.1.3]\n",
      "rsync: change_dir \"/fs5/p_masi/krishar1/COPDGENE/subjects\" failed: No such file or directory (2)\n",
      "rsync error: some files/attrs were not transferred (see previous errors) (code 23) at main.c(1205) [sender=3.1.3]\n"
     ]
    },
    {
     "name": "stdout",
     "output_type": "stream",
     "text": [
      "\n",
      "sent 20 bytes  received 12 bytes  64.00 bytes/sec\n",
      "total size is 0  speedup is 0.00\n",
      "sending incremental file list\n",
      "\n",
      "sent 20 bytes  received 12 bytes  64.00 bytes/sec\n",
      "total size is 0  speedup is 0.00\n",
      "sending incremental file list\n"
     ]
    },
    {
     "name": "stderr",
     "output_type": "stream",
     "text": [
      "rsync: change_dir \"/fs5/p_masi/krishar1/COPDGENE/subjects\" failed: No such file or directory (2)\n",
      "rsync error: some files/attrs were not transferred (see previous errors) (code 23) at main.c(1205) [sender=3.1.3]\n",
      "rsync: change_dir \"/fs5/p_masi/krishar1/COPDGENE/subjects\" failed: No such file or directory (2)\n",
      "rsync error: some files/attrs were not transferred (see previous errors) (code 23) at main.c(1205) [sender=3.1.3]\n"
     ]
    },
    {
     "name": "stdout",
     "output_type": "stream",
     "text": [
      "\n",
      "sent 20 bytes  received 12 bytes  64.00 bytes/sec\n",
      "total size is 0  speedup is 0.00\n",
      "sending incremental file list\n",
      "\n",
      "sent 20 bytes  received 12 bytes  64.00 bytes/sec\n",
      "total size is 0  speedup is 0.00\n",
      "sending incremental file list\n"
     ]
    },
    {
     "name": "stderr",
     "output_type": "stream",
     "text": [
      "rsync: change_dir \"/fs5/p_masi/krishar1/COPDGENE/subjects\" failed: No such file or directory (2)\n",
      "rsync error: some files/attrs were not transferred (see previous errors) (code 23) at main.c(1205) [sender=3.1.3]\n",
      "rsync: change_dir \"/fs5/p_masi/krishar1/COPDGENE/subjects\" failed: No such file or directory (2)\n",
      "rsync error: some files/attrs were not transferred (see previous errors) (code 23) at main.c(1205) [sender=3.1.3]\n"
     ]
    },
    {
     "name": "stdout",
     "output_type": "stream",
     "text": [
      "\n",
      "sent 20 bytes  received 12 bytes  64.00 bytes/sec\n",
      "total size is 0  speedup is 0.00\n",
      "sending incremental file list\n",
      "\n",
      "sent 20 bytes  received 12 bytes  64.00 bytes/sec\n",
      "total size is 0  speedup is 0.00\n",
      "sending incremental file list\n"
     ]
    },
    {
     "name": "stderr",
     "output_type": "stream",
     "text": [
      "rsync: change_dir \"/fs5/p_masi/krishar1/COPDGENE/subjects\" failed: No such file or directory (2)\n",
      "rsync error: some files/attrs were not transferred (see previous errors) (code 23) at main.c(1205) [sender=3.1.3]\n",
      "rsync: change_dir \"/fs5/p_masi/krishar1/COPDGENE/subjects\" failed: No such file or directory (2)\n",
      "rsync error: some files/attrs were not transferred (see previous errors) (code 23) at main.c(1205) [sender=3.1.3]\n"
     ]
    },
    {
     "name": "stdout",
     "output_type": "stream",
     "text": [
      "\n",
      "sent 20 bytes  received 12 bytes  64.00 bytes/sec\n",
      "total size is 0  speedup is 0.00\n",
      "sending incremental file list\n",
      "\n",
      "sent 20 bytes  received 12 bytes  64.00 bytes/sec\n",
      "total size is 0  speedup is 0.00\n",
      "sending incremental file list\n"
     ]
    },
    {
     "name": "stderr",
     "output_type": "stream",
     "text": [
      "rsync: change_dir \"/fs5/p_masi/krishar1/COPDGENE/subjects\" failed: No such file or directory (2)\n",
      "rsync error: some files/attrs were not transferred (see previous errors) (code 23) at main.c(1205) [sender=3.1.3]\n",
      "rsync: change_dir \"/fs5/p_masi/krishar1/COPDGENE/subjects\" failed: No such file or directory (2)\n",
      "rsync error: some files/attrs were not transferred (see previous errors) (code 23) at main.c(1205) [sender=3.1.3]\n"
     ]
    },
    {
     "name": "stdout",
     "output_type": "stream",
     "text": [
      "\n",
      "sent 20 bytes  received 12 bytes  64.00 bytes/sec\n",
      "total size is 0  speedup is 0.00\n",
      "sending incremental file list\n",
      "\n",
      "sent 20 bytes  received 12 bytes  64.00 bytes/sec\n",
      "total size is 0  speedup is 0.00\n",
      "sending incremental file list\n"
     ]
    },
    {
     "name": "stderr",
     "output_type": "stream",
     "text": [
      "rsync: change_dir \"/fs5/p_masi/krishar1/COPDGENE/subjects\" failed: No such file or directory (2)\n",
      "rsync error: some files/attrs were not transferred (see previous errors) (code 23) at main.c(1205) [sender=3.1.3]\n",
      "rsync: change_dir \"/fs5/p_masi/krishar1/COPDGENE/subjects\" failed: No such file or directory (2)\n",
      "rsync error: some files/attrs were not transferred (see previous errors) (code 23) at main.c(1205) [sender=3.1.3]\n"
     ]
    },
    {
     "name": "stdout",
     "output_type": "stream",
     "text": [
      "\n",
      "sent 20 bytes  received 12 bytes  64.00 bytes/sec\n",
      "total size is 0  speedup is 0.00\n",
      "sending incremental file list\n",
      "\n",
      "sent 20 bytes  received 12 bytes  64.00 bytes/sec\n",
      "total size is 0  speedup is 0.00\n",
      "sending incremental file list\n"
     ]
    },
    {
     "name": "stderr",
     "output_type": "stream",
     "text": [
      "rsync: change_dir \"/fs5/p_masi/krishar1/COPDGENE/subjects\" failed: No such file or directory (2)\n",
      "rsync error: some files/attrs were not transferred (see previous errors) (code 23) at main.c(1205) [sender=3.1.3]\n",
      "rsync: change_dir \"/fs5/p_masi/krishar1/COPDGENE/subjects\" failed: No such file or directory (2)\n",
      "rsync error: some files/attrs were not transferred (see previous errors) (code 23) at main.c(1205) [sender=3.1.3]\n"
     ]
    },
    {
     "name": "stdout",
     "output_type": "stream",
     "text": [
      "\n",
      "sent 20 bytes  received 12 bytes  64.00 bytes/sec\n",
      "total size is 0  speedup is 0.00\n",
      "sending incremental file list\n",
      "\n",
      "sent 20 bytes  received 12 bytes  64.00 bytes/sec\n",
      "total size is 0  speedup is 0.00\n",
      "sending incremental file list\n"
     ]
    },
    {
     "name": "stderr",
     "output_type": "stream",
     "text": [
      "rsync: change_dir \"/fs5/p_masi/krishar1/COPDGENE/subjects\" failed: No such file or directory (2)\n",
      "rsync error: some files/attrs were not transferred (see previous errors) (code 23) at main.c(1205) [sender=3.1.3]\n",
      "rsync: change_dir \"/fs5/p_masi/krishar1/COPDGENE/subjects\" failed: No such file or directory (2)\n",
      "rsync error: some files/attrs were not transferred (see previous errors) (code 23) at main.c(1205) [sender=3.1.3]\n"
     ]
    },
    {
     "name": "stdout",
     "output_type": "stream",
     "text": [
      "\n",
      "sent 20 bytes  received 12 bytes  64.00 bytes/sec\n",
      "total size is 0  speedup is 0.00\n",
      "sending incremental file list\n",
      "\n",
      "sent 20 bytes  received 12 bytes  64.00 bytes/sec\n",
      "total size is 0  speedup is 0.00\n",
      "sending incremental file list\n"
     ]
    },
    {
     "name": "stderr",
     "output_type": "stream",
     "text": [
      "rsync: change_dir \"/fs5/p_masi/krishar1/COPDGENE/subjects\" failed: No such file or directory (2)\n",
      "rsync error: some files/attrs were not transferred (see previous errors) (code 23) at main.c(1205) [sender=3.1.3]\n",
      "rsync: change_dir \"/fs5/p_masi/krishar1/COPDGENE/subjects\" failed: No such file or directory (2)\n",
      "rsync error: some files/attrs were not transferred (see previous errors) (code 23) at main.c(1205) [sender=3.1.3]\n"
     ]
    },
    {
     "name": "stdout",
     "output_type": "stream",
     "text": [
      "\n",
      "sent 20 bytes  received 12 bytes  64.00 bytes/sec\n",
      "total size is 0  speedup is 0.00\n",
      "sending incremental file list\n",
      "\n",
      "sent 20 bytes  received 12 bytes  64.00 bytes/sec\n",
      "total size is 0  speedup is 0.00\n",
      "sending incremental file list\n"
     ]
    },
    {
     "name": "stderr",
     "output_type": "stream",
     "text": [
      "rsync: change_dir \"/fs5/p_masi/krishar1/COPDGENE/subjects\" failed: No such file or directory (2)\n",
      "rsync error: some files/attrs were not transferred (see previous errors) (code 23) at main.c(1205) [sender=3.1.3]\n",
      "rsync: change_dir \"/fs5/p_masi/krishar1/COPDGENE/subjects\" failed: No such file or directory (2)\n",
      "rsync error: some files/attrs were not transferred (see previous errors) (code 23) at main.c(1205) [sender=3.1.3]\n"
     ]
    },
    {
     "name": "stdout",
     "output_type": "stream",
     "text": [
      "\n",
      "sent 20 bytes  received 12 bytes  64.00 bytes/sec\n",
      "total size is 0  speedup is 0.00\n",
      "sending incremental file list\n",
      "\n",
      "sent 20 bytes  received 12 bytes  64.00 bytes/sec\n",
      "total size is 0  speedup is 0.00\n",
      "sending incremental file list\n"
     ]
    },
    {
     "name": "stderr",
     "output_type": "stream",
     "text": [
      "rsync: change_dir \"/fs5/p_masi/krishar1/COPDGENE/subjects\" failed: No such file or directory (2)\n",
      "rsync error: some files/attrs were not transferred (see previous errors) (code 23) at main.c(1205) [sender=3.1.3]\n",
      "rsync: change_dir \"/fs5/p_masi/krishar1/COPDGENE/subjects\" failed: No such file or directory (2)\n",
      "rsync error: some files/attrs were not transferred (see previous errors) (code 23) at main.c(1205) [sender=3.1.3]\n"
     ]
    },
    {
     "name": "stdout",
     "output_type": "stream",
     "text": [
      "\n",
      "sent 20 bytes  received 12 bytes  64.00 bytes/sec\n",
      "total size is 0  speedup is 0.00\n",
      "sending incremental file list\n",
      "\n",
      "sent 20 bytes  received 12 bytes  64.00 bytes/sec\n",
      "total size is 0  speedup is 0.00\n",
      "sending incremental file list\n"
     ]
    },
    {
     "name": "stderr",
     "output_type": "stream",
     "text": [
      "rsync: change_dir \"/fs5/p_masi/krishar1/COPDGENE/subjects\" failed: No such file or directory (2)\n",
      "rsync error: some files/attrs were not transferred (see previous errors) (code 23) at main.c(1205) [sender=3.1.3]\n",
      "rsync: change_dir \"/fs5/p_masi/krishar1/COPDGENE/subjects\" failed: No such file or directory (2)\n",
      "rsync error: some files/attrs were not transferred (see previous errors) (code 23) at main.c(1205) [sender=3.1.3]\n"
     ]
    },
    {
     "name": "stdout",
     "output_type": "stream",
     "text": [
      "\n",
      "sent 20 bytes  received 12 bytes  64.00 bytes/sec\n",
      "total size is 0  speedup is 0.00\n",
      "sending incremental file list\n",
      "\n",
      "sent 20 bytes  received 12 bytes  64.00 bytes/sec\n",
      "total size is 0  speedup is 0.00\n",
      "sending incremental file list\n"
     ]
    },
    {
     "name": "stderr",
     "output_type": "stream",
     "text": [
      "rsync: change_dir \"/fs5/p_masi/krishar1/COPDGENE/subjects\" failed: No such file or directory (2)\n",
      "rsync error: some files/attrs were not transferred (see previous errors) (code 23) at main.c(1205) [sender=3.1.3]\n",
      "rsync: change_dir \"/fs5/p_masi/krishar1/COPDGENE/subjects\" failed: No such file or directory (2)\n",
      "rsync error: some files/attrs were not transferred (see previous errors) (code 23) at main.c(1205) [sender=3.1.3]\n"
     ]
    },
    {
     "name": "stdout",
     "output_type": "stream",
     "text": [
      "\n",
      "sent 20 bytes  received 12 bytes  64.00 bytes/sec\n",
      "total size is 0  speedup is 0.00\n",
      "sending incremental file list\n",
      "\n",
      "sent 20 bytes  received 12 bytes  64.00 bytes/sec\n",
      "total size is 0  speedup is 0.00\n",
      "sending incremental file list\n"
     ]
    },
    {
     "name": "stderr",
     "output_type": "stream",
     "text": [
      "rsync: change_dir \"/fs5/p_masi/krishar1/COPDGENE/subjects\" failed: No such file or directory (2)\n",
      "rsync error: some files/attrs were not transferred (see previous errors) (code 23) at main.c(1205) [sender=3.1.3]\n",
      "rsync: change_dir \"/fs5/p_masi/krishar1/COPDGENE/subjects\" failed: No such file or directory (2)\n",
      "rsync error: some files/attrs were not transferred (see previous errors) (code 23) at main.c(1205) [sender=3.1.3]\n"
     ]
    },
    {
     "name": "stdout",
     "output_type": "stream",
     "text": [
      "\n",
      "sent 20 bytes  received 12 bytes  64.00 bytes/sec\n",
      "total size is 0  speedup is 0.00\n",
      "sending incremental file list\n",
      "\n",
      "sent 20 bytes  received 12 bytes  64.00 bytes/sec\n",
      "total size is 0  speedup is 0.00\n",
      "sending incremental file list\n"
     ]
    },
    {
     "name": "stderr",
     "output_type": "stream",
     "text": [
      "rsync: change_dir \"/fs5/p_masi/krishar1/COPDGENE/subjects\" failed: No such file or directory (2)\n",
      "rsync error: some files/attrs were not transferred (see previous errors) (code 23) at main.c(1205) [sender=3.1.3]\n",
      "rsync: change_dir \"/fs5/p_masi/krishar1/COPDGENE/subjects\" failed: No such file or directory (2)\n",
      "rsync error: some files/attrs were not transferred (see previous errors) (code 23) at main.c(1205) [sender=3.1.3]\n"
     ]
    },
    {
     "name": "stdout",
     "output_type": "stream",
     "text": [
      "\n",
      "sent 20 bytes  received 12 bytes  64.00 bytes/sec\n",
      "total size is 0  speedup is 0.00\n",
      "sending incremental file list\n",
      "\n",
      "sent 20 bytes  received 12 bytes  64.00 bytes/sec\n",
      "total size is 0  speedup is 0.00\n",
      "sending incremental file list\n"
     ]
    },
    {
     "name": "stderr",
     "output_type": "stream",
     "text": [
      "rsync: change_dir \"/fs5/p_masi/krishar1/COPDGENE/subjects\" failed: No such file or directory (2)\n",
      "rsync error: some files/attrs were not transferred (see previous errors) (code 23) at main.c(1205) [sender=3.1.3]\n",
      "rsync: change_dir \"/fs5/p_masi/krishar1/COPDGENE/subjects\" failed: No such file or directory (2)\n",
      "rsync error: some files/attrs were not transferred (see previous errors) (code 23) at main.c(1205) [sender=3.1.3]\n"
     ]
    },
    {
     "name": "stdout",
     "output_type": "stream",
     "text": [
      "\n",
      "sent 20 bytes  received 12 bytes  64.00 bytes/sec\n",
      "total size is 0  speedup is 0.00\n",
      "sending incremental file list\n",
      "\n",
      "sent 20 bytes  received 12 bytes  64.00 bytes/sec\n",
      "total size is 0  speedup is 0.00\n",
      "sending incremental file list\n"
     ]
    },
    {
     "name": "stderr",
     "output_type": "stream",
     "text": [
      "rsync: change_dir \"/fs5/p_masi/krishar1/COPDGENE/subjects\" failed: No such file or directory (2)\n",
      "rsync error: some files/attrs were not transferred (see previous errors) (code 23) at main.c(1205) [sender=3.1.3]\n",
      "rsync: change_dir \"/fs5/p_masi/krishar1/COPDGENE/subjects\" failed: No such file or directory (2)\n",
      "rsync error: some files/attrs were not transferred (see previous errors) (code 23) at main.c(1205) [sender=3.1.3]\n"
     ]
    },
    {
     "name": "stdout",
     "output_type": "stream",
     "text": [
      "\n",
      "sent 20 bytes  received 12 bytes  64.00 bytes/sec\n",
      "total size is 0  speedup is 0.00\n",
      "sending incremental file list\n",
      "\n",
      "sent 20 bytes  received 12 bytes  64.00 bytes/sec\n",
      "total size is 0  speedup is 0.00\n",
      "sending incremental file list\n"
     ]
    },
    {
     "name": "stderr",
     "output_type": "stream",
     "text": [
      "rsync: change_dir \"/fs5/p_masi/krishar1/COPDGENE/subjects\" failed: No such file or directory (2)\n",
      "rsync error: some files/attrs were not transferred (see previous errors) (code 23) at main.c(1205) [sender=3.1.3]\n",
      "rsync: change_dir \"/fs5/p_masi/krishar1/COPDGENE/subjects\" failed: No such file or directory (2)\n",
      "rsync error: some files/attrs were not transferred (see previous errors) (code 23) at main.c(1205) [sender=3.1.3]\n"
     ]
    },
    {
     "name": "stdout",
     "output_type": "stream",
     "text": [
      "\n",
      "sent 20 bytes  received 12 bytes  64.00 bytes/sec\n",
      "total size is 0  speedup is 0.00\n",
      "sending incremental file list\n",
      "\n",
      "sent 20 bytes  received 12 bytes  64.00 bytes/sec\n",
      "total size is 0  speedup is 0.00\n",
      "sending incremental file list\n"
     ]
    },
    {
     "name": "stderr",
     "output_type": "stream",
     "text": [
      "rsync: change_dir \"/fs5/p_masi/krishar1/COPDGENE/subjects\" failed: No such file or directory (2)\n",
      "rsync error: some files/attrs were not transferred (see previous errors) (code 23) at main.c(1205) [sender=3.1.3]\n",
      "rsync: change_dir \"/fs5/p_masi/krishar1/COPDGENE/subjects\" failed: No such file or directory (2)\n",
      "rsync error: some files/attrs were not transferred (see previous errors) (code 23) at main.c(1205) [sender=3.1.3]\n"
     ]
    },
    {
     "name": "stdout",
     "output_type": "stream",
     "text": [
      "\n",
      "sent 20 bytes  received 12 bytes  64.00 bytes/sec\n",
      "total size is 0  speedup is 0.00\n",
      "sending incremental file list\n",
      "\n",
      "sent 20 bytes  received 12 bytes  64.00 bytes/sec\n",
      "total size is 0  speedup is 0.00\n",
      "sending incremental file list\n"
     ]
    },
    {
     "name": "stderr",
     "output_type": "stream",
     "text": [
      "rsync: change_dir \"/fs5/p_masi/krishar1/COPDGENE/subjects\" failed: No such file or directory (2)\n",
      "rsync error: some files/attrs were not transferred (see previous errors) (code 23) at main.c(1205) [sender=3.1.3]\n",
      "rsync: change_dir \"/fs5/p_masi/krishar1/COPDGENE/subjects\" failed: No such file or directory (2)\n",
      "rsync error: some files/attrs were not transferred (see previous errors) (code 23) at main.c(1205) [sender=3.1.3]\n"
     ]
    },
    {
     "name": "stdout",
     "output_type": "stream",
     "text": [
      "\n",
      "sent 20 bytes  received 12 bytes  64.00 bytes/sec\n",
      "total size is 0  speedup is 0.00\n",
      "sending incremental file list\n",
      "\n",
      "sent 20 bytes  received 12 bytes  64.00 bytes/sec\n",
      "total size is 0  speedup is 0.00\n",
      "sending incremental file list\n"
     ]
    },
    {
     "name": "stderr",
     "output_type": "stream",
     "text": [
      "rsync: change_dir \"/fs5/p_masi/krishar1/COPDGENE/subjects\" failed: No such file or directory (2)\n",
      "rsync error: some files/attrs were not transferred (see previous errors) (code 23) at main.c(1205) [sender=3.1.3]\n",
      "rsync: change_dir \"/fs5/p_masi/krishar1/COPDGENE/subjects\" failed: No such file or directory (2)\n",
      "rsync error: some files/attrs were not transferred (see previous errors) (code 23) at main.c(1205) [sender=3.1.3]\n"
     ]
    },
    {
     "name": "stdout",
     "output_type": "stream",
     "text": [
      "\n",
      "sent 20 bytes  received 12 bytes  64.00 bytes/sec\n",
      "total size is 0  speedup is 0.00\n",
      "sending incremental file list\n",
      "\n",
      "sent 20 bytes  received 12 bytes  64.00 bytes/sec\n",
      "total size is 0  speedup is 0.00\n",
      "sending incremental file list\n"
     ]
    },
    {
     "name": "stderr",
     "output_type": "stream",
     "text": [
      "rsync: change_dir \"/fs5/p_masi/krishar1/COPDGENE/subjects\" failed: No such file or directory (2)\n",
      "rsync error: some files/attrs were not transferred (see previous errors) (code 23) at main.c(1205) [sender=3.1.3]\n",
      "rsync: change_dir \"/fs5/p_masi/krishar1/COPDGENE/subjects\" failed: No such file or directory (2)\n",
      "rsync error: some files/attrs were not transferred (see previous errors) (code 23) at main.c(1205) [sender=3.1.3]\n"
     ]
    },
    {
     "name": "stdout",
     "output_type": "stream",
     "text": [
      "\n",
      "sent 20 bytes  received 12 bytes  64.00 bytes/sec\n",
      "total size is 0  speedup is 0.00\n",
      "sending incremental file list\n",
      "\n",
      "sent 20 bytes  received 12 bytes  21.33 bytes/sec\n",
      "total size is 0  speedup is 0.00\n",
      "sending incremental file list\n"
     ]
    },
    {
     "name": "stderr",
     "output_type": "stream",
     "text": [
      "rsync: change_dir \"/fs5/p_masi/krishar1/COPDGENE/subjects\" failed: No such file or directory (2)\n",
      "rsync error: some files/attrs were not transferred (see previous errors) (code 23) at main.c(1205) [sender=3.1.3]\n",
      "rsync: change_dir \"/fs5/p_masi/krishar1/COPDGENE/subjects\" failed: No such file or directory (2)\n",
      "rsync error: some files/attrs were not transferred (see previous errors) (code 23) at main.c(1205) [sender=3.1.3]\n"
     ]
    },
    {
     "name": "stdout",
     "output_type": "stream",
     "text": [
      "\n",
      "sent 20 bytes  received 12 bytes  64.00 bytes/sec\n",
      "total size is 0  speedup is 0.00\n",
      "sending incremental file list\n",
      "\n",
      "sent 20 bytes  received 12 bytes  64.00 bytes/sec\n",
      "total size is 0  speedup is 0.00\n",
      "sending incremental file list\n"
     ]
    },
    {
     "name": "stderr",
     "output_type": "stream",
     "text": [
      "rsync: change_dir \"/fs5/p_masi/krishar1/COPDGENE/subjects\" failed: No such file or directory (2)\n",
      "rsync error: some files/attrs were not transferred (see previous errors) (code 23) at main.c(1205) [sender=3.1.3]\n",
      "rsync: change_dir \"/fs5/p_masi/krishar1/COPDGENE/subjects\" failed: No such file or directory (2)\n",
      "rsync error: some files/attrs were not transferred (see previous errors) (code 23) at main.c(1205) [sender=3.1.3]\n"
     ]
    },
    {
     "name": "stdout",
     "output_type": "stream",
     "text": [
      "\n",
      "sent 20 bytes  received 12 bytes  64.00 bytes/sec\n",
      "total size is 0  speedup is 0.00\n",
      "sending incremental file list\n",
      "\n",
      "sent 20 bytes  received 12 bytes  64.00 bytes/sec\n",
      "total size is 0  speedup is 0.00\n",
      "sending incremental file list\n"
     ]
    },
    {
     "name": "stderr",
     "output_type": "stream",
     "text": [
      "rsync: change_dir \"/fs5/p_masi/krishar1/COPDGENE/subjects\" failed: No such file or directory (2)\n",
      "rsync error: some files/attrs were not transferred (see previous errors) (code 23) at main.c(1205) [sender=3.1.3]\n",
      "rsync: change_dir \"/fs5/p_masi/krishar1/COPDGENE/subjects\" failed: No such file or directory (2)\n",
      "rsync error: some files/attrs were not transferred (see previous errors) (code 23) at main.c(1205) [sender=3.1.3]\n"
     ]
    },
    {
     "name": "stdout",
     "output_type": "stream",
     "text": [
      "\n",
      "sent 20 bytes  received 12 bytes  64.00 bytes/sec\n",
      "total size is 0  speedup is 0.00\n",
      "sending incremental file list\n",
      "\n",
      "sent 20 bytes  received 12 bytes  64.00 bytes/sec\n",
      "total size is 0  speedup is 0.00\n",
      "sending incremental file list\n"
     ]
    },
    {
     "name": "stderr",
     "output_type": "stream",
     "text": [
      "rsync: change_dir \"/fs5/p_masi/krishar1/COPDGENE/subjects\" failed: No such file or directory (2)\n",
      "rsync error: some files/attrs were not transferred (see previous errors) (code 23) at main.c(1205) [sender=3.1.3]\n",
      "rsync: change_dir \"/fs5/p_masi/krishar1/COPDGENE/subjects\" failed: No such file or directory (2)\n",
      "rsync error: some files/attrs were not transferred (see previous errors) (code 23) at main.c(1205) [sender=3.1.3]\n"
     ]
    },
    {
     "name": "stdout",
     "output_type": "stream",
     "text": [
      "\n",
      "sent 20 bytes  received 12 bytes  64.00 bytes/sec\n",
      "total size is 0  speedup is 0.00\n",
      "sending incremental file list\n",
      "\n",
      "sent 20 bytes  received 12 bytes  64.00 bytes/sec\n",
      "total size is 0  speedup is 0.00\n",
      "sending incremental file list\n"
     ]
    },
    {
     "name": "stderr",
     "output_type": "stream",
     "text": [
      "rsync: change_dir \"/fs5/p_masi/krishar1/COPDGENE/subjects\" failed: No such file or directory (2)\n",
      "rsync error: some files/attrs were not transferred (see previous errors) (code 23) at main.c(1205) [sender=3.1.3]\n",
      "rsync: change_dir \"/fs5/p_masi/krishar1/COPDGENE/subjects\" failed: No such file or directory (2)\n",
      "rsync error: some files/attrs were not transferred (see previous errors) (code 23) at main.c(1205) [sender=3.1.3]\n"
     ]
    },
    {
     "name": "stdout",
     "output_type": "stream",
     "text": [
      "\n",
      "sent 20 bytes  received 12 bytes  64.00 bytes/sec\n",
      "total size is 0  speedup is 0.00\n",
      "sending incremental file list\n",
      "\n",
      "sent 20 bytes  received 12 bytes  64.00 bytes/sec\n",
      "total size is 0  speedup is 0.00\n",
      "sending incremental file list\n"
     ]
    },
    {
     "name": "stderr",
     "output_type": "stream",
     "text": [
      "rsync: change_dir \"/fs5/p_masi/krishar1/COPDGENE/subjects\" failed: No such file or directory (2)\n",
      "rsync error: some files/attrs were not transferred (see previous errors) (code 23) at main.c(1205) [sender=3.1.3]\n",
      "rsync: change_dir \"/fs5/p_masi/krishar1/COPDGENE/subjects\" failed: No such file or directory (2)\n",
      "rsync error: some files/attrs were not transferred (see previous errors) (code 23) at main.c(1205) [sender=3.1.3]\n"
     ]
    },
    {
     "name": "stdout",
     "output_type": "stream",
     "text": [
      "\n",
      "sent 20 bytes  received 12 bytes  64.00 bytes/sec\n",
      "total size is 0  speedup is 0.00\n",
      "sending incremental file list\n",
      "\n",
      "sent 20 bytes  received 12 bytes  64.00 bytes/sec\n",
      "total size is 0  speedup is 0.00\n",
      "sending incremental file list\n"
     ]
    },
    {
     "name": "stderr",
     "output_type": "stream",
     "text": [
      "rsync: change_dir \"/fs5/p_masi/krishar1/COPDGENE/subjects\" failed: No such file or directory (2)\n",
      "rsync error: some files/attrs were not transferred (see previous errors) (code 23) at main.c(1205) [sender=3.1.3]\n",
      "rsync: change_dir \"/fs5/p_masi/krishar1/COPDGENE/subjects\" failed: No such file or directory (2)\n",
      "rsync error: some files/attrs were not transferred (see previous errors) (code 23) at main.c(1205) [sender=3.1.3]\n"
     ]
    },
    {
     "name": "stdout",
     "output_type": "stream",
     "text": [
      "\n",
      "sent 20 bytes  received 12 bytes  64.00 bytes/sec\n",
      "total size is 0  speedup is 0.00\n",
      "sending incremental file list\n",
      "\n",
      "sent 20 bytes  received 12 bytes  64.00 bytes/sec\n",
      "total size is 0  speedup is 0.00\n",
      "sending incremental file list\n"
     ]
    },
    {
     "name": "stderr",
     "output_type": "stream",
     "text": [
      "rsync: change_dir \"/fs5/p_masi/krishar1/COPDGENE/subjects\" failed: No such file or directory (2)\n",
      "rsync error: some files/attrs were not transferred (see previous errors) (code 23) at main.c(1205) [sender=3.1.3]\n",
      "rsync: change_dir \"/fs5/p_masi/krishar1/COPDGENE/subjects\" failed: No such file or directory (2)\n",
      "rsync error: some files/attrs were not transferred (see previous errors) (code 23) at main.c(1205) [sender=3.1.3]\n"
     ]
    },
    {
     "name": "stdout",
     "output_type": "stream",
     "text": [
      "\n",
      "sent 20 bytes  received 12 bytes  64.00 bytes/sec\n",
      "total size is 0  speedup is 0.00\n",
      "sending incremental file list\n",
      "\n",
      "sent 20 bytes  received 12 bytes  64.00 bytes/sec\n",
      "total size is 0  speedup is 0.00\n",
      "sending incremental file list\n"
     ]
    },
    {
     "name": "stderr",
     "output_type": "stream",
     "text": [
      "rsync: change_dir \"/fs5/p_masi/krishar1/COPDGENE/subjects\" failed: No such file or directory (2)\n",
      "rsync error: some files/attrs were not transferred (see previous errors) (code 23) at main.c(1205) [sender=3.1.3]\n",
      "rsync: change_dir \"/fs5/p_masi/krishar1/COPDGENE/subjects\" failed: No such file or directory (2)\n",
      "rsync error: some files/attrs were not transferred (see previous errors) (code 23) at main.c(1205) [sender=3.1.3]\n"
     ]
    },
    {
     "name": "stdout",
     "output_type": "stream",
     "text": [
      "\n",
      "sent 20 bytes  received 12 bytes  64.00 bytes/sec\n",
      "total size is 0  speedup is 0.00\n",
      "sending incremental file list\n",
      "\n",
      "sent 20 bytes  received 12 bytes  64.00 bytes/sec\n",
      "total size is 0  speedup is 0.00\n",
      "sending incremental file list\n"
     ]
    },
    {
     "name": "stderr",
     "output_type": "stream",
     "text": [
      "rsync: change_dir \"/fs5/p_masi/krishar1/COPDGENE/subjects\" failed: No such file or directory (2)\n",
      "rsync error: some files/attrs were not transferred (see previous errors) (code 23) at main.c(1205) [sender=3.1.3]\n",
      "rsync: change_dir \"/fs5/p_masi/krishar1/COPDGENE/subjects\" failed: No such file or directory (2)\n",
      "rsync error: some files/attrs were not transferred (see previous errors) (code 23) at main.c(1205) [sender=3.1.3]\n"
     ]
    },
    {
     "name": "stdout",
     "output_type": "stream",
     "text": [
      "\n",
      "sent 20 bytes  received 12 bytes  64.00 bytes/sec\n",
      "total size is 0  speedup is 0.00\n",
      "sending incremental file list\n",
      "\n",
      "sent 20 bytes  received 12 bytes  64.00 bytes/sec\n",
      "total size is 0  speedup is 0.00\n",
      "sending incremental file list\n"
     ]
    },
    {
     "name": "stderr",
     "output_type": "stream",
     "text": [
      "rsync: change_dir \"/fs5/p_masi/krishar1/COPDGENE/subjects\" failed: No such file or directory (2)\n",
      "rsync error: some files/attrs were not transferred (see previous errors) (code 23) at main.c(1205) [sender=3.1.3]\n",
      "rsync: change_dir \"/fs5/p_masi/krishar1/COPDGENE/subjects\" failed: No such file or directory (2)\n",
      "rsync error: some files/attrs were not transferred (see previous errors) (code 23) at main.c(1205) [sender=3.1.3]\n"
     ]
    },
    {
     "name": "stdout",
     "output_type": "stream",
     "text": [
      "\n",
      "sent 20 bytes  received 12 bytes  64.00 bytes/sec\n",
      "total size is 0  speedup is 0.00\n",
      "sending incremental file list\n",
      "\n",
      "sent 20 bytes  received 12 bytes  64.00 bytes/sec\n",
      "total size is 0  speedup is 0.00\n",
      "sending incremental file list\n"
     ]
    },
    {
     "name": "stderr",
     "output_type": "stream",
     "text": [
      "rsync: change_dir \"/fs5/p_masi/krishar1/COPDGENE/subjects\" failed: No such file or directory (2)\n",
      "rsync error: some files/attrs were not transferred (see previous errors) (code 23) at main.c(1205) [sender=3.1.3]\n",
      "rsync: change_dir \"/fs5/p_masi/krishar1/COPDGENE/subjects\" failed: No such file or directory (2)\n",
      "rsync error: some files/attrs were not transferred (see previous errors) (code 23) at main.c(1205) [sender=3.1.3]\n",
      "rsync: change_dir \"/fs5/p_masi/krishar1/COPDGENE/subjects\" failed: No such file or directory (2)\n"
     ]
    },
    {
     "name": "stdout",
     "output_type": "stream",
     "text": [
      "\n",
      "sent 20 bytes  received 12 bytes  64.00 bytes/sec\n",
      "total size is 0  speedup is 0.00\n",
      "sending incremental file list\n",
      "\n",
      "sent 20 bytes  received 12 bytes  64.00 bytes/sec\n",
      "total size is 0  speedup is 0.00\n",
      "sending incremental file list\n"
     ]
    },
    {
     "name": "stderr",
     "output_type": "stream",
     "text": [
      "rsync error: some files/attrs were not transferred (see previous errors) (code 23) at main.c(1205) [sender=3.1.3]\n",
      "rsync: change_dir \"/fs5/p_masi/krishar1/COPDGENE/subjects\" failed: No such file or directory (2)\n",
      "rsync error: some files/attrs were not transferred (see previous errors) (code 23) at main.c(1205) [sender=3.1.3]\n"
     ]
    },
    {
     "name": "stdout",
     "output_type": "stream",
     "text": [
      "\n",
      "sent 20 bytes  received 12 bytes  64.00 bytes/sec\n",
      "total size is 0  speedup is 0.00\n",
      "sending incremental file list\n",
      "\n",
      "sent 20 bytes  received 12 bytes  64.00 bytes/sec\n",
      "total size is 0  speedup is 0.00\n",
      "sending incremental file list\n"
     ]
    },
    {
     "name": "stderr",
     "output_type": "stream",
     "text": [
      "rsync: change_dir \"/fs5/p_masi/krishar1/COPDGENE/subjects\" failed: No such file or directory (2)\n",
      "rsync error: some files/attrs were not transferred (see previous errors) (code 23) at main.c(1205) [sender=3.1.3]\n",
      "rsync: change_dir \"/fs5/p_masi/krishar1/COPDGENE/subjects\" failed: No such file or directory (2)\n",
      "rsync error: some files/attrs were not transferred (see previous errors) (code 23) at main.c(1205) [sender=3.1.3]\n"
     ]
    },
    {
     "name": "stdout",
     "output_type": "stream",
     "text": [
      "\n",
      "sent 20 bytes  received 12 bytes  64.00 bytes/sec\n",
      "total size is 0  speedup is 0.00\n",
      "sending incremental file list\n",
      "\n",
      "sent 20 bytes  received 12 bytes  64.00 bytes/sec\n",
      "total size is 0  speedup is 0.00\n",
      "sending incremental file list\n"
     ]
    },
    {
     "name": "stderr",
     "output_type": "stream",
     "text": [
      "rsync: change_dir \"/fs5/p_masi/krishar1/COPDGENE/subjects\" failed: No such file or directory (2)\n",
      "rsync error: some files/attrs were not transferred (see previous errors) (code 23) at main.c(1205) [sender=3.1.3]\n",
      "rsync: change_dir \"/fs5/p_masi/krishar1/COPDGENE/subjects\" failed: No such file or directory (2)\n",
      "rsync error: some files/attrs were not transferred (see previous errors) (code 23) at main.c(1205) [sender=3.1.3]\n"
     ]
    },
    {
     "name": "stdout",
     "output_type": "stream",
     "text": [
      "\n",
      "sent 20 bytes  received 12 bytes  64.00 bytes/sec\n",
      "total size is 0  speedup is 0.00\n",
      "sending incremental file list\n",
      "\n",
      "sent 20 bytes  received 12 bytes  64.00 bytes/sec\n",
      "total size is 0  speedup is 0.00\n",
      "sending incremental file list\n"
     ]
    },
    {
     "name": "stderr",
     "output_type": "stream",
     "text": [
      "rsync: change_dir \"/fs5/p_masi/krishar1/COPDGENE/subjects\" failed: No such file or directory (2)\n",
      "rsync error: some files/attrs were not transferred (see previous errors) (code 23) at main.c(1205) [sender=3.1.3]\n",
      "rsync: change_dir \"/fs5/p_masi/krishar1/COPDGENE/subjects\" failed: No such file or directory (2)\n",
      "rsync error: some files/attrs were not transferred (see previous errors) (code 23) at main.c(1205) [sender=3.1.3]\n"
     ]
    },
    {
     "name": "stdout",
     "output_type": "stream",
     "text": [
      "\n",
      "sent 20 bytes  received 12 bytes  64.00 bytes/sec\n",
      "total size is 0  speedup is 0.00\n",
      "sending incremental file list\n",
      "\n",
      "sent 20 bytes  received 12 bytes  64.00 bytes/sec\n",
      "total size is 0  speedup is 0.00\n",
      "sending incremental file list\n"
     ]
    },
    {
     "name": "stderr",
     "output_type": "stream",
     "text": [
      "rsync: change_dir \"/fs5/p_masi/krishar1/COPDGENE/subjects\" failed: No such file or directory (2)\n",
      "rsync error: some files/attrs were not transferred (see previous errors) (code 23) at main.c(1205) [sender=3.1.3]\n",
      "rsync: change_dir \"/fs5/p_masi/krishar1/COPDGENE/subjects\" failed: No such file or directory (2)\n",
      "rsync error: some files/attrs were not transferred (see previous errors) (code 23) at main.c(1205) [sender=3.1.3]\n"
     ]
    },
    {
     "name": "stdout",
     "output_type": "stream",
     "text": [
      "\n",
      "sent 20 bytes  received 12 bytes  64.00 bytes/sec\n",
      "total size is 0  speedup is 0.00\n",
      "sending incremental file list\n",
      "\n",
      "sent 20 bytes  received 12 bytes  64.00 bytes/sec\n",
      "total size is 0  speedup is 0.00\n",
      "sending incremental file list\n"
     ]
    },
    {
     "name": "stderr",
     "output_type": "stream",
     "text": [
      "rsync: change_dir \"/fs5/p_masi/krishar1/COPDGENE/subjects\" failed: No such file or directory (2)\n",
      "rsync error: some files/attrs were not transferred (see previous errors) (code 23) at main.c(1205) [sender=3.1.3]\n",
      "rsync: change_dir \"/fs5/p_masi/krishar1/COPDGENE/subjects\" failed: No such file or directory (2)\n",
      "rsync error: some files/attrs were not transferred (see previous errors) (code 23) at main.c(1205) [sender=3.1.3]\n"
     ]
    },
    {
     "name": "stdout",
     "output_type": "stream",
     "text": [
      "\n",
      "sent 20 bytes  received 12 bytes  64.00 bytes/sec\n",
      "total size is 0  speedup is 0.00\n",
      "sending incremental file list\n",
      "\n",
      "sent 20 bytes  received 12 bytes  64.00 bytes/sec\n",
      "total size is 0  speedup is 0.00\n",
      "sending incremental file list\n"
     ]
    },
    {
     "name": "stderr",
     "output_type": "stream",
     "text": [
      "rsync: change_dir \"/fs5/p_masi/krishar1/COPDGENE/subjects\" failed: No such file or directory (2)\n",
      "rsync error: some files/attrs were not transferred (see previous errors) (code 23) at main.c(1205) [sender=3.1.3]\n",
      "rsync: change_dir \"/fs5/p_masi/krishar1/COPDGENE/subjects\" failed: No such file or directory (2)\n",
      "rsync error: some files/attrs were not transferred (see previous errors) (code 23) at main.c(1205) [sender=3.1.3]\n"
     ]
    },
    {
     "name": "stdout",
     "output_type": "stream",
     "text": [
      "\n",
      "sent 20 bytes  received 12 bytes  64.00 bytes/sec\n",
      "total size is 0  speedup is 0.00\n",
      "sending incremental file list\n",
      "\n",
      "sent 20 bytes  received 12 bytes  64.00 bytes/sec\n",
      "total size is 0  speedup is 0.00\n",
      "sending incremental file list\n"
     ]
    },
    {
     "name": "stderr",
     "output_type": "stream",
     "text": [
      "rsync: change_dir \"/fs5/p_masi/krishar1/COPDGENE/subjects\" failed: No such file or directory (2)\n",
      "rsync error: some files/attrs were not transferred (see previous errors) (code 23) at main.c(1205) [sender=3.1.3]\n",
      "rsync: change_dir \"/fs5/p_masi/krishar1/COPDGENE/subjects\" failed: No such file or directory (2)\n",
      "rsync error: some files/attrs were not transferred (see previous errors) (code 23) at main.c(1205) [sender=3.1.3]\n"
     ]
    },
    {
     "name": "stdout",
     "output_type": "stream",
     "text": [
      "\n",
      "sent 20 bytes  received 12 bytes  64.00 bytes/sec\n",
      "total size is 0  speedup is 0.00\n",
      "sending incremental file list\n",
      "\n",
      "sent 20 bytes  received 12 bytes  64.00 bytes/sec\n",
      "total size is 0  speedup is 0.00\n",
      "sending incremental file list\n"
     ]
    },
    {
     "name": "stderr",
     "output_type": "stream",
     "text": [
      "rsync: change_dir \"/fs5/p_masi/krishar1/COPDGENE/subjects\" failed: No such file or directory (2)\n",
      "rsync error: some files/attrs were not transferred (see previous errors) (code 23) at main.c(1205) [sender=3.1.3]\n",
      "rsync: change_dir \"/fs5/p_masi/krishar1/COPDGENE/subjects\" failed: No such file or directory (2)\n",
      "rsync error: some files/attrs were not transferred (see previous errors) (code 23) at main.c(1205) [sender=3.1.3]\n"
     ]
    },
    {
     "name": "stdout",
     "output_type": "stream",
     "text": [
      "\n",
      "sent 20 bytes  received 12 bytes  64.00 bytes/sec\n",
      "total size is 0  speedup is 0.00\n",
      "sending incremental file list\n",
      "\n",
      "sent 20 bytes  received 12 bytes  64.00 bytes/sec\n",
      "total size is 0  speedup is 0.00\n",
      "sending incremental file list\n"
     ]
    },
    {
     "name": "stderr",
     "output_type": "stream",
     "text": [
      "rsync: change_dir \"/fs5/p_masi/krishar1/COPDGENE/subjects\" failed: No such file or directory (2)\n",
      "rsync error: some files/attrs were not transferred (see previous errors) (code 23) at main.c(1205) [sender=3.1.3]\n",
      "rsync: change_dir \"/fs5/p_masi/krishar1/COPDGENE/subjects\" failed: No such file or directory (2)\n",
      "rsync error: some files/attrs were not transferred (see previous errors) (code 23) at main.c(1205) [sender=3.1.3]\n"
     ]
    },
    {
     "name": "stdout",
     "output_type": "stream",
     "text": [
      "\n",
      "sent 20 bytes  received 12 bytes  64.00 bytes/sec\n",
      "total size is 0  speedup is 0.00\n",
      "sending incremental file list\n",
      "\n",
      "sent 20 bytes  received 12 bytes  64.00 bytes/sec\n",
      "total size is 0  speedup is 0.00\n",
      "sending incremental file list\n"
     ]
    },
    {
     "name": "stderr",
     "output_type": "stream",
     "text": [
      "rsync: change_dir \"/fs5/p_masi/krishar1/COPDGENE/subjects\" failed: No such file or directory (2)\n",
      "rsync error: some files/attrs were not transferred (see previous errors) (code 23) at main.c(1205) [sender=3.1.3]\n",
      "rsync: change_dir \"/fs5/p_masi/krishar1/COPDGENE/subjects\" failed: No such file or directory (2)\n",
      "rsync error: some files/attrs were not transferred (see previous errors) (code 23) at main.c(1205) [sender=3.1.3]\n"
     ]
    },
    {
     "name": "stdout",
     "output_type": "stream",
     "text": [
      "\n",
      "sent 20 bytes  received 12 bytes  64.00 bytes/sec\n",
      "total size is 0  speedup is 0.00\n",
      "sending incremental file list\n",
      "\n",
      "sent 20 bytes  received 12 bytes  64.00 bytes/sec\n",
      "total size is 0  speedup is 0.00\n",
      "sending incremental file list\n"
     ]
    },
    {
     "name": "stderr",
     "output_type": "stream",
     "text": [
      "rsync: change_dir \"/fs5/p_masi/krishar1/COPDGENE/subjects\" failed: No such file or directory (2)\n",
      "rsync error: some files/attrs were not transferred (see previous errors) (code 23) at main.c(1205) [sender=3.1.3]\n",
      "rsync: change_dir \"/fs5/p_masi/krishar1/COPDGENE/subjects\" failed: No such file or directory (2)\n",
      "rsync error: some files/attrs were not transferred (see previous errors) (code 23) at main.c(1205) [sender=3.1.3]\n"
     ]
    },
    {
     "name": "stdout",
     "output_type": "stream",
     "text": [
      "\n",
      "sent 20 bytes  received 12 bytes  64.00 bytes/sec\n",
      "total size is 0  speedup is 0.00\n",
      "sending incremental file list\n",
      "\n",
      "sent 20 bytes  received 12 bytes  64.00 bytes/sec\n",
      "total size is 0  speedup is 0.00\n",
      "sending incremental file list\n"
     ]
    },
    {
     "name": "stderr",
     "output_type": "stream",
     "text": [
      "rsync: change_dir \"/fs5/p_masi/krishar1/COPDGENE/subjects\" failed: No such file or directory (2)\n",
      "rsync error: some files/attrs were not transferred (see previous errors) (code 23) at main.c(1205) [sender=3.1.3]\n",
      "rsync: change_dir \"/fs5/p_masi/krishar1/COPDGENE/subjects\" failed: No such file or directory (2)\n",
      "rsync error: some files/attrs were not transferred (see previous errors) (code 23) at main.c(1205) [sender=3.1.3]\n"
     ]
    },
    {
     "name": "stdout",
     "output_type": "stream",
     "text": [
      "\n",
      "sent 20 bytes  received 12 bytes  64.00 bytes/sec\n",
      "total size is 0  speedup is 0.00\n",
      "sending incremental file list\n",
      "\n",
      "sent 20 bytes  received 12 bytes  64.00 bytes/sec\n",
      "total size is 0  speedup is 0.00\n",
      "sending incremental file list\n"
     ]
    },
    {
     "name": "stderr",
     "output_type": "stream",
     "text": [
      "rsync: change_dir \"/fs5/p_masi/krishar1/COPDGENE/subjects\" failed: No such file or directory (2)\n",
      "rsync error: some files/attrs were not transferred (see previous errors) (code 23) at main.c(1205) [sender=3.1.3]\n",
      "rsync: change_dir \"/fs5/p_masi/krishar1/COPDGENE/subjects\" failed: No such file or directory (2)\n",
      "rsync error: some files/attrs were not transferred (see previous errors) (code 23) at main.c(1205) [sender=3.1.3]\n",
      "rsync: change_dir \"/fs5/p_masi/krishar1/COPDGENE/subjects\" failed: No such file or directory (2)\n"
     ]
    },
    {
     "name": "stdout",
     "output_type": "stream",
     "text": [
      "\n",
      "sent 20 bytes  received 12 bytes  64.00 bytes/sec\n",
      "total size is 0  speedup is 0.00\n",
      "sending incremental file list\n",
      "\n",
      "sent 20 bytes  received 12 bytes  64.00 bytes/sec\n",
      "total size is 0  speedup is 0.00\n",
      "sending incremental file list\n"
     ]
    },
    {
     "name": "stderr",
     "output_type": "stream",
     "text": [
      "rsync error: some files/attrs were not transferred (see previous errors) (code 23) at main.c(1205) [sender=3.1.3]\n",
      "rsync: change_dir \"/fs5/p_masi/krishar1/COPDGENE/subjects\" failed: No such file or directory (2)\n",
      "rsync error: some files/attrs were not transferred (see previous errors) (code 23) at main.c(1205) [sender=3.1.3]\n"
     ]
    },
    {
     "name": "stdout",
     "output_type": "stream",
     "text": [
      "\n",
      "sent 20 bytes  received 12 bytes  64.00 bytes/sec\n",
      "total size is 0  speedup is 0.00\n",
      "sending incremental file list\n",
      "\n",
      "sent 20 bytes  received 12 bytes  64.00 bytes/sec\n",
      "total size is 0  speedup is 0.00\n",
      "sending incremental file list\n"
     ]
    },
    {
     "name": "stderr",
     "output_type": "stream",
     "text": [
      "rsync: change_dir \"/fs5/p_masi/krishar1/COPDGENE/subjects\" failed: No such file or directory (2)\n",
      "rsync error: some files/attrs were not transferred (see previous errors) (code 23) at main.c(1205) [sender=3.1.3]\n",
      "rsync: change_dir \"/fs5/p_masi/krishar1/COPDGENE/subjects\" failed: No such file or directory (2)\n"
     ]
    },
    {
     "name": "stdout",
     "output_type": "stream",
     "text": [
      "\n",
      "sent 20 bytes  received 12 bytes  64.00 bytes/sec\n",
      "total size is 0  speedup is 0.00\n",
      "sending incremental file list\n"
     ]
    },
    {
     "name": "stderr",
     "output_type": "stream",
     "text": [
      "rsync error: some files/attrs were not transferred (see previous errors) (code 23) at main.c(1205) [sender=3.1.3]\n",
      "rsync: change_dir \"/fs5/p_masi/krishar1/COPDGENE/subjects\" failed: No such file or directory (2)\n",
      "rsync error: some files/attrs were not transferred (see previous errors) (code 23) at main.c(1205) [sender=3.1.3]\n"
     ]
    },
    {
     "name": "stdout",
     "output_type": "stream",
     "text": [
      "\n",
      "sent 20 bytes  received 12 bytes  64.00 bytes/sec\n",
      "total size is 0  speedup is 0.00\n",
      "sending incremental file list\n",
      "\n",
      "sent 20 bytes  received 12 bytes  64.00 bytes/sec\n",
      "total size is 0  speedup is 0.00\n",
      "sending incremental file list\n"
     ]
    },
    {
     "name": "stderr",
     "output_type": "stream",
     "text": [
      "rsync: change_dir \"/fs5/p_masi/krishar1/COPDGENE/subjects\" failed: No such file or directory (2)\n",
      "rsync error: some files/attrs were not transferred (see previous errors) (code 23) at main.c(1205) [sender=3.1.3]\n",
      "rsync: change_dir \"/fs5/p_masi/krishar1/COPDGENE/subjects\" failed: No such file or directory (2)\n",
      "rsync error: some files/attrs were not transferred (see previous errors) (code 23) at main.c(1205) [sender=3.1.3]\n"
     ]
    },
    {
     "name": "stdout",
     "output_type": "stream",
     "text": [
      "\n",
      "sent 20 bytes  received 12 bytes  64.00 bytes/sec\n",
      "total size is 0  speedup is 0.00\n",
      "sending incremental file list\n",
      "\n",
      "sent 20 bytes  received 12 bytes  64.00 bytes/sec\n",
      "total size is 0  speedup is 0.00\n",
      "sending incremental file list\n"
     ]
    },
    {
     "name": "stderr",
     "output_type": "stream",
     "text": [
      "rsync: change_dir \"/fs5/p_masi/krishar1/COPDGENE/subjects\" failed: No such file or directory (2)\n",
      "rsync error: some files/attrs were not transferred (see previous errors) (code 23) at main.c(1205) [sender=3.1.3]\n",
      "rsync: change_dir \"/fs5/p_masi/krishar1/COPDGENE/subjects\" failed: No such file or directory (2)\n",
      "rsync error: some files/attrs were not transferred (see previous errors) (code 23) at main.c(1205) [sender=3.1.3]\n"
     ]
    },
    {
     "name": "stdout",
     "output_type": "stream",
     "text": [
      "\n",
      "sent 20 bytes  received 12 bytes  64.00 bytes/sec\n",
      "total size is 0  speedup is 0.00\n",
      "sending incremental file list\n",
      "\n",
      "sent 20 bytes  received 12 bytes  64.00 bytes/sec\n",
      "total size is 0  speedup is 0.00\n",
      "sending incremental file list\n"
     ]
    },
    {
     "name": "stderr",
     "output_type": "stream",
     "text": [
      "rsync: change_dir \"/fs5/p_masi/krishar1/COPDGENE/subjects\" failed: No such file or directory (2)\n",
      "rsync error: some files/attrs were not transferred (see previous errors) (code 23) at main.c(1205) [sender=3.1.3]\n",
      "rsync: change_dir \"/fs5/p_masi/krishar1/COPDGENE/subjects\" failed: No such file or directory (2)\n",
      "rsync error: some files/attrs were not transferred (see previous errors) (code 23) at main.c(1205) [sender=3.1.3]\n"
     ]
    },
    {
     "name": "stdout",
     "output_type": "stream",
     "text": [
      "\n",
      "sent 20 bytes  received 12 bytes  64.00 bytes/sec\n",
      "total size is 0  speedup is 0.00\n",
      "sending incremental file list\n",
      "\n",
      "sent 20 bytes  received 12 bytes  64.00 bytes/sec\n",
      "total size is 0  speedup is 0.00\n",
      "sending incremental file list\n"
     ]
    },
    {
     "name": "stderr",
     "output_type": "stream",
     "text": [
      "rsync: change_dir \"/fs5/p_masi/krishar1/COPDGENE/subjects\" failed: No such file or directory (2)\n",
      "rsync error: some files/attrs were not transferred (see previous errors) (code 23) at main.c(1205) [sender=3.1.3]\n",
      "rsync: change_dir \"/fs5/p_masi/krishar1/COPDGENE/subjects\" failed: No such file or directory (2)\n",
      "rsync error: some files/attrs were not transferred (see previous errors) (code 23) at main.c(1205) [sender=3.1.3]\n",
      "rsync: change_dir \"/fs5/p_masi/krishar1/COPDGENE/subjects\" failed: No such file or directory (2)\n"
     ]
    },
    {
     "name": "stdout",
     "output_type": "stream",
     "text": [
      "\n",
      "sent 20 bytes  received 12 bytes  64.00 bytes/sec\n",
      "total size is 0  speedup is 0.00\n",
      "sending incremental file list\n",
      "\n",
      "sent 20 bytes  received 12 bytes  64.00 bytes/sec\n",
      "total size is 0  speedup is 0.00\n",
      "sending incremental file list\n"
     ]
    },
    {
     "name": "stderr",
     "output_type": "stream",
     "text": [
      "rsync error: some files/attrs were not transferred (see previous errors) (code 23) at main.c(1205) [sender=3.1.3]\n",
      "rsync: change_dir \"/fs5/p_masi/krishar1/COPDGENE/subjects\" failed: No such file or directory (2)\n",
      "rsync error: some files/attrs were not transferred (see previous errors) (code 23) at main.c(1205) [sender=3.1.3]\n"
     ]
    },
    {
     "name": "stdout",
     "output_type": "stream",
     "text": [
      "\n",
      "sent 20 bytes  received 12 bytes  64.00 bytes/sec\n",
      "total size is 0  speedup is 0.00\n",
      "sending incremental file list\n",
      "\n",
      "sent 20 bytes  received 12 bytes  64.00 bytes/sec\n",
      "total size is 0  speedup is 0.00\n",
      "sending incremental file list\n"
     ]
    },
    {
     "name": "stderr",
     "output_type": "stream",
     "text": [
      "rsync: change_dir \"/fs5/p_masi/krishar1/COPDGENE/subjects\" failed: No such file or directory (2)\n",
      "rsync error: some files/attrs were not transferred (see previous errors) (code 23) at main.c(1205) [sender=3.1.3]\n",
      "rsync: change_dir \"/fs5/p_masi/krishar1/COPDGENE/subjects\" failed: No such file or directory (2)\n",
      "rsync error: some files/attrs were not transferred (see previous errors) (code 23) at main.c(1205) [sender=3.1.3]\n"
     ]
    },
    {
     "name": "stdout",
     "output_type": "stream",
     "text": [
      "\n",
      "sent 20 bytes  received 12 bytes  64.00 bytes/sec\n",
      "total size is 0  speedup is 0.00\n",
      "sending incremental file list\n",
      "\n",
      "sent 20 bytes  received 12 bytes  64.00 bytes/sec\n",
      "total size is 0  speedup is 0.00\n",
      "sending incremental file list\n"
     ]
    },
    {
     "name": "stderr",
     "output_type": "stream",
     "text": [
      "rsync: change_dir \"/fs5/p_masi/krishar1/COPDGENE/subjects\" failed: No such file or directory (2)\n",
      "rsync error: some files/attrs were not transferred (see previous errors) (code 23) at main.c(1205) [sender=3.1.3]\n",
      "rsync: change_dir \"/fs5/p_masi/krishar1/COPDGENE/subjects\" failed: No such file or directory (2)\n",
      "rsync error: some files/attrs were not transferred (see previous errors) (code 23) at main.c(1205) [sender=3.1.3]\n"
     ]
    },
    {
     "name": "stdout",
     "output_type": "stream",
     "text": [
      "\n",
      "sent 20 bytes  received 12 bytes  64.00 bytes/sec\n",
      "total size is 0  speedup is 0.00\n",
      "sending incremental file list\n",
      "\n",
      "sent 20 bytes  received 12 bytes  64.00 bytes/sec\n",
      "total size is 0  speedup is 0.00\n",
      "sending incremental file list\n"
     ]
    },
    {
     "name": "stderr",
     "output_type": "stream",
     "text": [
      "rsync: change_dir \"/fs5/p_masi/krishar1/COPDGENE/subjects\" failed: No such file or directory (2)\n",
      "rsync error: some files/attrs were not transferred (see previous errors) (code 23) at main.c(1205) [sender=3.1.3]\n",
      "rsync: change_dir \"/fs5/p_masi/krishar1/COPDGENE/subjects\" failed: No such file or directory (2)\n",
      "rsync error: some files/attrs were not transferred (see previous errors) (code 23) at main.c(1205) [sender=3.1.3]\n"
     ]
    },
    {
     "name": "stdout",
     "output_type": "stream",
     "text": [
      "\n",
      "sent 20 bytes  received 12 bytes  64.00 bytes/sec\n",
      "total size is 0  speedup is 0.00\n",
      "sending incremental file list\n",
      "\n",
      "sent 20 bytes  received 12 bytes  64.00 bytes/sec\n",
      "total size is 0  speedup is 0.00\n",
      "sending incremental file list\n"
     ]
    },
    {
     "name": "stderr",
     "output_type": "stream",
     "text": [
      "rsync: change_dir \"/fs5/p_masi/krishar1/COPDGENE/subjects\" failed: No such file or directory (2)\n",
      "rsync error: some files/attrs were not transferred (see previous errors) (code 23) at main.c(1205) [sender=3.1.3]\n",
      "rsync: change_dir \"/fs5/p_masi/krishar1/COPDGENE/subjects\" failed: No such file or directory (2)\n",
      "rsync error: some files/attrs were not transferred (see previous errors) (code 23) at main.c(1205) [sender=3.1.3]\n"
     ]
    },
    {
     "name": "stdout",
     "output_type": "stream",
     "text": [
      "\n",
      "sent 20 bytes  received 12 bytes  64.00 bytes/sec\n",
      "total size is 0  speedup is 0.00\n",
      "sending incremental file list\n",
      "\n",
      "sent 20 bytes  received 12 bytes  64.00 bytes/sec\n",
      "total size is 0  speedup is 0.00\n",
      "sending incremental file list\n"
     ]
    },
    {
     "name": "stderr",
     "output_type": "stream",
     "text": [
      "rsync: change_dir \"/fs5/p_masi/krishar1/COPDGENE/subjects\" failed: No such file or directory (2)\n",
      "rsync error: some files/attrs were not transferred (see previous errors) (code 23) at main.c(1205) [sender=3.1.3]\n",
      "rsync: change_dir \"/fs5/p_masi/krishar1/COPDGENE/subjects\" failed: No such file or directory (2)\n",
      "rsync error: some files/attrs were not transferred (see previous errors) (code 23) at main.c(1205) [sender=3.1.3]\n"
     ]
    },
    {
     "name": "stdout",
     "output_type": "stream",
     "text": [
      "\n",
      "sent 20 bytes  received 12 bytes  64.00 bytes/sec\n",
      "total size is 0  speedup is 0.00\n",
      "sending incremental file list\n",
      "\n",
      "sent 20 bytes  received 12 bytes  64.00 bytes/sec\n",
      "total size is 0  speedup is 0.00\n",
      "sending incremental file list\n"
     ]
    },
    {
     "name": "stderr",
     "output_type": "stream",
     "text": [
      "rsync: change_dir \"/fs5/p_masi/krishar1/COPDGENE/subjects\" failed: No such file or directory (2)\n",
      "rsync error: some files/attrs were not transferred (see previous errors) (code 23) at main.c(1205) [sender=3.1.3]\n",
      "rsync: change_dir \"/fs5/p_masi/krishar1/COPDGENE/subjects\" failed: No such file or directory (2)\n",
      "rsync error: some files/attrs were not transferred (see previous errors) (code 23) at main.c(1205) [sender=3.1.3]\n"
     ]
    },
    {
     "name": "stdout",
     "output_type": "stream",
     "text": [
      "\n",
      "sent 20 bytes  received 12 bytes  64.00 bytes/sec\n",
      "total size is 0  speedup is 0.00\n",
      "sending incremental file list\n",
      "\n",
      "sent 20 bytes  received 12 bytes  64.00 bytes/sec\n",
      "total size is 0  speedup is 0.00\n",
      "sending incremental file list\n"
     ]
    },
    {
     "name": "stderr",
     "output_type": "stream",
     "text": [
      "rsync: change_dir \"/fs5/p_masi/krishar1/COPDGENE/subjects\" failed: No such file or directory (2)\n",
      "rsync error: some files/attrs were not transferred (see previous errors) (code 23) at main.c(1205) [sender=3.1.3]\n",
      "rsync: change_dir \"/fs5/p_masi/krishar1/COPDGENE/subjects\" failed: No such file or directory (2)\n",
      "rsync error: some files/attrs were not transferred (see previous errors) (code 23) at main.c(1205) [sender=3.1.3]\n"
     ]
    },
    {
     "name": "stdout",
     "output_type": "stream",
     "text": [
      "\n",
      "sent 20 bytes  received 12 bytes  64.00 bytes/sec\n",
      "total size is 0  speedup is 0.00\n",
      "sending incremental file list\n",
      "\n",
      "sent 20 bytes  received 12 bytes  64.00 bytes/sec\n",
      "total size is 0  speedup is 0.00\n",
      "sending incremental file list\n"
     ]
    },
    {
     "name": "stderr",
     "output_type": "stream",
     "text": [
      "rsync: change_dir \"/fs5/p_masi/krishar1/COPDGENE/subjects\" failed: No such file or directory (2)\n",
      "rsync error: some files/attrs were not transferred (see previous errors) (code 23) at main.c(1205) [sender=3.1.3]\n",
      "rsync: change_dir \"/fs5/p_masi/krishar1/COPDGENE/subjects\" failed: No such file or directory (2)\n",
      "rsync error: some files/attrs were not transferred (see previous errors) (code 23) at main.c(1205) [sender=3.1.3]\n",
      "rsync: change_dir \"/fs5/p_masi/krishar1/COPDGENE/subjects\" failed: No such file or directory (2)\n"
     ]
    },
    {
     "name": "stdout",
     "output_type": "stream",
     "text": [
      "\n",
      "sent 20 bytes  received 12 bytes  64.00 bytes/sec\n",
      "total size is 0  speedup is 0.00\n",
      "sending incremental file list\n",
      "\n",
      "sent 20 bytes  received 12 bytes  64.00 bytes/sec\n",
      "total size is 0  speedup is 0.00\n",
      "sending incremental file list\n"
     ]
    },
    {
     "name": "stderr",
     "output_type": "stream",
     "text": [
      "rsync error: some files/attrs were not transferred (see previous errors) (code 23) at main.c(1205) [sender=3.1.3]\n",
      "rsync: change_dir \"/fs5/p_masi/krishar1/COPDGENE/subjects\" failed: No such file or directory (2)\n",
      "rsync error: some files/attrs were not transferred (see previous errors) (code 23) at main.c(1205) [sender=3.1.3]\n"
     ]
    },
    {
     "name": "stdout",
     "output_type": "stream",
     "text": [
      "\n",
      "sent 20 bytes  received 12 bytes  64.00 bytes/sec\n",
      "total size is 0  speedup is 0.00\n",
      "sending incremental file list\n",
      "\n",
      "sent 20 bytes  received 12 bytes  64.00 bytes/sec\n",
      "total size is 0  speedup is 0.00\n",
      "sending incremental file list\n"
     ]
    },
    {
     "name": "stderr",
     "output_type": "stream",
     "text": [
      "rsync: change_dir \"/fs5/p_masi/krishar1/COPDGENE/subjects\" failed: No such file or directory (2)\n",
      "rsync error: some files/attrs were not transferred (see previous errors) (code 23) at main.c(1205) [sender=3.1.3]\n",
      "rsync: change_dir \"/fs5/p_masi/krishar1/COPDGENE/subjects\" failed: No such file or directory (2)\n",
      "rsync error: some files/attrs were not transferred (see previous errors) (code 23) at main.c(1205) [sender=3.1.3]\n"
     ]
    },
    {
     "name": "stdout",
     "output_type": "stream",
     "text": [
      "\n",
      "sent 20 bytes  received 12 bytes  64.00 bytes/sec\n",
      "total size is 0  speedup is 0.00\n",
      "sending incremental file list\n",
      "\n",
      "sent 20 bytes  received 12 bytes  64.00 bytes/sec\n",
      "total size is 0  speedup is 0.00\n",
      "sending incremental file list\n"
     ]
    },
    {
     "name": "stderr",
     "output_type": "stream",
     "text": [
      "rsync: change_dir \"/fs5/p_masi/krishar1/COPDGENE/subjects\" failed: No such file or directory (2)\n",
      "rsync error: some files/attrs were not transferred (see previous errors) (code 23) at main.c(1205) [sender=3.1.3]\n",
      "rsync: change_dir \"/fs5/p_masi/krishar1/COPDGENE/subjects\" failed: No such file or directory (2)\n",
      "rsync error: some files/attrs were not transferred (see previous errors) (code 23) at main.c(1205) [sender=3.1.3]\n"
     ]
    },
    {
     "name": "stdout",
     "output_type": "stream",
     "text": [
      "\n",
      "sent 20 bytes  received 12 bytes  64.00 bytes/sec\n",
      "total size is 0  speedup is 0.00\n",
      "sending incremental file list\n",
      "\n",
      "sent 20 bytes  received 12 bytes  64.00 bytes/sec\n",
      "total size is 0  speedup is 0.00\n",
      "sending incremental file list\n"
     ]
    },
    {
     "name": "stderr",
     "output_type": "stream",
     "text": [
      "rsync: change_dir \"/fs5/p_masi/krishar1/COPDGENE/subjects\" failed: No such file or directory (2)\n",
      "rsync error: some files/attrs were not transferred (see previous errors) (code 23) at main.c(1205) [sender=3.1.3]\n",
      "rsync: change_dir \"/fs5/p_masi/krishar1/COPDGENE/subjects\" failed: No such file or directory (2)\n",
      "rsync error: some files/attrs were not transferred (see previous errors) (code 23) at main.c(1205) [sender=3.1.3]\n"
     ]
    },
    {
     "name": "stdout",
     "output_type": "stream",
     "text": [
      "\n",
      "sent 20 bytes  received 12 bytes  64.00 bytes/sec\n",
      "total size is 0  speedup is 0.00\n",
      "sending incremental file list\n",
      "\n",
      "sent 20 bytes  received 12 bytes  64.00 bytes/sec\n",
      "total size is 0  speedup is 0.00\n",
      "sending incremental file list\n"
     ]
    },
    {
     "name": "stderr",
     "output_type": "stream",
     "text": [
      "rsync: change_dir \"/fs5/p_masi/krishar1/COPDGENE/subjects\" failed: No such file or directory (2)\n",
      "rsync error: some files/attrs were not transferred (see previous errors) (code 23) at main.c(1205) [sender=3.1.3]\n",
      "rsync: change_dir \"/fs5/p_masi/krishar1/COPDGENE/subjects\" failed: No such file or directory (2)\n",
      "rsync error: some files/attrs were not transferred (see previous errors) (code 23) at main.c(1205) [sender=3.1.3]\n"
     ]
    },
    {
     "name": "stdout",
     "output_type": "stream",
     "text": [
      "\n",
      "sent 20 bytes  received 12 bytes  64.00 bytes/sec\n",
      "total size is 0  speedup is 0.00\n",
      "sending incremental file list\n",
      "\n",
      "sent 20 bytes  received 12 bytes  64.00 bytes/sec\n",
      "total size is 0  speedup is 0.00\n",
      "sending incremental file list\n"
     ]
    },
    {
     "name": "stderr",
     "output_type": "stream",
     "text": [
      "rsync: change_dir \"/fs5/p_masi/krishar1/COPDGENE/subjects\" failed: No such file or directory (2)\n",
      "rsync error: some files/attrs were not transferred (see previous errors) (code 23) at main.c(1205) [sender=3.1.3]\n",
      "rsync: change_dir \"/fs5/p_masi/krishar1/COPDGENE/subjects\" failed: No such file or directory (2)\n",
      "rsync error: some files/attrs were not transferred (see previous errors) (code 23) at main.c(1205) [sender=3.1.3]\n"
     ]
    },
    {
     "name": "stdout",
     "output_type": "stream",
     "text": [
      "\n",
      "sent 20 bytes  received 12 bytes  64.00 bytes/sec\n",
      "total size is 0  speedup is 0.00\n",
      "sending incremental file list\n",
      "\n",
      "sent 20 bytes  received 12 bytes  64.00 bytes/sec\n",
      "total size is 0  speedup is 0.00\n",
      "sending incremental file list\n"
     ]
    },
    {
     "name": "stderr",
     "output_type": "stream",
     "text": [
      "rsync: change_dir \"/fs5/p_masi/krishar1/COPDGENE/subjects\" failed: No such file or directory (2)\n",
      "rsync error: some files/attrs were not transferred (see previous errors) (code 23) at main.c(1205) [sender=3.1.3]\n",
      "rsync: change_dir \"/fs5/p_masi/krishar1/COPDGENE/subjects\" failed: No such file or directory (2)\n",
      "rsync error: some files/attrs were not transferred (see previous errors) (code 23) at main.c(1205) [sender=3.1.3]\n"
     ]
    },
    {
     "name": "stdout",
     "output_type": "stream",
     "text": [
      "\n",
      "sent 20 bytes  received 12 bytes  64.00 bytes/sec\n",
      "total size is 0  speedup is 0.00\n",
      "sending incremental file list\n",
      "\n",
      "sent 20 bytes  received 12 bytes  64.00 bytes/sec\n",
      "total size is 0  speedup is 0.00\n",
      "sending incremental file list\n"
     ]
    },
    {
     "name": "stderr",
     "output_type": "stream",
     "text": [
      "rsync: change_dir \"/fs5/p_masi/krishar1/COPDGENE/subjects\" failed: No such file or directory (2)\n",
      "rsync error: some files/attrs were not transferred (see previous errors) (code 23) at main.c(1205) [sender=3.1.3]\n",
      "rsync: change_dir \"/fs5/p_masi/krishar1/COPDGENE/subjects\" failed: No such file or directory (2)\n",
      "rsync error: some files/attrs were not transferred (see previous errors) (code 23) at main.c(1205) [sender=3.1.3]\n"
     ]
    },
    {
     "name": "stdout",
     "output_type": "stream",
     "text": [
      "\n",
      "sent 20 bytes  received 12 bytes  64.00 bytes/sec\n",
      "total size is 0  speedup is 0.00\n",
      "sending incremental file list\n",
      "\n",
      "sent 20 bytes  received 12 bytes  64.00 bytes/sec\n",
      "total size is 0  speedup is 0.00\n",
      "sending incremental file list\n"
     ]
    },
    {
     "name": "stderr",
     "output_type": "stream",
     "text": [
      "rsync: change_dir \"/fs5/p_masi/krishar1/COPDGENE/subjects\" failed: No such file or directory (2)\n",
      "rsync error: some files/attrs were not transferred (see previous errors) (code 23) at main.c(1205) [sender=3.1.3]\n",
      "rsync: change_dir \"/fs5/p_masi/krishar1/COPDGENE/subjects\" failed: No such file or directory (2)\n",
      "rsync error: some files/attrs were not transferred (see previous errors) (code 23) at main.c(1205) [sender=3.1.3]\n"
     ]
    },
    {
     "name": "stdout",
     "output_type": "stream",
     "text": [
      "\n",
      "sent 20 bytes  received 12 bytes  64.00 bytes/sec\n",
      "total size is 0  speedup is 0.00\n",
      "sending incremental file list\n",
      "\n",
      "sent 20 bytes  received 12 bytes  64.00 bytes/sec\n",
      "total size is 0  speedup is 0.00\n",
      "sending incremental file list\n"
     ]
    },
    {
     "name": "stderr",
     "output_type": "stream",
     "text": [
      "rsync: change_dir \"/fs5/p_masi/krishar1/COPDGENE/subjects\" failed: No such file or directory (2)\n",
      "rsync error: some files/attrs were not transferred (see previous errors) (code 23) at main.c(1205) [sender=3.1.3]\n",
      "rsync: change_dir \"/fs5/p_masi/krishar1/COPDGENE/subjects\" failed: No such file or directory (2)\n",
      "rsync error: some files/attrs were not transferred (see previous errors) (code 23) at main.c(1205) [sender=3.1.3]\n"
     ]
    },
    {
     "name": "stdout",
     "output_type": "stream",
     "text": [
      "\n",
      "sent 20 bytes  received 12 bytes  64.00 bytes/sec\n",
      "total size is 0  speedup is 0.00\n",
      "sending incremental file list\n",
      "\n",
      "sent 20 bytes  received 12 bytes  64.00 bytes/sec\n",
      "total size is 0  speedup is 0.00\n",
      "sending incremental file list\n"
     ]
    },
    {
     "name": "stderr",
     "output_type": "stream",
     "text": [
      "rsync: change_dir \"/fs5/p_masi/krishar1/COPDGENE/subjects\" failed: No such file or directory (2)\n",
      "rsync error: some files/attrs were not transferred (see previous errors) (code 23) at main.c(1205) [sender=3.1.3]\n",
      "rsync: change_dir \"/fs5/p_masi/krishar1/COPDGENE/subjects\" failed: No such file or directory (2)\n",
      "rsync error: some files/attrs were not transferred (see previous errors) (code 23) at main.c(1205) [sender=3.1.3]\n"
     ]
    },
    {
     "name": "stdout",
     "output_type": "stream",
     "text": [
      "\n",
      "sent 20 bytes  received 12 bytes  64.00 bytes/sec\n",
      "total size is 0  speedup is 0.00\n",
      "sending incremental file list\n",
      "\n",
      "sent 20 bytes  received 12 bytes  64.00 bytes/sec\n",
      "total size is 0  speedup is 0.00\n",
      "sending incremental file list\n"
     ]
    },
    {
     "name": "stderr",
     "output_type": "stream",
     "text": [
      "rsync: change_dir \"/fs5/p_masi/krishar1/COPDGENE/subjects\" failed: No such file or directory (2)\n",
      "rsync error: some files/attrs were not transferred (see previous errors) (code 23) at main.c(1205) [sender=3.1.3]\n",
      "rsync: change_dir \"/fs5/p_masi/krishar1/COPDGENE/subjects\" failed: No such file or directory (2)\n",
      "rsync error: some files/attrs were not transferred (see previous errors) (code 23) at main.c(1205) [sender=3.1.3]\n"
     ]
    },
    {
     "name": "stdout",
     "output_type": "stream",
     "text": [
      "\n",
      "sent 20 bytes  received 12 bytes  64.00 bytes/sec\n",
      "total size is 0  speedup is 0.00\n",
      "sending incremental file list\n",
      "\n",
      "sent 20 bytes  received 12 bytes  64.00 bytes/sec\n",
      "total size is 0  speedup is 0.00\n",
      "sending incremental file list\n"
     ]
    },
    {
     "name": "stderr",
     "output_type": "stream",
     "text": [
      "rsync: change_dir \"/fs5/p_masi/krishar1/COPDGENE/subjects\" failed: No such file or directory (2)\n",
      "rsync error: some files/attrs were not transferred (see previous errors) (code 23) at main.c(1205) [sender=3.1.3]\n",
      "rsync: change_dir \"/fs5/p_masi/krishar1/COPDGENE/subjects\" failed: No such file or directory (2)\n",
      "rsync error: some files/attrs were not transferred (see previous errors) (code 23) at main.c(1205) [sender=3.1.3]\n",
      "rsync: change_dir \"/fs5/p_masi/krishar1/COPDGENE/subjects\" failed: No such file or directory (2)\n"
     ]
    },
    {
     "name": "stdout",
     "output_type": "stream",
     "text": [
      "\n",
      "sent 20 bytes  received 12 bytes  64.00 bytes/sec\n",
      "total size is 0  speedup is 0.00\n",
      "sending incremental file list\n",
      "\n",
      "sent 20 bytes  received 12 bytes  64.00 bytes/sec\n",
      "total size is 0  speedup is 0.00\n",
      "sending incremental file list\n"
     ]
    },
    {
     "name": "stderr",
     "output_type": "stream",
     "text": [
      "rsync error: some files/attrs were not transferred (see previous errors) (code 23) at main.c(1205) [sender=3.1.3]\n",
      "rsync: change_dir \"/fs5/p_masi/krishar1/COPDGENE/subjects\" failed: No such file or directory (2)\n",
      "rsync error: some files/attrs were not transferred (see previous errors) (code 23) at main.c(1205) [sender=3.1.3]\n"
     ]
    },
    {
     "name": "stdout",
     "output_type": "stream",
     "text": [
      "\n",
      "sent 20 bytes  received 12 bytes  64.00 bytes/sec\n",
      "total size is 0  speedup is 0.00\n",
      "sending incremental file list\n",
      "\n",
      "sent 20 bytes  received 12 bytes  64.00 bytes/sec\n",
      "total size is 0  speedup is 0.00\n",
      "sending incremental file list\n"
     ]
    },
    {
     "name": "stderr",
     "output_type": "stream",
     "text": [
      "rsync: change_dir \"/fs5/p_masi/krishar1/COPDGENE/subjects\" failed: No such file or directory (2)\n",
      "rsync error: some files/attrs were not transferred (see previous errors) (code 23) at main.c(1205) [sender=3.1.3]\n",
      "rsync: change_dir \"/fs5/p_masi/krishar1/COPDGENE/subjects\" failed: No such file or directory (2)\n",
      "rsync error: some files/attrs were not transferred (see previous errors) (code 23) at main.c(1205) [sender=3.1.3]\n",
      "rsync: change_dir \"/fs5/p_masi/krishar1/COPDGENE/subjects\" failed: No such file or directory (2)\n"
     ]
    },
    {
     "name": "stdout",
     "output_type": "stream",
     "text": [
      "\n",
      "sent 20 bytes  received 12 bytes  64.00 bytes/sec\n",
      "total size is 0  speedup is 0.00\n",
      "sending incremental file list\n",
      "\n",
      "sent 20 bytes  received 12 bytes  64.00 bytes/sec\n",
      "total size is 0  speedup is 0.00\n",
      "sending incremental file list\n"
     ]
    },
    {
     "name": "stderr",
     "output_type": "stream",
     "text": [
      "rsync error: some files/attrs were not transferred (see previous errors) (code 23) at main.c(1205) [sender=3.1.3]\n",
      "rsync: change_dir \"/fs5/p_masi/krishar1/COPDGENE/subjects\" failed: No such file or directory (2)\n",
      "rsync error: some files/attrs were not transferred (see previous errors) (code 23) at main.c(1205) [sender=3.1.3]\n"
     ]
    },
    {
     "name": "stdout",
     "output_type": "stream",
     "text": [
      "\n",
      "sent 20 bytes  received 12 bytes  64.00 bytes/sec\n",
      "total size is 0  speedup is 0.00\n",
      "sending incremental file list\n",
      "\n",
      "sent 20 bytes  received 12 bytes  64.00 bytes/sec\n",
      "total size is 0  speedup is 0.00\n",
      "sending incremental file list\n"
     ]
    },
    {
     "name": "stderr",
     "output_type": "stream",
     "text": [
      "rsync: change_dir \"/fs5/p_masi/krishar1/COPDGENE/subjects\" failed: No such file or directory (2)\n",
      "rsync error: some files/attrs were not transferred (see previous errors) (code 23) at main.c(1205) [sender=3.1.3]\n",
      "rsync: change_dir \"/fs5/p_masi/krishar1/COPDGENE/subjects\" failed: No such file or directory (2)\n",
      "rsync error: some files/attrs were not transferred (see previous errors) (code 23) at main.c(1205) [sender=3.1.3]\n"
     ]
    },
    {
     "name": "stdout",
     "output_type": "stream",
     "text": [
      "\n",
      "sent 20 bytes  received 12 bytes  64.00 bytes/sec\n",
      "total size is 0  speedup is 0.00\n",
      "sending incremental file list\n",
      "\n",
      "sent 20 bytes  received 12 bytes  64.00 bytes/sec\n",
      "total size is 0  speedup is 0.00\n",
      "sending incremental file list\n"
     ]
    },
    {
     "name": "stderr",
     "output_type": "stream",
     "text": [
      "rsync: change_dir \"/fs5/p_masi/krishar1/COPDGENE/subjects\" failed: No such file or directory (2)\n",
      "rsync error: some files/attrs were not transferred (see previous errors) (code 23) at main.c(1205) [sender=3.1.3]\n",
      "rsync: change_dir \"/fs5/p_masi/krishar1/COPDGENE/subjects\" failed: No such file or directory (2)\n",
      "rsync error: some files/attrs were not transferred (see previous errors) (code 23) at main.c(1205) [sender=3.1.3]\n"
     ]
    },
    {
     "name": "stdout",
     "output_type": "stream",
     "text": [
      "\n",
      "sent 20 bytes  received 12 bytes  64.00 bytes/sec\n",
      "total size is 0  speedup is 0.00\n",
      "sending incremental file list\n",
      "\n",
      "sent 20 bytes  received 12 bytes  64.00 bytes/sec\n",
      "total size is 0  speedup is 0.00\n",
      "sending incremental file list\n"
     ]
    },
    {
     "name": "stderr",
     "output_type": "stream",
     "text": [
      "rsync: change_dir \"/fs5/p_masi/krishar1/COPDGENE/subjects\" failed: No such file or directory (2)\n",
      "rsync error: some files/attrs were not transferred (see previous errors) (code 23) at main.c(1205) [sender=3.1.3]\n",
      "rsync: change_dir \"/fs5/p_masi/krishar1/COPDGENE/subjects\" failed: No such file or directory (2)\n",
      "rsync error: some files/attrs were not transferred (see previous errors) (code 23) at main.c(1205) [sender=3.1.3]\n"
     ]
    },
    {
     "name": "stdout",
     "output_type": "stream",
     "text": [
      "\n",
      "sent 20 bytes  received 12 bytes  64.00 bytes/sec\n",
      "total size is 0  speedup is 0.00\n",
      "sending incremental file list\n",
      "\n",
      "sent 20 bytes  received 12 bytes  64.00 bytes/sec\n",
      "total size is 0  speedup is 0.00\n",
      "sending incremental file list\n"
     ]
    },
    {
     "name": "stderr",
     "output_type": "stream",
     "text": [
      "rsync: change_dir \"/fs5/p_masi/krishar1/COPDGENE/subjects\" failed: No such file or directory (2)\n",
      "rsync error: some files/attrs were not transferred (see previous errors) (code 23) at main.c(1205) [sender=3.1.3]\n",
      "rsync: change_dir \"/fs5/p_masi/krishar1/COPDGENE/subjects\" failed: No such file or directory (2)\n",
      "rsync error: some files/attrs were not transferred (see previous errors) (code 23) at main.c(1205) [sender=3.1.3]\n"
     ]
    },
    {
     "name": "stdout",
     "output_type": "stream",
     "text": [
      "\n",
      "sent 20 bytes  received 12 bytes  64.00 bytes/sec\n",
      "total size is 0  speedup is 0.00\n",
      "sending incremental file list\n",
      "\n",
      "sent 20 bytes  received 12 bytes  64.00 bytes/sec\n",
      "total size is 0  speedup is 0.00\n",
      "sending incremental file list\n"
     ]
    },
    {
     "name": "stderr",
     "output_type": "stream",
     "text": [
      "rsync: change_dir \"/fs5/p_masi/krishar1/COPDGENE/subjects\" failed: No such file or directory (2)\n",
      "rsync error: some files/attrs were not transferred (see previous errors) (code 23) at main.c(1205) [sender=3.1.3]\n",
      "rsync: change_dir \"/fs5/p_masi/krishar1/COPDGENE/subjects\" failed: No such file or directory (2)\n",
      "rsync error: some files/attrs were not transferred (see previous errors) (code 23) at main.c(1205) [sender=3.1.3]\n"
     ]
    },
    {
     "name": "stdout",
     "output_type": "stream",
     "text": [
      "\n",
      "sent 20 bytes  received 12 bytes  64.00 bytes/sec\n",
      "total size is 0  speedup is 0.00\n",
      "sending incremental file list\n",
      "\n",
      "sent 20 bytes  received 12 bytes  64.00 bytes/sec\n",
      "total size is 0  speedup is 0.00\n",
      "sending incremental file list\n"
     ]
    },
    {
     "name": "stderr",
     "output_type": "stream",
     "text": [
      "rsync: change_dir \"/fs5/p_masi/krishar1/COPDGENE/subjects\" failed: No such file or directory (2)\n",
      "rsync error: some files/attrs were not transferred (see previous errors) (code 23) at main.c(1205) [sender=3.1.3]\n",
      "rsync: change_dir \"/fs5/p_masi/krishar1/COPDGENE/subjects\" failed: No such file or directory (2)\n",
      "rsync error: some files/attrs were not transferred (see previous errors) (code 23) at main.c(1205) [sender=3.1.3]\n"
     ]
    },
    {
     "name": "stdout",
     "output_type": "stream",
     "text": [
      "\n",
      "sent 20 bytes  received 12 bytes  64.00 bytes/sec\n",
      "total size is 0  speedup is 0.00\n",
      "sending incremental file list\n",
      "\n",
      "sent 20 bytes  received 12 bytes  64.00 bytes/sec\n",
      "total size is 0  speedup is 0.00\n",
      "sending incremental file list\n"
     ]
    },
    {
     "name": "stderr",
     "output_type": "stream",
     "text": [
      "rsync: change_dir \"/fs5/p_masi/krishar1/COPDGENE/subjects\" failed: No such file or directory (2)\n",
      "rsync error: some files/attrs were not transferred (see previous errors) (code 23) at main.c(1205) [sender=3.1.3]\n",
      "rsync: change_dir \"/fs5/p_masi/krishar1/COPDGENE/subjects\" failed: No such file or directory (2)\n",
      "rsync error: some files/attrs were not transferred (see previous errors) (code 23) at main.c(1205) [sender=3.1.3]\n"
     ]
    },
    {
     "name": "stdout",
     "output_type": "stream",
     "text": [
      "\n",
      "sent 20 bytes  received 12 bytes  64.00 bytes/sec\n",
      "total size is 0  speedup is 0.00\n",
      "sending incremental file list\n",
      "\n",
      "sent 20 bytes  received 12 bytes  64.00 bytes/sec\n",
      "total size is 0  speedup is 0.00\n",
      "sending incremental file list\n"
     ]
    },
    {
     "name": "stderr",
     "output_type": "stream",
     "text": [
      "rsync: change_dir \"/fs5/p_masi/krishar1/COPDGENE/subjects\" failed: No such file or directory (2)\n",
      "rsync error: some files/attrs were not transferred (see previous errors) (code 23) at main.c(1205) [sender=3.1.3]\n",
      "rsync: change_dir \"/fs5/p_masi/krishar1/COPDGENE/subjects\" failed: No such file or directory (2)\n",
      "rsync error: some files/attrs were not transferred (see previous errors) (code 23) at main.c(1205) [sender=3.1.3]\n"
     ]
    },
    {
     "name": "stdout",
     "output_type": "stream",
     "text": [
      "\n",
      "sent 20 bytes  received 12 bytes  64.00 bytes/sec\n",
      "total size is 0  speedup is 0.00\n",
      "sending incremental file list\n",
      "\n",
      "sent 20 bytes  received 12 bytes  64.00 bytes/sec\n",
      "total size is 0  speedup is 0.00\n",
      "sending incremental file list\n"
     ]
    },
    {
     "name": "stderr",
     "output_type": "stream",
     "text": [
      "rsync: change_dir \"/fs5/p_masi/krishar1/COPDGENE/subjects\" failed: No such file or directory (2)\n",
      "rsync error: some files/attrs were not transferred (see previous errors) (code 23) at main.c(1205) [sender=3.1.3]\n",
      "rsync: change_dir \"/fs5/p_masi/krishar1/COPDGENE/subjects\" failed: No such file or directory (2)\n",
      "rsync error: some files/attrs were not transferred (see previous errors) (code 23) at main.c(1205) [sender=3.1.3]\n"
     ]
    },
    {
     "name": "stdout",
     "output_type": "stream",
     "text": [
      "\n",
      "sent 20 bytes  received 12 bytes  64.00 bytes/sec\n",
      "total size is 0  speedup is 0.00\n",
      "sending incremental file list\n",
      "\n",
      "sent 20 bytes  received 12 bytes  64.00 bytes/sec\n",
      "total size is 0  speedup is 0.00\n",
      "sending incremental file list\n"
     ]
    },
    {
     "name": "stderr",
     "output_type": "stream",
     "text": [
      "rsync: change_dir \"/fs5/p_masi/krishar1/COPDGENE/subjects\" failed: No such file or directory (2)\n",
      "rsync error: some files/attrs were not transferred (see previous errors) (code 23) at main.c(1205) [sender=3.1.3]\n",
      "rsync: change_dir \"/fs5/p_masi/krishar1/COPDGENE/subjects\" failed: No such file or directory (2)\n",
      "rsync error: some files/attrs were not transferred (see previous errors) (code 23) at main.c(1205) [sender=3.1.3]\n"
     ]
    },
    {
     "name": "stdout",
     "output_type": "stream",
     "text": [
      "\n",
      "sent 20 bytes  received 12 bytes  64.00 bytes/sec\n",
      "total size is 0  speedup is 0.00\n",
      "sending incremental file list\n",
      "\n",
      "sent 20 bytes  received 12 bytes  64.00 bytes/sec\n",
      "total size is 0  speedup is 0.00\n",
      "sending incremental file list\n"
     ]
    },
    {
     "name": "stderr",
     "output_type": "stream",
     "text": [
      "rsync: change_dir \"/fs5/p_masi/krishar1/COPDGENE/subjects\" failed: No such file or directory (2)\n",
      "rsync error: some files/attrs were not transferred (see previous errors) (code 23) at main.c(1205) [sender=3.1.3]\n",
      "rsync: change_dir \"/fs5/p_masi/krishar1/COPDGENE/subjects\" failed: No such file or directory (2)\n",
      "rsync error: some files/attrs were not transferred (see previous errors) (code 23) at main.c(1205) [sender=3.1.3]\n"
     ]
    },
    {
     "name": "stdout",
     "output_type": "stream",
     "text": [
      "\n",
      "sent 20 bytes  received 12 bytes  64.00 bytes/sec\n",
      "total size is 0  speedup is 0.00\n",
      "sending incremental file list\n",
      "\n",
      "sent 20 bytes  received 12 bytes  64.00 bytes/sec\n",
      "total size is 0  speedup is 0.00\n",
      "sending incremental file list\n"
     ]
    },
    {
     "name": "stderr",
     "output_type": "stream",
     "text": [
      "rsync: change_dir \"/fs5/p_masi/krishar1/COPDGENE/subjects\" failed: No such file or directory (2)\n",
      "rsync error: some files/attrs were not transferred (see previous errors) (code 23) at main.c(1205) [sender=3.1.3]\n",
      "rsync: change_dir \"/fs5/p_masi/krishar1/COPDGENE/subjects\" failed: No such file or directory (2)\n",
      "rsync error: some files/attrs were not transferred (see previous errors) (code 23) at main.c(1205) [sender=3.1.3]\n"
     ]
    },
    {
     "name": "stdout",
     "output_type": "stream",
     "text": [
      "\n",
      "sent 20 bytes  received 12 bytes  64.00 bytes/sec\n",
      "total size is 0  speedup is 0.00\n",
      "sending incremental file list\n",
      "\n",
      "sent 20 bytes  received 12 bytes  64.00 bytes/sec\n",
      "total size is 0  speedup is 0.00\n",
      "sending incremental file list\n"
     ]
    },
    {
     "name": "stderr",
     "output_type": "stream",
     "text": [
      "rsync: change_dir \"/fs5/p_masi/krishar1/COPDGENE/subjects\" failed: No such file or directory (2)\n",
      "rsync error: some files/attrs were not transferred (see previous errors) (code 23) at main.c(1205) [sender=3.1.3]\n",
      "rsync: change_dir \"/fs5/p_masi/krishar1/COPDGENE/subjects\" failed: No such file or directory (2)\n",
      "rsync error: some files/attrs were not transferred (see previous errors) (code 23) at main.c(1205) [sender=3.1.3]\n",
      "rsync: change_dir \"/fs5/p_masi/krishar1/COPDGENE/subjects\" failed: No such file or directory (2)\n"
     ]
    },
    {
     "name": "stdout",
     "output_type": "stream",
     "text": [
      "\n",
      "sent 20 bytes  received 12 bytes  64.00 bytes/sec\n",
      "total size is 0  speedup is 0.00\n",
      "sending incremental file list\n",
      "\n",
      "sent 20 bytes  received 12 bytes  64.00 bytes/sec\n",
      "total size is 0  speedup is 0.00\n",
      "sending incremental file list\n"
     ]
    },
    {
     "name": "stderr",
     "output_type": "stream",
     "text": [
      "rsync error: some files/attrs were not transferred (see previous errors) (code 23) at main.c(1205) [sender=3.1.3]\n",
      "rsync: change_dir \"/fs5/p_masi/krishar1/COPDGENE/subjects\" failed: No such file or directory (2)\n",
      "rsync error: some files/attrs were not transferred (see previous errors) (code 23) at main.c(1205) [sender=3.1.3]\n"
     ]
    },
    {
     "name": "stdout",
     "output_type": "stream",
     "text": [
      "\n",
      "sent 20 bytes  received 12 bytes  64.00 bytes/sec\n",
      "total size is 0  speedup is 0.00\n",
      "sending incremental file list\n",
      "\n",
      "sent 20 bytes  received 12 bytes  64.00 bytes/sec\n",
      "total size is 0  speedup is 0.00\n",
      "sending incremental file list\n"
     ]
    },
    {
     "name": "stderr",
     "output_type": "stream",
     "text": [
      "rsync: change_dir \"/fs5/p_masi/krishar1/COPDGENE/subjects\" failed: No such file or directory (2)\n",
      "rsync error: some files/attrs were not transferred (see previous errors) (code 23) at main.c(1205) [sender=3.1.3]\n",
      "rsync: change_dir \"/fs5/p_masi/krishar1/COPDGENE/subjects\" failed: No such file or directory (2)\n",
      "rsync error: some files/attrs were not transferred (see previous errors) (code 23) at main.c(1205) [sender=3.1.3]\n"
     ]
    },
    {
     "name": "stdout",
     "output_type": "stream",
     "text": [
      "\n",
      "sent 20 bytes  received 12 bytes  64.00 bytes/sec\n",
      "total size is 0  speedup is 0.00\n",
      "sending incremental file list\n",
      "\n",
      "sent 20 bytes  received 12 bytes  64.00 bytes/sec\n",
      "total size is 0  speedup is 0.00\n",
      "sending incremental file list\n"
     ]
    },
    {
     "name": "stderr",
     "output_type": "stream",
     "text": [
      "rsync: change_dir \"/fs5/p_masi/krishar1/COPDGENE/subjects\" failed: No such file or directory (2)\n",
      "rsync error: some files/attrs were not transferred (see previous errors) (code 23) at main.c(1205) [sender=3.1.3]\n",
      "rsync: change_dir \"/fs5/p_masi/krishar1/COPDGENE/subjects\" failed: No such file or directory (2)\n",
      "rsync error: some files/attrs were not transferred (see previous errors) (code 23) at main.c(1205) [sender=3.1.3]\n"
     ]
    },
    {
     "name": "stdout",
     "output_type": "stream",
     "text": [
      "\n",
      "sent 20 bytes  received 12 bytes  64.00 bytes/sec\n",
      "total size is 0  speedup is 0.00\n",
      "sending incremental file list\n",
      "\n",
      "sent 20 bytes  received 12 bytes  64.00 bytes/sec\n",
      "total size is 0  speedup is 0.00\n",
      "sending incremental file list\n"
     ]
    },
    {
     "name": "stderr",
     "output_type": "stream",
     "text": [
      "rsync: change_dir \"/fs5/p_masi/krishar1/COPDGENE/subjects\" failed: No such file or directory (2)\n",
      "rsync error: some files/attrs were not transferred (see previous errors) (code 23) at main.c(1205) [sender=3.1.3]\n",
      "rsync: change_dir \"/fs5/p_masi/krishar1/COPDGENE/subjects\" failed: No such file or directory (2)\n",
      "rsync error: some files/attrs were not transferred (see previous errors) (code 23) at main.c(1205) [sender=3.1.3]\n",
      "rsync: change_dir \"/fs5/p_masi/krishar1/COPDGENE/subjects\" failed: No such file or directory (2)\n"
     ]
    },
    {
     "name": "stdout",
     "output_type": "stream",
     "text": [
      "\n",
      "sent 20 bytes  received 12 bytes  64.00 bytes/sec\n",
      "total size is 0  speedup is 0.00\n",
      "sending incremental file list\n",
      "\n",
      "sent 20 bytes  received 12 bytes  64.00 bytes/sec\n",
      "total size is 0  speedup is 0.00\n",
      "sending incremental file list\n"
     ]
    },
    {
     "name": "stderr",
     "output_type": "stream",
     "text": [
      "rsync error: some files/attrs were not transferred (see previous errors) (code 23) at main.c(1205) [sender=3.1.3]\n",
      "rsync: change_dir \"/fs5/p_masi/krishar1/COPDGENE/subjects\" failed: No such file or directory (2)\n",
      "rsync error: some files/attrs were not transferred (see previous errors) (code 23) at main.c(1205) [sender=3.1.3]\n",
      "rsync: change_dir \"/fs5/p_masi/krishar1/COPDGENE/subjects\" failed: No such file or directory (2)\n"
     ]
    },
    {
     "name": "stdout",
     "output_type": "stream",
     "text": [
      "\n",
      "sent 20 bytes  received 12 bytes  64.00 bytes/sec\n",
      "total size is 0  speedup is 0.00\n",
      "sending incremental file list\n",
      "\n",
      "sent 20 bytes  received 12 bytes  64.00 bytes/sec\n",
      "total size is 0  speedup is 0.00\n",
      "sending incremental file list\n"
     ]
    },
    {
     "name": "stderr",
     "output_type": "stream",
     "text": [
      "rsync error: some files/attrs were not transferred (see previous errors) (code 23) at main.c(1205) [sender=3.1.3]\n",
      "rsync: change_dir \"/fs5/p_masi/krishar1/COPDGENE/subjects\" failed: No such file or directory (2)\n",
      "rsync error: some files/attrs were not transferred (see previous errors) (code 23) at main.c(1205) [sender=3.1.3]\n"
     ]
    },
    {
     "name": "stdout",
     "output_type": "stream",
     "text": [
      "\n",
      "sent 20 bytes  received 12 bytes  64.00 bytes/sec\n",
      "total size is 0  speedup is 0.00\n",
      "sending incremental file list\n",
      "\n",
      "sent 20 bytes  received 12 bytes  64.00 bytes/sec\n",
      "total size is 0  speedup is 0.00\n",
      "sending incremental file list\n"
     ]
    },
    {
     "name": "stderr",
     "output_type": "stream",
     "text": [
      "rsync: change_dir \"/fs5/p_masi/krishar1/COPDGENE/subjects\" failed: No such file or directory (2)\n",
      "rsync error: some files/attrs were not transferred (see previous errors) (code 23) at main.c(1205) [sender=3.1.3]\n",
      "rsync: change_dir \"/fs5/p_masi/krishar1/COPDGENE/subjects\" failed: No such file or directory (2)\n",
      "rsync error: some files/attrs were not transferred (see previous errors) (code 23) at main.c(1205) [sender=3.1.3]\n",
      "rsync: change_dir \"/fs5/p_masi/krishar1/COPDGENE/subjects\" failed: No such file or directory (2)\n"
     ]
    },
    {
     "name": "stdout",
     "output_type": "stream",
     "text": [
      "\n",
      "sent 20 bytes  received 12 bytes  64.00 bytes/sec\n",
      "total size is 0  speedup is 0.00\n",
      "sending incremental file list\n",
      "\n",
      "sent 20 bytes  received 12 bytes  64.00 bytes/sec\n",
      "total size is 0  speedup is 0.00\n",
      "sending incremental file list\n"
     ]
    },
    {
     "name": "stderr",
     "output_type": "stream",
     "text": [
      "rsync error: some files/attrs were not transferred (see previous errors) (code 23) at main.c(1205) [sender=3.1.3]\n",
      "rsync: change_dir \"/fs5/p_masi/krishar1/COPDGENE/subjects\" failed: No such file or directory (2)\n",
      "rsync error: some files/attrs were not transferred (see previous errors) (code 23) at main.c(1205) [sender=3.1.3]\n"
     ]
    },
    {
     "name": "stdout",
     "output_type": "stream",
     "text": [
      "\n",
      "sent 20 bytes  received 12 bytes  64.00 bytes/sec\n",
      "total size is 0  speedup is 0.00\n",
      "sending incremental file list\n",
      "\n",
      "sent 20 bytes  received 12 bytes  64.00 bytes/sec\n",
      "total size is 0  speedup is 0.00\n",
      "sending incremental file list\n"
     ]
    },
    {
     "name": "stderr",
     "output_type": "stream",
     "text": [
      "rsync: change_dir \"/fs5/p_masi/krishar1/COPDGENE/subjects\" failed: No such file or directory (2)\n",
      "rsync error: some files/attrs were not transferred (see previous errors) (code 23) at main.c(1205) [sender=3.1.3]\n",
      "rsync: change_dir \"/fs5/p_masi/krishar1/COPDGENE/subjects\" failed: No such file or directory (2)\n",
      "rsync error: some files/attrs were not transferred (see previous errors) (code 23) at main.c(1205) [sender=3.1.3]\n"
     ]
    },
    {
     "name": "stdout",
     "output_type": "stream",
     "text": [
      "\n",
      "sent 20 bytes  received 12 bytes  64.00 bytes/sec\n",
      "total size is 0  speedup is 0.00\n",
      "sending incremental file list\n",
      "\n",
      "sent 20 bytes  received 12 bytes  64.00 bytes/sec\n",
      "total size is 0  speedup is 0.00\n",
      "sending incremental file list\n"
     ]
    },
    {
     "name": "stderr",
     "output_type": "stream",
     "text": [
      "rsync: change_dir \"/fs5/p_masi/krishar1/COPDGENE/subjects\" failed: No such file or directory (2)\n",
      "rsync error: some files/attrs were not transferred (see previous errors) (code 23) at main.c(1205) [sender=3.1.3]\n",
      "rsync: change_dir \"/fs5/p_masi/krishar1/COPDGENE/subjects\" failed: No such file or directory (2)\n",
      "rsync error: some files/attrs were not transferred (see previous errors) (code 23) at main.c(1205) [sender=3.1.3]\n"
     ]
    },
    {
     "name": "stdout",
     "output_type": "stream",
     "text": [
      "\n",
      "sent 20 bytes  received 12 bytes  64.00 bytes/sec\n",
      "total size is 0  speedup is 0.00\n",
      "sending incremental file list\n",
      "\n",
      "sent 20 bytes  received 12 bytes  64.00 bytes/sec\n",
      "total size is 0  speedup is 0.00\n",
      "sending incremental file list\n"
     ]
    },
    {
     "name": "stderr",
     "output_type": "stream",
     "text": [
      "rsync: change_dir \"/fs5/p_masi/krishar1/COPDGENE/subjects\" failed: No such file or directory (2)\n",
      "rsync error: some files/attrs were not transferred (see previous errors) (code 23) at main.c(1205) [sender=3.1.3]\n",
      "rsync: change_dir \"/fs5/p_masi/krishar1/COPDGENE/subjects\" failed: No such file or directory (2)\n",
      "rsync error: some files/attrs were not transferred (see previous errors) (code 23) at main.c(1205) [sender=3.1.3]\n"
     ]
    },
    {
     "name": "stdout",
     "output_type": "stream",
     "text": [
      "\n",
      "sent 20 bytes  received 12 bytes  64.00 bytes/sec\n",
      "total size is 0  speedup is 0.00\n",
      "sending incremental file list\n",
      "\n",
      "sent 20 bytes  received 12 bytes  64.00 bytes/sec\n",
      "total size is 0  speedup is 0.00\n",
      "sending incremental file list\n"
     ]
    },
    {
     "name": "stderr",
     "output_type": "stream",
     "text": [
      "rsync: change_dir \"/fs5/p_masi/krishar1/COPDGENE/subjects\" failed: No such file or directory (2)\n",
      "rsync error: some files/attrs were not transferred (see previous errors) (code 23) at main.c(1205) [sender=3.1.3]\n",
      "rsync: change_dir \"/fs5/p_masi/krishar1/COPDGENE/subjects\" failed: No such file or directory (2)\n",
      "rsync error: some files/attrs were not transferred (see previous errors) (code 23) at main.c(1205) [sender=3.1.3]\n"
     ]
    },
    {
     "name": "stdout",
     "output_type": "stream",
     "text": [
      "\n",
      "sent 20 bytes  received 12 bytes  64.00 bytes/sec\n",
      "total size is 0  speedup is 0.00\n",
      "sending incremental file list\n",
      "\n",
      "sent 20 bytes  received 12 bytes  64.00 bytes/sec\n",
      "total size is 0  speedup is 0.00\n",
      "sending incremental file list\n"
     ]
    },
    {
     "name": "stderr",
     "output_type": "stream",
     "text": [
      "rsync: change_dir \"/fs5/p_masi/krishar1/COPDGENE/subjects\" failed: No such file or directory (2)\n",
      "rsync error: some files/attrs were not transferred (see previous errors) (code 23) at main.c(1205) [sender=3.1.3]\n"
     ]
    },
    {
     "ename": "",
     "evalue": "",
     "output_type": "error",
     "traceback": [
      "\u001b[1;31mCannot execute code, session has been disposed. Please try restarting the Kernel."
     ]
    },
    {
     "ename": "",
     "evalue": "",
     "output_type": "error",
     "traceback": [
      "\u001b[1;31mCannot execute code, session has been disposed. Please try restarting the Kernel. \n",
      "\u001b[1;31mView Jupyter <a href='command:jupyter.viewOutput'>log</a> for further details."
     ]
    }
   ],
   "source": [
    "#Copy the directory to a new folder using rsync\n",
    "for subject in tqdm(copd_subjects):\n",
    "    os.system(f'rsync -avzh --progress /fs5/p_masi/krishar1/COPDGENE/subjects/{subject} /nfs/masi/krishar1/SPIE_2025_InhaleExhaleCT/raw_data')"
   ]
  },
  {
   "cell_type": "code",
   "execution_count": null,
   "metadata": {},
   "outputs": [],
   "source": []
  }
 ],
 "metadata": {
  "kernelspec": {
   "display_name": "lung2",
   "language": "python",
   "name": "python3"
  },
  "language_info": {
   "codemirror_mode": {
    "name": "ipython",
    "version": 3
   },
   "file_extension": ".py",
   "mimetype": "text/x-python",
   "name": "python",
   "nbconvert_exporter": "python",
   "pygments_lexer": "ipython3",
   "version": "3.7.16"
  }
 },
 "nbformat": 4,
 "nbformat_minor": 2
}
